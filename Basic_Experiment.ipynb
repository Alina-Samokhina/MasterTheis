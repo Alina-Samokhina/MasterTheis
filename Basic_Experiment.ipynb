{
 "cells": [
  {
   "cell_type": "markdown",
   "metadata": {},
   "source": [
    "# MsThesis draft"
   ]
  },
  {
   "cell_type": "markdown",
   "metadata": {},
   "source": [
    "## Progress on the 3rd year students' plan"
   ]
  },
  {
   "cell_type": "markdown",
   "metadata": {},
   "source": [
    "### weeks 1-2 (18.02.21)"
   ]
  },
  {
   "cell_type": "markdown",
   "metadata": {},
   "source": [
    "Started from the end of the second week. Although, all the tools were ready.\n",
    "\n",
    "**What**: generative bayesian model  \n",
    "**Why**: \n",
    " - to have more data (datasets are small)\n",
    " - to augment data for better classification quality\n",
    " - to understand where data come from\n",
    " - to check every epoch with acquires distribution and use it as an additional info(?)"
   ]
  },
  {
   "cell_type": "markdown",
   "metadata": {},
   "source": [
    "### week 3 (25.02.21)"
   ]
  },
  {
   "cell_type": "markdown",
   "metadata": {},
   "source": [
    "1. Abstract\n",
    "2. Introduction\n",
    "3. Literature\n",
    "\n",
    "See https://www.overleaf.com/read/xvdctzhxtryw"
   ]
  },
  {
   "cell_type": "markdown",
   "metadata": {},
   "source": [
    "Read papers on LMUs. The data we're working with doesn't sound like a good one to do this stuff.\n",
    "\n",
    "So, I guess, we'll do Bayesian models for data generation. It will be used in an augmentation context.\n",
    "\n",
    "Practical problem (goal): to reduce number of stimulus activations for the resulting models, so that communication via BCI would be faster and less frusrtating. "
   ]
  },
  {
   "cell_type": "markdown",
   "metadata": {},
   "source": [
    "**Begin-talk**\n",
    "\n",
    "\n",
    "**The project goal**  \n",
    "The motivation rises from the desire to better the user experiences with the P300 BCI devices. Which can be achieved by lowering the time needed to choose a stimulus and by increasing the accuracy of that action. One of the ways to do this -- to obtain more and better data.  \n",
    "**The main idea**  \n",
    "Bayesian models allow to investigate different hypothesis about data distribution. And use this knowledge both for augmentation and for gaining the additional info on inference step, like how well the sample fits the aforenamed distribution.  \n",
    "**The expected result**  \n",
    "Empirically proved data generation hypothesis and a model based on it, which allows to achieve the project goal. "
   ]
  },
  {
   "cell_type": "markdown",
   "metadata": {},
   "source": [
    "### week 4 (04.03.21)"
   ]
  },
  {
   "cell_type": "markdown",
   "metadata": {},
   "source": [
    "    State your problem, write a description of your basic algorithm, prepare your computational experiment"
   ]
  },
  {
   "cell_type": "markdown",
   "metadata": {},
   "source": [
    "Problem statement: in overleaf. Needs to be checked.\n",
    "\n",
    "As a basic algorithm, I can remember we implemented vaes as a part of bayesian models course. So I'm gonna try that."
   ]
  },
  {
   "cell_type": "markdown",
   "metadata": {},
   "source": [
    "Code can be found in the second part of the doc"
   ]
  },
  {
   "cell_type": "markdown",
   "metadata": {},
   "source": [
    "### week 5 (11.03.21)"
   ]
  },
  {
   "cell_type": "markdown",
   "metadata": {},
   "source": [
    "    Basic code, draft report on the basic algorithm."
   ]
  },
  {
   "cell_type": "markdown",
   "metadata": {},
   "source": [
    "I have basic code for data processing, and configs templates for computational experiments with different models. I am in a process of understanding what source code from our package can be used in public repositories."
   ]
  },
  {
   "cell_type": "markdown",
   "metadata": {},
   "source": [
    "### week 6 (18.03.21)"
   ]
  },
  {
   "cell_type": "markdown",
   "metadata": {},
   "source": [
    "    Code, visual presentation of results"
   ]
  },
  {
   "cell_type": "markdown",
   "metadata": {},
   "source": [
    "### week 7 (25.03.21)"
   ]
  },
  {
   "cell_type": "markdown",
   "metadata": {},
   "source": [
    "    Describe the algorithm"
   ]
  },
  {
   "cell_type": "markdown",
   "metadata": {},
   "source": [
    "I'm a little behind on this due to personal reasons. \n",
    "\n",
    "Сложный уровень: выставить гипотезы и условия. Сформулировать и доказать теорему."
   ]
  },
  {
   "cell_type": "markdown",
   "metadata": {
    "heading_collapsed": true
   },
   "source": [
    "### upcoming"
   ]
  },
  {
   "cell_type": "markdown",
   "metadata": {
    "hidden": true
   },
   "source": [
    "#### week 8 (01.04.21)"
   ]
  },
  {
   "cell_type": "markdown",
   "metadata": {
    "hidden": true
   },
   "source": [
    "    Make the error and quality analysis. Finalise the computational experiment. "
   ]
  },
  {
   "cell_type": "markdown",
   "metadata": {
    "hidden": true
   },
   "source": [
    "#### week 9 (08.04.21)"
   ]
  },
  {
   "cell_type": "markdown",
   "metadata": {
    "hidden": true
   },
   "source": [
    "    Prepare the theoretical part and computational experiment. Explain the figures, write conclusions. Ready to the second checkpoint. "
   ]
  },
  {
   "cell_type": "markdown",
   "metadata": {
    "hidden": true
   },
   "source": [
    "#### weeks 10-12 "
   ]
  },
  {
   "cell_type": "markdown",
   "metadata": {
    "hidden": true
   },
   "source": [
    "    finalisation"
   ]
  },
  {
   "cell_type": "markdown",
   "metadata": {},
   "source": [
    "## Code part"
   ]
  },
  {
   "cell_type": "markdown",
   "metadata": {},
   "source": [
    "### Imports "
   ]
  },
  {
   "cell_type": "code",
   "execution_count": 1,
   "metadata": {
    "ExecuteTime": {
     "end_time": "2021-03-30T22:19:41.410899Z",
     "start_time": "2021-03-30T22:19:38.759037Z"
    }
   },
   "outputs": [],
   "source": [
    "#import patch_path\n",
    "from code_p300.datasets import P300Dataset, ListDataset\n",
    "from code_p300.utils import data_dir\n",
    "from code_p300 import visualizers as vis\n",
    "import torch"
   ]
  },
  {
   "cell_type": "markdown",
   "metadata": {},
   "source": [
    "### Data "
   ]
  },
  {
   "cell_type": "code",
   "execution_count": 17,
   "metadata": {
    "ExecuteTime": {
     "end_time": "2021-03-24T13:05:03.299821Z",
     "start_time": "2021-03-24T13:05:03.295968Z"
    }
   },
   "outputs": [],
   "source": [
    "# dataset collected at our lab\n",
    "# it's the lightest one I know, so I'll use it\n",
    "# in the upcoming weeks it will be public and available through moabb package\n",
    "# also I will test everythong on public datasets like EPFL and BrainInvaders (through our interfaces)\n",
    "# there's an option to work with moabb datasets directly. \n",
    "# But in my opinion, our version is more flexible ad familiar"
   ]
  },
  {
   "cell_type": "code",
   "execution_count": 2,
   "metadata": {
    "ExecuteTime": {
     "end_time": "2021-03-30T22:19:42.763020Z",
     "start_time": "2021-03-30T22:19:42.759199Z"
    }
   },
   "outputs": [],
   "source": [
    "# Some records have different number of acts. \n",
    "# It doesn't affect anything, but raises warnings while creating dataset\n",
    "# Will be fixed soon\n",
    "import warnings\n",
    "warnings.filterwarnings(\"ignore\", category = UserWarning)"
   ]
  },
  {
   "cell_type": "code",
   "execution_count": 3,
   "metadata": {
    "ExecuteTime": {
     "end_time": "2021-03-30T22:20:09.520741Z",
     "start_time": "2021-03-30T22:19:42.989557Z"
    }
   },
   "outputs": [
    {
     "data": {
      "text/plain": [
       "P300Dataset: huge_demons\n",
       "48 records of 17 to 19 acts\n",
       "epochs shaped (50, 8, 30)"
      ]
     },
     "execution_count": 3,
     "metadata": {},
     "output_type": "execute_result"
    }
   ],
   "source": [
    "ds_train = P300Dataset(data_dir / 'huge_demons', split = 'train')\n",
    "ds_train"
   ]
  },
  {
   "cell_type": "code",
   "execution_count": 4,
   "metadata": {
    "ExecuteTime": {
     "end_time": "2021-03-30T22:20:15.966173Z",
     "start_time": "2021-03-30T22:20:09.522281Z"
    }
   },
   "outputs": [
    {
     "data": {
      "text/plain": [
       "P300Dataset: huge_demons\n",
       "12 records of 18 to 19 acts\n",
       "epochs shaped (50, 8, 30)"
      ]
     },
     "execution_count": 4,
     "metadata": {},
     "output_type": "execute_result"
    }
   ],
   "source": [
    "ds_val = P300Dataset(data_dir / 'huge_demons', split = 'val')\n",
    "ds_val"
   ]
  },
  {
   "cell_type": "code",
   "execution_count": 5,
   "metadata": {
    "ExecuteTime": {
     "end_time": "2021-03-30T22:20:16.393537Z",
     "start_time": "2021-03-30T22:20:15.968729Z"
    }
   },
   "outputs": [
    {
     "data": {
      "text/plain": [
       "(Binary P300 dataset of 48 records\n",
       " eeg shape: torch.Size([945, 8, 30]),\n",
       " Binary P300 dataset of 12 records\n",
       " eeg shape: torch.Size([950, 8, 30]))"
      ]
     },
     "execution_count": 5,
     "metadata": {},
     "output_type": "execute_result"
    }
   ],
   "source": [
    "binds_train = ds_train.binary_dataset()\n",
    "binds_val = ds_val.binary_dataset()\n",
    "binds_train, binds_val"
   ]
  },
  {
   "cell_type": "code",
   "execution_count": 6,
   "metadata": {
    "ExecuteTime": {
     "end_time": "2021-03-27T21:45:37.224346Z",
     "start_time": "2021-03-27T21:45:37.217701Z"
    }
   },
   "outputs": [],
   "source": [
    "def binary_transform(bin_ds):\n",
    "        '''Transforms data of binary dataset to friendly format, leaving only target epochs\n",
    "\n",
    "        Args:\n",
    "            bin_ds: BinaryDataset instance\n",
    "\n",
    "        Returns:\n",
    "            list of (epoch, label) tuple\n",
    "        '''\n",
    "\n",
    "        items = []\n",
    "        for epochs_i, labels_i in bin_ds:\n",
    "            for epoch, label in zip(epochs_i, labels_i):\n",
    "                #if label==1:\n",
    "                items.append((torch.flatten(epoch),label))\n",
    "        return items\n"
   ]
  },
  {
   "cell_type": "code",
   "execution_count": 7,
   "metadata": {
    "ExecuteTime": {
     "end_time": "2021-03-27T21:45:37.573881Z",
     "start_time": "2021-03-27T21:45:37.230711Z"
    }
   },
   "outputs": [],
   "source": [
    "data = binary_transform(binds_train)\n",
    "train_set = ListDataset(data)"
   ]
  },
  {
   "cell_type": "code",
   "execution_count": 8,
   "metadata": {
    "ExecuteTime": {
     "end_time": "2021-03-27T21:45:37.741960Z",
     "start_time": "2021-03-27T21:45:37.575344Z"
    }
   },
   "outputs": [],
   "source": [
    "data = binary_transform(binds_val)\n",
    "valid_set = ListDataset(data)"
   ]
  },
  {
   "cell_type": "markdown",
   "metadata": {},
   "source": [
    "### Simple use of AE as encoding (just to remember what it's like)"
   ]
  },
  {
   "cell_type": "code",
   "execution_count": 12,
   "metadata": {
    "ExecuteTime": {
     "end_time": "2021-03-27T21:46:47.809116Z",
     "start_time": "2021-03-27T21:46:47.806956Z"
    }
   },
   "outputs": [],
   "source": [
    "from code_p300.bayesian import  vae"
   ]
  },
  {
   "cell_type": "code",
   "execution_count": 13,
   "metadata": {
    "ExecuteTime": {
     "end_time": "2021-03-27T21:46:47.987864Z",
     "start_time": "2021-03-27T21:46:47.980223Z"
    }
   },
   "outputs": [],
   "source": [
    "from torch.utils.data import  DataLoader\n",
    "from tqdm import tqdm\n",
    "from torch import optim\n",
    "\n",
    "def train_on_batch(model,\n",
    "                   batch_of_x,\n",
    "                   batch_of_y,\n",
    "                   optimizer):\n",
    "\n",
    "    model.zero_grad()\n",
    "    loss = model.loss(batch_of_x, batch_of_y)\n",
    "    loss.backward()\n",
    "    optimizer.step()\n",
    "    return\n",
    "\n",
    "\n",
    "def train_epoch(model,\n",
    "                train_generator,\n",
    "                optimizer):\n",
    "\n",
    "    model.train()\n",
    "    for it, (batch_of_x, batch_of_y) in enumerate(train_generator):\n",
    "        train_on_batch(model, batch_of_x, batch_of_y, optimizer)\n",
    "    return\n",
    "\n",
    "\n",
    "def trainer(model,\n",
    "            optimizer,\n",
    "            dataset,\n",
    "            count_of_epoch=5,\n",
    "            batch_size=64,\n",
    "            progress=None):\n",
    "\n",
    "    iterations = range(count_of_epoch)\n",
    "    \n",
    "    if progress is not None:\n",
    "        iterations = progress(iterations)\n",
    "\n",
    "    for it in iterations:\n",
    "        batch_generator = DataLoader(\n",
    "            dataset=dataset,\n",
    "            batch_size=batch_size,\n",
    "            shuffle=True,\n",
    "            pin_memory=True)\n",
    "        train_epoch(\n",
    "            model=model,\n",
    "            train_generator=batch_generator,\n",
    "            optimizer=optimizer)\n",
    "    return"
   ]
  },
  {
   "cell_type": "code",
   "execution_count": 14,
   "metadata": {
    "ExecuteTime": {
     "end_time": "2021-03-27T21:46:48.139325Z",
     "start_time": "2021-03-27T21:46:48.136601Z"
    }
   },
   "outputs": [],
   "source": [
    "import matplotlib.pyplot as plt\n",
    "import numpy as np"
   ]
  },
  {
   "cell_type": "code",
   "execution_count": 15,
   "metadata": {
    "ExecuteTime": {
     "end_time": "2021-03-27T21:46:48.413106Z",
     "start_time": "2021-03-27T21:46:48.301826Z"
    }
   },
   "outputs": [],
   "source": [
    "from code_p300.models import clfs_full, bin_scores"
   ]
  },
  {
   "cell_type": "code",
   "execution_count": 16,
   "metadata": {
    "ExecuteTime": {
     "end_time": "2021-03-27T21:46:48.653871Z",
     "start_time": "2021-03-27T21:46:48.645183Z"
    }
   },
   "outputs": [],
   "source": [
    "from sklearn.metrics import accuracy_score, f1_score, roc_auc_score\n",
    "from sklearn.linear_model import LogisticRegression\n",
    "\n",
    "def encode_epochs(model, bin_ds):\n",
    "    '''Gets BinaryDataset and transforms it to encoder latent space images of epochs and labels\n",
    "\n",
    "    Encodes epochs with `encoder` part of passed model\n",
    "\n",
    "    Args:\n",
    "        model: model with encoder part to get latent representation of epochs\n",
    "        bin_ds: BinaryDataset to transform\n",
    "\n",
    "    Returns:\n",
    "        tuple of arrays of epochs and labels\n",
    "    '''\n",
    "    epochs = []\n",
    "    labels = []\n",
    "    for epochs_i, labels_i in bin_ds:\n",
    "        distr = model.q_z(epochs_i.view(-1, 240))\n",
    "        encoded = model.sample_z(distr)\n",
    "        encoded = encoded.detach()\n",
    "        epochs.append(torch.flatten(encoded, 1))\n",
    "        labels.append(labels_i)\n",
    "        \n",
    "    return torch.cat(epochs).numpy(), np.array(labels)\n",
    "\n",
    "\n",
    "def evaluate_ae(model, bin_train, bin_val):\n",
    "    '''Calculates binary metrics on validation dataset\n",
    "\n",
    "    Transforms dataset with encode_epochs and uses LogisticRegression for predictions\n",
    "\n",
    "    Args:\n",
    "        model: already trained autoencoder to use\n",
    "        dataset_train: dataset to train LogisticRegression on\n",
    "        dataset_val: dataset for evaluation\n",
    "\n",
    "    Returns:\n",
    "        dict of scores values: accuracy, f1_score and roc-auc\n",
    "    '''\n",
    "\n",
    "    encoded_train, labels_train = encode_epochs(model, bin_train)\n",
    "    encoded_val, labels_val = encode_epochs(model, bin_val)\n",
    "\n",
    "    lr = LogisticRegression(class_weight='balanced')\n",
    "    lr.fit(encoded_train, labels_train)\n",
    "    labels_pred = lr.predict(encoded_val)\n",
    "\n",
    "    acc = accuracy_score(labels_val, labels_pred)\n",
    "    f1 = f1_score(labels_val, labels_pred)\n",
    "    roc_auc = roc_auc_score(labels_val, labels_pred)\n",
    "    return {'accuracy': acc, 'f1_score': f1, 'roc-auc': roc_auc}\n"
   ]
  },
  {
   "cell_type": "code",
   "execution_count": 6,
   "metadata": {
    "ExecuteTime": {
     "end_time": "2021-03-30T22:26:22.603886Z",
     "start_time": "2021-03-30T22:26:22.599900Z"
    }
   },
   "outputs": [],
   "source": [
    "from collections import defaultdict\n",
    "\n",
    "from sklearn.base import clone\n",
    "\n",
    "from code_p300.types import Directory\n",
    "from code_p300.utils import score, tmp_dir\n",
    "\n",
    "\n",
    "def evaluate_game(\n",
    "    dataset: P300Dataset,\n",
    "    train_acts: int,\n",
    "    classifier,\n",
    "    scores: tuple,\n",
    "    *,\n",
    "    augment_vae= None,\n",
    "    vae = None,\n",
    "    artifacts_dir: Directory = tmp_dir,\n",
    "    verbose: bool = False,\n",
    "    log: bool = True,\n",
    "):\n",
    "    '''Tests given dataset for metrics with default trainable classifier\n",
    "\n",
    "    Args:\n",
    "        dataset: obvious\n",
    "        train_acts: number of first acts for each person to train on\n",
    "        classifier: classifier object with standard sklearn interface\n",
    "\n",
    "    Returns\n",
    "        Dict with means and stds for each calculated metric\n",
    "    '''\n",
    "    # *** appears to be partly private code and depending on private constructs***\n",
    "    # affects only multiclass labels, so must be ok not to use it"
   ]
  },
  {
   "cell_type": "code",
   "execution_count": 18,
   "metadata": {
    "ExecuteTime": {
     "end_time": "2021-03-27T21:46:49.458225Z",
     "start_time": "2021-03-27T21:46:49.450078Z"
    }
   },
   "outputs": [],
   "source": [
    "SMALL_SIZE = 14\n",
    "MEDIUM_SIZE = 16\n",
    "BIGGER_SIZE = 20\n",
    "\n",
    "plt.rc('font', size=SMALL_SIZE)\n",
    "plt.rc('axes', titlesize=MEDIUM_SIZE)\n",
    "plt.rc('axes', labelsize=MEDIUM_SIZE)\n",
    "plt.rc('xtick', labelsize=SMALL_SIZE)\n",
    "plt.rc('ytick', labelsize=SMALL_SIZE)\n",
    "plt.rc('legend', fontsize=SMALL_SIZE)\n",
    "plt.rc('figure', titlesize=BIGGER_SIZE)"
   ]
  },
  {
   "cell_type": "code",
   "execution_count": 19,
   "metadata": {
    "ExecuteTime": {
     "end_time": "2021-03-27T21:46:49.913005Z",
     "start_time": "2021-03-27T21:46:49.905997Z"
    }
   },
   "outputs": [],
   "source": [
    "def plot_orig_reconstr(original_x, reconstructed_x):\n",
    "    plt.figure(figsize = (14, 8))\n",
    "    ticks = np.linspace(0, 30, 9)\n",
    "    labels = np.linspace(ds_train.epoch_start*1000, ds_train.epoch_end*1000, 9, dtype=int)\n",
    "    plt.plot(original_x.mean(axis=0), color = 'b', label = 'original eeg')\n",
    "    plt.plot(reconstructed_x.mean(axis=0), color='g', label = 'reconstructed eeg')\n",
    "    plt.xticks(ticks = ticks, labels = labels)\n",
    "    plt.xlabel('miliseconds')\n",
    "    plt.ylabel('normalized mkv')\n",
    "    plt.grid(True)\n",
    "    plt.legend(loc='best')\n",
    "    plt.show()"
   ]
  },
  {
   "cell_type": "code",
   "execution_count": 20,
   "metadata": {
    "ExecuteTime": {
     "end_time": "2021-03-27T21:46:50.395312Z",
     "start_time": "2021-03-27T21:46:50.388069Z"
    }
   },
   "outputs": [],
   "source": [
    "def binary_transform_target(bin_ds):\n",
    "        '''Transforms data of binary dataset to friendly format, leaving only target or non-target epochs\n",
    "\n",
    "        Args:\n",
    "            bin_ds: BinaryDataset instance\n",
    "\n",
    "        Returns:\n",
    "            list of (epoch, label) tuple\n",
    "        '''\n",
    "\n",
    "        items = []\n",
    "        for epochs_i, labels_i in bin_ds:\n",
    "            for epoch, label in zip(epochs_i, labels_i):\n",
    "                if (label.numpy()==1):\n",
    "                    items.append((torch.flatten(epoch),label))\n",
    "        return items\n"
   ]
  },
  {
   "cell_type": "code",
   "execution_count": 21,
   "metadata": {
    "ExecuteTime": {
     "end_time": "2021-03-27T21:46:50.912074Z",
     "start_time": "2021-03-27T21:46:50.898993Z"
    }
   },
   "outputs": [],
   "source": [
    "def plot_orig_sampled(original_x, reconstructed_x):\n",
    "    plt.figure(figsize = (14, 8))\n",
    "    ticks = np.linspace(0, 30, 9)\n",
    "    labels = np.linspace(ds_train.epoch_start*1000, ds_train.epoch_end*1000, 9, dtype=int)\n",
    "    plt.plot(original_x.mean(axis=0), color = 'b', label = 'original eeg')\n",
    "    plt.plot(reconstructed_x.mean(axis=0), color='g', label = 'sampled eeg')\n",
    "    plt.xticks(ticks = ticks, labels = labels)\n",
    "    plt.xlabel('miliseconds')\n",
    "    plt.ylabel('normalized mkv')\n",
    "    plt.grid(True)\n",
    "    plt.legend(loc='best')\n",
    "    plt.show()"
   ]
  },
  {
   "cell_type": "code",
   "execution_count": 22,
   "metadata": {
    "ExecuteTime": {
     "end_time": "2021-03-27T21:46:54.214897Z",
     "start_time": "2021-03-27T21:46:54.206382Z"
    }
   },
   "outputs": [
    {
     "data": {
      "text/plain": [
       "torch.Size([8, 30])"
      ]
     },
     "execution_count": 22,
     "metadata": {},
     "output_type": "execute_result"
    }
   ],
   "source": [
    "epoch_shape= binds_train[0][0].shape[1:]\n",
    "epoch_shape"
   ]
  },
  {
   "cell_type": "markdown",
   "metadata": {},
   "source": [
    "#### train model "
   ]
  },
  {
   "cell_type": "code",
   "execution_count": 12,
   "metadata": {
    "ExecuteTime": {
     "end_time": "2021-03-27T18:13:16.388042Z",
     "start_time": "2021-03-27T18:13:16.379479Z"
    },
    "colab": {},
    "colab_type": "code",
    "id": "T4BADLD9RSyn"
   },
   "outputs": [],
   "source": [
    "model = vae.VAE(32, epoch_shape[0]*epoch_shape[1], device='cpu')"
   ]
  },
  {
   "cell_type": "code",
   "execution_count": 13,
   "metadata": {
    "ExecuteTime": {
     "end_time": "2021-03-27T18:13:16.396068Z",
     "start_time": "2021-03-27T18:13:16.389461Z"
    },
    "colab": {},
    "colab_type": "code",
    "id": "YrgBN-zJRSyp"
   },
   "outputs": [],
   "source": [
    "optimizer = optim.Adam(model.parameters(), lr=0.001)"
   ]
  },
  {
   "cell_type": "code",
   "execution_count": 14,
   "metadata": {
    "ExecuteTime": {
     "end_time": "2021-03-27T18:13:38.091546Z",
     "start_time": "2021-03-27T18:13:16.398639Z"
    },
    "colab": {
     "base_uri": "https://localhost:8080/",
     "height": 731
    },
    "colab_type": "code",
    "id": "OM_l95GnRSyq",
    "outputId": "654a8b52-036d-4d96-b921-22d8a15348eb"
   },
   "outputs": [
    {
     "name": "stderr",
     "output_type": "stream",
     "text": [
      "100%|██████████| 30/30 [00:21<00:00,  1.38it/s]\n"
     ]
    }
   ],
   "source": [
    "trainer(model=model,\n",
    "        optimizer=optimizer,\n",
    "        dataset=train_set,\n",
    "        count_of_epoch=30,\n",
    "        batch_size=1024,\n",
    "        progress=tqdm)"
   ]
  },
  {
   "cell_type": "raw",
   "metadata": {
    "ExecuteTime": {
     "end_time": "2021-03-24T12:11:24.223027Z",
     "start_time": "2021-03-24T12:11:24.216197Z"
    },
    "colab": {},
    "colab_type": "code",
    "id": "4xP_DbtohAKf"
   },
   "source": [
    "torch.save(model.state_dict(), './saved_models/vae_d_2.model')\n",
    "#files.download('./models/vae_d_2.model')"
   ]
  },
  {
   "cell_type": "raw",
   "metadata": {
    "ExecuteTime": {
     "end_time": "2021-03-25T17:41:11.129817Z",
     "start_time": "2021-03-25T17:41:11.113644Z"
    },
    "colab": {
     "base_uri": "https://localhost:8080/",
     "height": 34
    },
    "colab_type": "code",
    "id": "JHWk31EliunG",
    "outputId": "7ad9afae-e53a-424e-9331-6b50cf55063e"
   },
   "source": [
    "model.load_state_dict(torch.load('./saved_models/vae_d_2.model'))"
   ]
  },
  {
   "cell_type": "raw",
   "metadata": {
    "ExecuteTime": {
     "end_time": "2021-03-27T18:13:38.110088Z",
     "start_time": "2021-03-27T18:13:38.093699Z"
    }
   },
   "source": [
    "model.state_dict()"
   ]
  },
  {
   "cell_type": "markdown",
   "metadata": {},
   "source": [
    "#### evaluate model"
   ]
  },
  {
   "cell_type": "code",
   "execution_count": 21,
   "metadata": {
    "ExecuteTime": {
     "end_time": "2021-03-27T18:15:42.615699Z",
     "start_time": "2021-03-27T18:15:28.975052Z"
    }
   },
   "outputs": [
    {
     "data": {
      "text/plain": [
       "{'accuracy': 0.6208333333333333,\n",
       " 'f1_score': 0.40851887705711526,\n",
       " 'roc-auc': 0.634651354702163}"
      ]
     },
     "execution_count": 21,
     "metadata": {},
     "output_type": "execute_result"
    }
   ],
   "source": [
    "evaluate_ae(model, train_set, valid_set)"
   ]
  },
  {
   "cell_type": "code",
   "execution_count": 32,
   "metadata": {
    "ExecuteTime": {
     "end_time": "2021-03-27T18:19:55.169071Z",
     "start_time": "2021-03-27T18:19:53.968817Z"
    }
   },
   "outputs": [
    {
     "name": "stdout",
     "output_type": "stream",
     "text": [
      "train mult_accuracy: 0.446 0.211 0.393\n",
      "val mult_accuracy: 0.633 0.226 0.629\n"
     ]
    }
   ],
   "source": [
    "benchmark = evaluate_game(ds_train, 5, clfs_full['LR'][0], bin_scores, vae = model, log=False)\n",
    "acc_mean = np.mean(benchmark['mult']['accuracy'])\n",
    "acc_std = np.std(benchmark['mult']['accuracy'])\n",
    "acc_median = np.median(benchmark['mult']['accuracy'])\n",
    "print('train mult_accuracy:',acc_mean.round(3), acc_std.round(3), acc_median.round(3))\n",
    "\n",
    "benchmark = evaluate_game(ds_val, 5, clfs_full['LR'][0], bin_scores, vae = model, log=False)\n",
    "acc_mean = np.mean(benchmark['mult']['accuracy'])\n",
    "acc_std = np.std(benchmark['mult']['accuracy'])\n",
    "acc_median = np.median(benchmark['mult']['accuracy'])\n",
    "print('val mult_accuracy:',acc_mean.round(3), acc_std.round(3), acc_median.round(3))"
   ]
  },
  {
   "cell_type": "code",
   "execution_count": 47,
   "metadata": {
    "ExecuteTime": {
     "end_time": "2021-03-27T18:21:30.253467Z",
     "start_time": "2021-03-27T18:21:30.246095Z"
    }
   },
   "outputs": [
    {
     "name": "stderr",
     "output_type": "stream",
     "text": [
      "/home/alina/conda/anaconda3/envs/bdecode/lib/python3.7/site-packages/ipykernel/ipkernel.py:283: DeprecationWarning: `should_run_async` will not call `transform_cell` automatically in the future. Please pass the result to `transformed_cell` argument and any exception that happen during thetransform in `preprocessing_exc_tuple` in IPython 7.17 and above.\n",
      "  and should_run_async(code)\n"
     ]
    }
   ],
   "source": [
    "qz = model.q_z(torch.stack([valid_set[0][0], valid_set[1][0], valid_set[9][0]]))\n"
   ]
  },
  {
   "cell_type": "code",
   "execution_count": 48,
   "metadata": {
    "ExecuteTime": {
     "end_time": "2021-03-27T18:21:30.630103Z",
     "start_time": "2021-03-27T18:21:30.625884Z"
    }
   },
   "outputs": [],
   "source": [
    "qzsample = model.sample_z(qz)"
   ]
  },
  {
   "cell_type": "code",
   "execution_count": 49,
   "metadata": {
    "ExecuteTime": {
     "end_time": "2021-03-27T18:21:30.904784Z",
     "start_time": "2021-03-27T18:21:30.899418Z"
    }
   },
   "outputs": [],
   "source": [
    "model_x = model.q_x(qzsample)[:, 0, :]\n"
   ]
  },
  {
   "cell_type": "code",
   "execution_count": 78,
   "metadata": {
    "ExecuteTime": {
     "end_time": "2021-03-27T18:48:47.995782Z",
     "start_time": "2021-03-27T18:48:47.993022Z"
    }
   },
   "outputs": [],
   "source": [
    "original_x = valid_set[9][0].view((8,30)).cpu().data.numpy()\n",
    "reconstructed_x = model_x[2].view((8,30)).cpu().data.numpy()"
   ]
  },
  {
   "cell_type": "code",
   "execution_count": 80,
   "metadata": {
    "ExecuteTime": {
     "end_time": "2021-03-27T18:48:58.713577Z",
     "start_time": "2021-03-27T18:48:58.541482Z"
    }
   },
   "outputs": [
    {
     "data": {
      "image/png": "[encoded data removed]",
      "text/plain": [
       "<Figure size 1008x576 with 1 Axes>"
      ]
     },
     "metadata": {
      "needs_background": "light"
     },
     "output_type": "display_data"
    }
   ],
   "source": [
    "plot_orig_reconstr(original_x, reconstructed_x)"
   ]
  },
  {
   "cell_type": "code",
   "execution_count": 81,
   "metadata": {
    "ExecuteTime": {
     "end_time": "2021-03-27T18:49:07.238626Z",
     "start_time": "2021-03-27T18:49:07.056931Z"
    }
   },
   "outputs": [
    {
     "name": "stderr",
     "output_type": "stream",
     "text": [
      "/home/alina/conda/anaconda3/envs/bdecode/lib/python3.7/site-packages/ipykernel/ipkernel.py:283: DeprecationWarning: `should_run_async` will not call `transform_cell` automatically in the future. Please pass the result to `transformed_cell` argument and any exception that happen during thetransform in `preprocessing_exc_tuple` in IPython 7.17 and above.\n",
      "  and should_run_async(code)\n"
     ]
    },
    {
     "data": {
      "image/png": "[encoded data removed]",
      "text/plain": [
       "<Figure size 1008x576 with 1 Axes>"
      ]
     },
     "metadata": {
      "needs_background": "light"
     },
     "output_type": "display_data"
    }
   ],
   "source": [
    "original_x = valid_set[1][0].view((8,30)).cpu().data.numpy()\n",
    "reconstructed_x = model_x[1].view((8,30)).cpu().data.numpy()\n",
    "\n",
    "plot_orig_reconstr(original_x, reconstructed_x)"
   ]
  },
  {
   "cell_type": "markdown",
   "metadata": {},
   "source": [
    "### Augmentations"
   ]
  },
  {
   "cell_type": "markdown",
   "metadata": {},
   "source": [
    "#### Target/non-target data"
   ]
  },
  {
   "cell_type": "code",
   "execution_count": 23,
   "metadata": {
    "ExecuteTime": {
     "end_time": "2021-03-27T21:47:04.669941Z",
     "start_time": "2021-03-27T21:47:04.446443Z"
    }
   },
   "outputs": [],
   "source": [
    "data = binary_transform_target(binds_train)\n",
    "train_set = ListDataset(data)"
   ]
  },
  {
   "cell_type": "code",
   "execution_count": 24,
   "metadata": {
    "ExecuteTime": {
     "end_time": "2021-03-27T21:47:06.818805Z",
     "start_time": "2021-03-27T21:47:06.757750Z"
    }
   },
   "outputs": [],
   "source": [
    "data = binary_transform_target(binds_val)\n",
    "valid_set = ListDataset(data)"
   ]
  },
  {
   "cell_type": "code",
   "execution_count": 25,
   "metadata": {
    "ExecuteTime": {
     "end_time": "2021-03-27T21:47:08.122502Z",
     "start_time": "2021-03-27T21:47:07.641629Z"
    }
   },
   "outputs": [],
   "source": [
    "alltargets_train = ListDataset(binary_transform(binds_train))\n",
    "alltargets_val = ListDataset(binary_transform(binds_val))"
   ]
  },
  {
   "cell_type": "code",
   "execution_count": 165,
   "metadata": {
    "ExecuteTime": {
     "end_time": "2021-03-27T22:21:20.403495Z",
     "start_time": "2021-03-27T22:21:16.652039Z"
    }
   },
   "outputs": [
    {
     "name": "stdout",
     "output_type": "stream",
     "text": [
      "train mult_accuracy: 0.609 0.244 0.607\n",
      "train roc_auc: 0.591\n",
      "train f1 0.336\n",
      "val mult_accuracy: 0.782 0.207 0.821\n",
      "val roc_auc: 0.627\n",
      "val f1 0.396\n"
     ]
    }
   ],
   "source": [
    "benchmark = evaluate_game(ds_train, 5, clfs_full['LR'][0], bin_scores, log=False)\n",
    "acc_mean = np.mean(benchmark['mult']['accuracy'])\n",
    "acc_std = np.std(benchmark['mult']['accuracy'])\n",
    "acc_median = np.median(benchmark['mult']['accuracy'])\n",
    "print('train mult_accuracy:',acc_mean.round(3), acc_std.round(3), acc_median.round(3))\n",
    "roc_auc = np.mean(benchmark['bin']['roc_auc'])\n",
    "f1 = np.mean(benchmark['bin']['f1'])\n",
    "print('train roc_auc:', roc_auc.round(3))\n",
    "print('train f1' , f1.round(3))\n",
    "\n",
    "benchmark = evaluate_game(ds_val, 5, clfs_full['LR'][0], bin_scores,  log=False)\n",
    "acc_mean = np.mean(benchmark['mult']['accuracy'])\n",
    "acc_std = np.std(benchmark['mult']['accuracy'])\n",
    "acc_median = np.median(benchmark['mult']['accuracy'])\n",
    "print('val mult_accuracy:',acc_mean.round(3), acc_std.round(3), acc_median.round(3))\n",
    "roc_auc = np.mean(benchmark['bin']['roc_auc'])\n",
    "f1 = np.mean(benchmark['bin']['f1'])\n",
    "print('val roc_auc:', roc_auc.round(3))\n",
    "print('val f1' , f1.round(3))"
   ]
  },
  {
   "cell_type": "code",
   "execution_count": 235,
   "metadata": {
    "ExecuteTime": {
     "end_time": "2021-03-27T22:56:07.205743Z",
     "start_time": "2021-03-27T22:56:07.197872Z"
    },
    "colab": {},
    "colab_type": "code",
    "id": "T4BADLD9RSyn"
   },
   "outputs": [],
   "source": [
    "model = vae.VAE(64, epoch_shape[0]*epoch_shape[1], device='cpu')"
   ]
  },
  {
   "cell_type": "code",
   "execution_count": 236,
   "metadata": {
    "ExecuteTime": {
     "end_time": "2021-03-27T22:56:07.626067Z",
     "start_time": "2021-03-27T22:56:07.622335Z"
    },
    "colab": {},
    "colab_type": "code",
    "id": "YrgBN-zJRSyp"
   },
   "outputs": [],
   "source": [
    "optimizer = optim.Adam(model.parameters(), lr=0.001)"
   ]
  },
  {
   "cell_type": "code",
   "execution_count": 237,
   "metadata": {
    "ExecuteTime": {
     "end_time": "2021-03-27T22:57:41.243957Z",
     "start_time": "2021-03-27T22:56:09.593175Z"
    },
    "colab": {
     "base_uri": "https://localhost:8080/",
     "height": 731
    },
    "colab_type": "code",
    "id": "OM_l95GnRSyq",
    "outputId": "654a8b52-036d-4d96-b921-22d8a15348eb"
   },
   "outputs": [
    {
     "name": "stderr",
     "output_type": "stream",
     "text": [
      "100%|██████████| 100/100 [01:31<00:00,  1.09it/s]\n"
     ]
    }
   ],
   "source": [
    "trainer(model=model,\n",
    "        optimizer=optimizer,\n",
    "        dataset=train_set,\n",
    "        count_of_epoch=100,\n",
    "        batch_size=1024,\n",
    "        progress=tqdm)"
   ]
  },
  {
   "cell_type": "markdown",
   "metadata": {},
   "source": [
    "##### Trained only on targets"
   ]
  },
  {
   "cell_type": "code",
   "execution_count": 166,
   "metadata": {
    "ExecuteTime": {
     "end_time": "2021-03-27T22:21:38.862062Z",
     "start_time": "2021-03-27T22:21:33.836358Z"
    }
   },
   "outputs": [
    {
     "name": "stdout",
     "output_type": "stream",
     "text": [
      "train mult_accuracy: 0.627 0.21 0.643\n",
      "train roc_auc: 0.603\n",
      "train f1 0.366\n",
      "val mult_accuracy: 0.723 0.212 0.75\n",
      "val roc_auc: 0.629\n",
      "val f1 0.403\n"
     ]
    }
   ],
   "source": [
    "benchmark = evaluate_game(ds_train, 5, clfs_full['LR'][0], bin_scores, augment_vae = model, log=False)\n",
    "acc_mean = np.mean(benchmark['mult']['accuracy'])\n",
    "acc_std = np.std(benchmark['mult']['accuracy'])\n",
    "acc_median = np.median(benchmark['mult']['accuracy'])\n",
    "print('train mult_accuracy:',acc_mean.round(3), acc_std.round(3), acc_median.round(3))\n",
    "roc_auc = np.mean(benchmark['bin']['roc_auc'])\n",
    "f1 = np.mean(benchmark['bin']['f1'])\n",
    "print('train roc_auc:',roc_auc.round(3))\n",
    "print('train f1' , f1.round(3))\n",
    "\n",
    "benchmark = evaluate_game(ds_val, 5, clfs_full['LR'][0], bin_scores,augment_vae = model,  log=False)\n",
    "acc_mean = np.mean(benchmark['mult']['accuracy'])\n",
    "acc_std = np.std(benchmark['mult']['accuracy'])\n",
    "acc_median = np.median(benchmark['mult']['accuracy'])\n",
    "print('val mult_accuracy:',acc_mean.round(3), acc_std.round(3), acc_median.round(3))\n",
    "roc_auc = np.mean(benchmark['bin']['roc_auc'])\n",
    "f1 = np.mean(benchmark['bin']['f1'])\n",
    "print('val roc_auc:', roc_auc.round(3))\n",
    "print('val f1' , f1.round(3))"
   ]
  },
  {
   "cell_type": "code",
   "execution_count": 220,
   "metadata": {
    "ExecuteTime": {
     "end_time": "2021-03-27T22:33:13.547087Z",
     "start_time": "2021-03-27T22:33:13.541367Z"
    }
   },
   "outputs": [],
   "source": [
    "sample = model.generate_samples(100).mean(dim=0)"
   ]
  },
  {
   "cell_type": "code",
   "execution_count": 221,
   "metadata": {
    "ExecuteTime": {
     "end_time": "2021-03-27T22:33:13.908811Z",
     "start_time": "2021-03-27T22:33:13.897377Z"
    }
   },
   "outputs": [],
   "source": [
    "original_x = torch.stack([valid_set[i][0] for i in range(len(valid_set))]).mean(dim=0)\n",
    "original_x = original_x.view((8,30)).cpu().data.numpy()\n",
    "reconstructed_x = sample.view((8,30)).cpu().data.numpy()"
   ]
  },
  {
   "cell_type": "code",
   "execution_count": 224,
   "metadata": {
    "ExecuteTime": {
     "end_time": "2021-03-27T22:33:38.981954Z",
     "start_time": "2021-03-27T22:33:38.794203Z"
    }
   },
   "outputs": [
    {
     "data": {
      "image/png": "[encoded data removed]",
      "text/plain": [
       "<Figure size 1008x576 with 1 Axes>"
      ]
     },
     "metadata": {
      "needs_background": "light"
     },
     "output_type": "display_data"
    }
   ],
   "source": [
    "plot_orig_sampled(original_x, reconstructed_x)"
   ]
  },
  {
   "cell_type": "markdown",
   "metadata": {},
   "source": [
    "##### Trained on all dataset"
   ]
  },
  {
   "cell_type": "code",
   "execution_count": 238,
   "metadata": {
    "ExecuteTime": {
     "end_time": "2021-03-27T22:57:46.968250Z",
     "start_time": "2021-03-27T22:57:41.246241Z"
    }
   },
   "outputs": [
    {
     "name": "stdout",
     "output_type": "stream",
     "text": [
      "train mult_accuracy: 0.605 0.222 0.593\n",
      "train roc_auc: 0.6\n",
      "train f1 0.364\n",
      "val mult_accuracy: 0.705 0.231 0.745\n",
      "val roc_auc: 0.62\n",
      "val f1 0.393\n"
     ]
    }
   ],
   "source": [
    "benchmark = evaluate_game(ds_train, 5, clfs_full['LR'][0], bin_scores, augment_vae = model, log=False)\n",
    "acc_mean = np.mean(benchmark['mult']['accuracy'])\n",
    "acc_std = np.std(benchmark['mult']['accuracy'])\n",
    "acc_median = np.median(benchmark['mult']['accuracy'])\n",
    "print('train mult_accuracy:',acc_mean.round(3), acc_std.round(3), acc_median.round(3))\n",
    "roc_auc = np.mean(benchmark['bin']['roc_auc'])\n",
    "f1 = np.mean(benchmark['bin']['f1'])\n",
    "print('train roc_auc:',roc_auc.round(3))\n",
    "print('train f1' , f1.round(3))\n",
    "\n",
    "benchmark = evaluate_game(ds_val, 5, clfs_full['LR'][0], bin_scores,augment_vae = model,  log=False)\n",
    "acc_mean = np.mean(benchmark['mult']['accuracy'])\n",
    "acc_std = np.std(benchmark['mult']['accuracy'])\n",
    "acc_median = np.median(benchmark['mult']['accuracy'])\n",
    "print('val mult_accuracy:',acc_mean.round(3), acc_std.round(3), acc_median.round(3))\n",
    "roc_auc = np.mean(benchmark['bin']['roc_auc'])\n",
    "f1 = np.mean(benchmark['bin']['f1'])\n",
    "print('val roc_auc:', roc_auc.round(3))\n",
    "print('val f1' , f1.round(3))"
   ]
  },
  {
   "cell_type": "code",
   "execution_count": 242,
   "metadata": {
    "ExecuteTime": {
     "end_time": "2021-03-27T22:57:59.137675Z",
     "start_time": "2021-03-27T22:57:59.128101Z"
    }
   },
   "outputs": [],
   "source": [
    "sample = model.generate_samples(100).mean(dim=0)"
   ]
  },
  {
   "cell_type": "code",
   "execution_count": 243,
   "metadata": {
    "ExecuteTime": {
     "end_time": "2021-03-27T22:57:59.370119Z",
     "start_time": "2021-03-27T22:57:59.360530Z"
    }
   },
   "outputs": [],
   "source": [
    "original_x = torch.stack([valid_set[i][0] for i in range(len(valid_set))]).mean(dim=0)\n",
    "original_x = original_x.view((8,30)).cpu().data.numpy()\n",
    "reconstructed_x = sample.view((8,30)).cpu().data.numpy()"
   ]
  },
  {
   "cell_type": "code",
   "execution_count": 244,
   "metadata": {
    "ExecuteTime": {
     "end_time": "2021-03-27T22:57:59.825635Z",
     "start_time": "2021-03-27T22:57:59.613017Z"
    }
   },
   "outputs": [
    {
     "data": {
      "image/png": "[encoded data removed]",
      "text/plain": [
       "<Figure size 1008x576 with 1 Axes>"
      ]
     },
     "metadata": {
      "needs_background": "light"
     },
     "output_type": "display_data"
    }
   ],
   "source": [
    "plot_orig_reconstr(original_x, reconstructed_x)"
   ]
  },
  {
   "cell_type": "code",
   "execution_count": null,
   "metadata": {},
   "outputs": [],
   "source": []
  }
 ],
 "metadata": {
  "hide_input": false,
  "kernelspec": {
   "display_name": "bdecode",
   "language": "python",
   "name": "bdecode"
  },
  "language_info": {
   "codemirror_mode": {
    "name": "ipython",
    "version": 3
   },
   "file_extension": ".py",
   "mimetype": "text/x-python",
   "name": "python",
   "nbconvert_exporter": "python",
   "pygments_lexer": "ipython3",
   "version": "3.7.7"
  },
  "toc": {
   "base_numbering": 1,
   "nav_menu": {},
   "number_sections": true,
   "sideBar": true,
   "skip_h1_title": false,
   "title_cell": "Table of Contents",
   "title_sidebar": "Contents",
   "toc_cell": false,
   "toc_position": {
    "height": "calc(100% - 180px)",
    "left": "10px",
    "top": "150px",
    "width": "352px"
   },
   "toc_section_display": true,
   "toc_window_display": true
  }
 },
 "nbformat": 4,
 "nbformat_minor": 4
}
