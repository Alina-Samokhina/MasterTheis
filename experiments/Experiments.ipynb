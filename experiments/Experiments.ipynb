{
 "cells": [
  {
   "cell_type": "markdown",
   "metadata": {},
   "source": [
    "# Imports "
   ]
  },
  {
   "cell_type": "code",
   "execution_count": 1,
   "metadata": {
    "ExecuteTime": {
     "end_time": "2021-06-07T22:03:00.802052Z",
     "start_time": "2021-06-07T22:02:57.301735Z"
    }
   },
   "outputs": [],
   "source": [
    "import patch_path\n",
    "import torchcde\n",
    "import torch\n",
    "\n",
    "from mt_code.datasets import get_data, load_dataset, PersonData, P300Dataset\n",
    "from mt_code.models import NeuralCde, OdeLstm, LmuLstm, EegNet\n",
    "\n",
    "from mt_code.runners import Learner as IrregularSequenceLearner"
   ]
  },
  {
   "cell_type": "code",
   "execution_count": 2,
   "metadata": {
    "ExecuteTime": {
     "end_time": "2021-06-07T22:03:00.807397Z",
     "start_time": "2021-06-07T22:03:00.803786Z"
    }
   },
   "outputs": [
    {
     "name": "stderr",
     "output_type": "stream",
     "text": [
      "/home/alina/conda/anaconda3/envs/neiry/lib/python3.7/site-packages/ipykernel/ipkernel.py:283: DeprecationWarning: `should_run_async` will not call `transform_cell` automatically in the future. Please pass the result to `transformed_cell` argument and any exception that happen during thetransform in `preprocessing_exc_tuple` in IPython 7.17 and above.\n",
      "  and should_run_async(code)\n"
     ]
    }
   ],
   "source": [
    "import os\n",
    "import torch\n",
    "#from torch import nn\n",
    "#import torch.utils.data as data\n",
    "import pytorch_lightning as pl\n",
    "from pytorch_lightning.callbacks import ModelCheckpoint"
   ]
  },
  {
   "cell_type": "code",
   "execution_count": 3,
   "metadata": {
    "ExecuteTime": {
     "end_time": "2021-06-07T22:03:00.814056Z",
     "start_time": "2021-06-07T22:03:00.809957Z"
    }
   },
   "outputs": [],
   "source": [
    "import tensorboard\n",
    "from pytorch_lightning import loggers as pl_loggers\n"
   ]
  },
  {
   "cell_type": "markdown",
   "metadata": {},
   "source": [
    "# Experiments"
   ]
  },
  {
   "cell_type": "markdown",
   "metadata": {},
   "source": [
    "## P300"
   ]
  },
  {
   "cell_type": "markdown",
   "metadata": {
    "heading_collapsed": true
   },
   "source": [
    "###### EEGNET"
   ]
  },
  {
   "cell_type": "code",
   "execution_count": 3,
   "metadata": {
    "ExecuteTime": {
     "end_time": "2021-05-31T15:24:28.228510Z",
     "start_time": "2021-05-31T15:24:28.225694Z"
    },
    "hidden": true
   },
   "outputs": [],
   "source": [
    "checkpoint_callback = ModelCheckpoint(\n",
    "    monitor='val_f1',\n",
    "    mode = 'max',\n",
    "    dirpath='logs/models/demons/EEGNET/',\n",
    "    save_top_k = 3,\n",
    ")"
   ]
  },
  {
   "cell_type": "code",
   "execution_count": 4,
   "metadata": {
    "ExecuteTime": {
     "end_time": "2021-05-31T15:24:54.109806Z",
     "start_time": "2021-05-31T15:24:34.030743Z"
    },
    "hidden": true
   },
   "outputs": [
    {
     "name": "stdout",
     "output_type": "stream",
     "text": [
      "train_x.shape:  torch.Size([45232, 40, 8])\n",
      "train_y.shape:  torch.Size([45232])\n",
      "Total number of train sequences: 45232\n",
      "Total number of test  sequences: 11308\n",
      "torch.Size([45232, 40, 1]) torch.Size([45232, 8, 40])\n"
     ]
    }
   ],
   "source": [
    "trainloader, testloader, in_features, num_classes, return_sequences, class_balance = load_dataset(\n",
    "    'p300_T', timestamps=False, coeffs=False, batch_size=1024,  data_dir = '../data/demons/nery_demons_dataset')"
   ]
  },
  {
   "cell_type": "code",
   "execution_count": 5,
   "metadata": {
    "ExecuteTime": {
     "end_time": "2021-05-31T15:24:54.122298Z",
     "start_time": "2021-05-31T15:24:54.112744Z"
    },
    "hidden": true
   },
   "outputs": [
    {
     "name": "stderr",
     "output_type": "stream",
     "text": [
      "/home/alina/conda/anaconda3/envs/neiry/lib/python3.7/site-packages/ipykernel/ipkernel.py:283: DeprecationWarning: `should_run_async` will not call `transform_cell` automatically in the future. Please pass the result to `transformed_cell` argument and any exception that happen during thetransform in `preprocessing_exc_tuple` in IPython 7.17 and above.\n",
      "  and should_run_async(code)\n"
     ]
    }
   ],
   "source": [
    "eegnet = EegNet(\n",
    "    input_size =(8, 40),\n",
    "    rate = 50,\n",
    "    F1 = 2,\n",
    "    D = 4,\n",
    ")\n",
    "learn = IrregularSequenceLearner(eegnet, lr=0.05, timestamps=False, class_weights = 1/class_balance)\n"
   ]
  },
  {
   "cell_type": "code",
   "execution_count": 6,
   "metadata": {
    "ExecuteTime": {
     "end_time": "2021-05-31T15:26:01.629232Z",
     "start_time": "2021-05-31T15:25:28.643536Z"
    },
    "hidden": true,
    "scrolled": true
   },
   "outputs": [
    {
     "name": "stderr",
     "output_type": "stream",
     "text": [
      "GPU available: False, used: False\n",
      "TPU available: False, using: 0 TPU cores\n",
      "\n",
      "  | Name     | Type     | Params\n",
      "--------------------------------------\n",
      "0 | model    | EegNet   | 360   \n",
      "1 | accuracy | Accuracy | 0     \n",
      "2 | f1       | F1       | 0     \n",
      "--------------------------------------\n",
      "360       Trainable params\n",
      "0         Non-trainable params\n",
      "360       Total params\n",
      "0.001     Total estimated model params size (MB)\n"
     ]
    },
    {
     "name": "stdout",
     "output_type": "stream",
     "text": [
      "Epoch 0:  79%|███████▉  | 45/57 [00:02<00:00, 21.95it/s, loss=0.501, v_num=102, val_loss=0.694, val_f1=0.714, val_acc=0.802, train_acc=0.798, train_f1=0.708, train_loss=0.505]\n",
      "Validating: 0it [00:00, ?it/s]\u001b[A\n",
      "Validating:   0%|          | 0/12 [00:00<?, ?it/s]\u001b[A\n",
      "Epoch 0:  82%|████████▏ | 47/57 [00:02<00:00, 21.60it/s, loss=0.501, v_num=102, val_loss=0.694, val_f1=0.714, val_acc=0.802, train_acc=0.798, train_f1=0.708, train_loss=0.505]\n",
      "Epoch 0: 100%|██████████| 57/57 [00:02<00:00, 24.14it/s, loss=0.501, v_num=102, val_loss=0.883, val_f1=0.712, val_acc=0.801, train_acc=0.807, train_f1=0.721, train_loss=0.493]\n",
      "Epoch 1:  79%|███████▉  | 45/57 [00:02<00:00, 21.48it/s, loss=0.501, v_num=102, val_loss=0.883, val_f1=0.712, val_acc=0.801, train_acc=0.798, train_f1=0.708, train_loss=0.505]\n",
      "Validating: 0it [00:00, ?it/s]\u001b[A\n",
      "Validating:   0%|          | 0/12 [00:00<?, ?it/s]\u001b[A\n",
      "Epoch 1:  84%|████████▍ | 48/57 [00:02<00:00, 21.23it/s, loss=0.501, v_num=102, val_loss=0.883, val_f1=0.712, val_acc=0.801, train_acc=0.798, train_f1=0.708, train_loss=0.505]\n",
      "Epoch 1: 100%|██████████| 57/57 [00:02<00:00, 23.24it/s, loss=0.501, v_num=102, val_loss=0.928, val_f1=0.712, val_acc=0.801, train_acc=0.773, train_f1=0.674, train_loss=0.542]\n",
      "Epoch 2:  79%|███████▉  | 45/57 [00:03<00:00, 14.21it/s, loss=0.497, v_num=102, val_loss=0.928, val_f1=0.712, val_acc=0.801, train_acc=0.813, train_f1=0.730, train_loss=0.482]\n",
      "Validating: 0it [00:00, ?it/s]\u001b[A\n",
      "Validating:   0%|          | 0/12 [00:00<?, ?it/s]\u001b[A\n",
      "Epoch 2:  84%|████████▍ | 48/57 [00:03<00:00, 14.25it/s, loss=0.497, v_num=102, val_loss=0.928, val_f1=0.712, val_acc=0.801, train_acc=0.813, train_f1=0.730, train_loss=0.482]\n",
      "Epoch 2:  95%|█████████▍| 54/57 [00:03<00:00, 15.27it/s, loss=0.497, v_num=102, val_loss=0.928, val_f1=0.712, val_acc=0.801, train_acc=0.813, train_f1=0.730, train_loss=0.482]\n",
      "Epoch 2: 100%|██████████| 57/57 [00:03<00:00, 15.66it/s, loss=0.497, v_num=102, val_loss=0.923, val_f1=0.712, val_acc=0.801, train_acc=0.812, train_f1=0.728, train_loss=0.483]\n",
      "Epoch 3:  79%|███████▉  | 45/57 [00:02<00:00, 17.62it/s, loss=0.502, v_num=102, val_loss=0.923, val_f1=0.712, val_acc=0.801, train_acc=0.794, train_f1=0.703, train_loss=0.509]\n",
      "Validating: 0it [00:00, ?it/s]\u001b[A\n",
      "Validating:   0%|          | 0/12 [00:00<?, ?it/s]\u001b[A\n",
      "Epoch 3:  84%|████████▍ | 48/57 [00:02<00:00, 17.65it/s, loss=0.502, v_num=102, val_loss=0.923, val_f1=0.712, val_acc=0.801, train_acc=0.794, train_f1=0.703, train_loss=0.509]\n",
      "Epoch 3:  95%|█████████▍| 54/57 [00:02<00:00, 18.98it/s, loss=0.502, v_num=102, val_loss=0.923, val_f1=0.712, val_acc=0.801, train_acc=0.794, train_f1=0.703, train_loss=0.509]\n",
      "Epoch 3: 100%|██████████| 57/57 [00:02<00:00, 19.32it/s, loss=0.502, v_num=102, val_loss=0.907, val_f1=0.712, val_acc=0.801, train_acc=0.807, train_f1=0.721, train_loss=0.490]\n",
      "Epoch 4:  79%|███████▉  | 45/57 [00:02<00:00, 18.41it/s, loss=0.496, v_num=102, val_loss=0.907, val_f1=0.712, val_acc=0.801, train_acc=0.805, train_f1=0.718, train_loss=0.494]\n",
      "Validating: 0it [00:00, ?it/s]\u001b[A\n",
      "Validating:   0%|          | 0/12 [00:00<?, ?it/s]\u001b[A\n",
      "Epoch 4:  84%|████████▍ | 48/57 [00:02<00:00, 18.20it/s, loss=0.496, v_num=102, val_loss=0.907, val_f1=0.712, val_acc=0.801, train_acc=0.805, train_f1=0.718, train_loss=0.494]\n",
      "Epoch 4:  95%|█████████▍| 54/57 [00:02<00:00, 19.30it/s, loss=0.496, v_num=102, val_loss=0.907, val_f1=0.712, val_acc=0.801, train_acc=0.805, train_f1=0.718, train_loss=0.494]\n",
      "Epoch 4: 100%|██████████| 57/57 [00:02<00:00, 19.60it/s, loss=0.496, v_num=102, val_loss=0.915, val_f1=0.712, val_acc=0.801, train_acc=0.807, train_f1=0.721, train_loss=0.491]\n",
      "Epoch 5:  79%|███████▉  | 45/57 [00:02<00:00, 16.20it/s, loss=0.5, v_num=102, val_loss=0.915, val_f1=0.712, val_acc=0.801, train_acc=0.797, train_f1=0.707, train_loss=0.505]  \n",
      "Validating: 0it [00:00, ?it/s]\u001b[A\n",
      "Validating:   0%|          | 0/12 [00:00<?, ?it/s]\u001b[A\n",
      "Epoch 5:  84%|████████▍ | 48/57 [00:02<00:00, 16.25it/s, loss=0.5, v_num=102, val_loss=0.915, val_f1=0.712, val_acc=0.801, train_acc=0.797, train_f1=0.707, train_loss=0.505]\n",
      "Epoch 5:  95%|█████████▍| 54/57 [00:03<00:00, 17.47it/s, loss=0.5, v_num=102, val_loss=0.915, val_f1=0.712, val_acc=0.801, train_acc=0.797, train_f1=0.707, train_loss=0.505]\n",
      "Epoch 5: 100%|██████████| 57/57 [00:03<00:00, 17.81it/s, loss=0.5, v_num=102, val_loss=0.915, val_f1=0.712, val_acc=0.801, train_acc=0.767, train_f1=0.666, train_loss=0.547]\n",
      "Epoch 6:  79%|███████▉  | 45/57 [00:02<00:00, 19.05it/s, loss=0.501, v_num=102, val_loss=0.915, val_f1=0.712, val_acc=0.801, train_acc=0.827, train_f1=0.749, train_loss=0.462]\n",
      "Validating: 0it [00:00, ?it/s]\u001b[A\n",
      "Validating:   0%|          | 0/12 [00:00<?, ?it/s]\u001b[A\n",
      "Epoch 6:  84%|████████▍ | 48/57 [00:02<00:00, 18.96it/s, loss=0.501, v_num=102, val_loss=0.915, val_f1=0.712, val_acc=0.801, train_acc=0.827, train_f1=0.749, train_loss=0.462]\n",
      "Epoch 6:  95%|█████████▍| 54/57 [00:02<00:00, 20.24it/s, loss=0.501, v_num=102, val_loss=0.915, val_f1=0.712, val_acc=0.801, train_acc=0.827, train_f1=0.749, train_loss=0.462]\n",
      "Epoch 6: 100%|██████████| 57/57 [00:02<00:00, 20.64it/s, loss=0.501, v_num=102, val_loss=0.916, val_f1=0.712, val_acc=0.801, train_acc=0.756, train_f1=0.651, train_loss=0.562]\n",
      "Epoch 7:  79%|███████▉  | 45/57 [00:02<00:00, 16.72it/s, loss=0.499, v_num=102, val_loss=0.916, val_f1=0.712, val_acc=0.801, train_acc=0.813, train_f1=0.730, train_loss=0.482]\n",
      "Validating: 0it [00:00, ?it/s]\u001b[A\n",
      "Validating:   0%|          | 0/12 [00:00<?, ?it/s]\u001b[A\n",
      "Epoch 7:  84%|████████▍ | 48/57 [00:02<00:00, 16.54it/s, loss=0.499, v_num=102, val_loss=0.916, val_f1=0.712, val_acc=0.801, train_acc=0.813, train_f1=0.730, train_loss=0.482]\n",
      "Validating:  33%|███▎      | 4/12 [00:00<00:00,  8.07it/s]\u001b[A\n",
      "Epoch 7: 100%|██████████| 57/57 [00:03<00:00, 17.86it/s, loss=0.499, v_num=102, val_loss=0.920, val_f1=0.712, val_acc=0.801, train_acc=0.784, train_f1=0.689, train_loss=0.522]\n",
      "Epoch 8:  79%|███████▉  | 45/57 [00:02<00:00, 17.25it/s, loss=0.498, v_num=102, val_loss=0.920, val_f1=0.712, val_acc=0.801, train_acc=0.804, train_f1=0.716, train_loss=0.495]\n",
      "Validating: 0it [00:00, ?it/s]\u001b[A\n",
      "Validating:   0%|          | 0/12 [00:00<?, ?it/s]\u001b[A\n",
      "Epoch 8:  84%|████████▍ | 48/57 [00:02<00:00, 17.29it/s, loss=0.498, v_num=102, val_loss=0.920, val_f1=0.712, val_acc=0.801, train_acc=0.804, train_f1=0.716, train_loss=0.495]\n",
      "Epoch 8: 100%|██████████| 57/57 [00:02<00:00, 19.23it/s, loss=0.498, v_num=102, val_loss=0.930, val_f1=0.712, val_acc=0.801, train_acc=0.778, train_f1=0.681, train_loss=0.532]\n",
      "Epoch 9:  79%|███████▉  | 45/57 [00:02<00:00, 15.69it/s, loss=0.501, v_num=102, val_loss=0.930, val_f1=0.712, val_acc=0.801, train_acc=0.814, train_f1=0.731, train_loss=0.480]\n",
      "Validating: 0it [00:00, ?it/s]\u001b[A\n",
      "Validating:   0%|          | 0/12 [00:00<?, ?it/s]\u001b[A\n",
      "Epoch 9:  84%|████████▍ | 48/57 [00:03<00:00, 15.78it/s, loss=0.501, v_num=102, val_loss=0.930, val_f1=0.712, val_acc=0.801, train_acc=0.814, train_f1=0.731, train_loss=0.480]\n",
      "Epoch 9:  95%|█████████▍| 54/57 [00:03<00:00, 16.97it/s, loss=0.501, v_num=102, val_loss=0.930, val_f1=0.712, val_acc=0.801, train_acc=0.814, train_f1=0.731, train_loss=0.480]\n",
      "Epoch 9: 100%|██████████| 57/57 [00:03<00:00, 17.47it/s, loss=0.501, v_num=102, val_loss=0.913, val_f1=0.712, val_acc=0.801, train_acc=0.778, train_f1=0.681, train_loss=0.531]\n",
      "Epoch 9: 100%|██████████| 57/57 [00:03<00:00, 17.43it/s, loss=0.501, v_num=102, val_loss=0.913, val_f1=0.712, val_acc=0.801, train_acc=0.778, train_f1=0.681, train_loss=0.531]\n"
     ]
    },
    {
     "data": {
      "text/plain": [
       "1"
      ]
     },
     "execution_count": 6,
     "metadata": {},
     "output_type": "execute_result"
    }
   ],
   "source": [
    "\n",
    "\n",
    "trainer = pl.Trainer(\n",
    "    max_epochs=10,\n",
    "    progress_bar_refresh_rate=1,\n",
    "    gradient_clip_val=1,\n",
    "    callbacks=[checkpoint_callback]\n",
    "    \n",
    ")\n",
    "trainer.fit(learn, trainloader, val_dataloaders = testloader)\n"
   ]
  },
  {
   "cell_type": "raw",
   "metadata": {
    "ExecuteTime": {
     "end_time": "2021-05-31T09:39:15.895882Z",
     "start_time": "2021-05-31T09:38:59.009346Z"
    },
    "hidden": true
   },
   "source": [
    "\n",
    "\n",
    "results = trainer.test(learn, testloader)\n",
    "base_path = \"results/{}\".format(\"person_lcde\")\n",
    "os.makedirs(base_path, exist_ok=True)\n",
    "with open(\"{}/pt_ode_lstm_{}.csv\".format(base_path, 128), \"a\") as f:\n",
    "    f.write(\"{:06f}\\n\".format(results[0][\"val_acc\"]))"
   ]
  },
  {
   "cell_type": "code",
   "execution_count": 9,
   "metadata": {
    "ExecuteTime": {
     "end_time": "2021-05-31T15:27:08.908015Z",
     "start_time": "2021-05-31T15:27:08.887609Z"
    },
    "hidden": true
   },
   "outputs": [
    {
     "data": {
      "text/plain": [
       "<All keys matched successfully>"
      ]
     },
     "execution_count": 9,
     "metadata": {},
     "output_type": "execute_result"
    }
   ],
   "source": [
    "best_path = checkpoint_callback.best_model_path\n",
    "checkpoint = torch.load(best_path)\n",
    "states = {}\n",
    "for k_new, k_old in zip(eegnet.state_dict().keys(), checkpoint['state_dict'].keys()):\n",
    "    states[k_new] = checkpoint['state_dict'].get(k_old)\n",
    "eegnet.load_state_dict(state_dict = states)\n",
    "    "
   ]
  },
  {
   "cell_type": "code",
   "execution_count": 10,
   "metadata": {
    "ExecuteTime": {
     "end_time": "2021-05-31T15:27:13.808125Z",
     "start_time": "2021-05-31T15:27:13.466175Z"
    },
    "hidden": true
   },
   "outputs": [
    {
     "name": "stdout",
     "output_type": "stream",
     "text": [
      "Testing: 100%|██████████| 12/12 [00:00<00:00, 37.62it/s]\n",
      "--------------------------------------------------------------------------------\n",
      "DATALOADER:0 TEST RESULTS\n",
      "{'val_acc': 0.8007605075836182,\n",
      " 'val_f1': 0.7121887803077698,\n",
      " 'val_loss': 0.8833798766136169}\n",
      "--------------------------------------------------------------------------------\n"
     ]
    }
   ],
   "source": [
    "learn = IrregularSequenceLearner(eegnet, lr=0.01, timestamps=False,  class_weights = 1/class_balance)\n",
    "\n",
    "results = trainer.test(learn, testloader)\n",
    "base_path = \"results/{}\".format(\"person\")\n",
    "os.makedirs(base_path, exist_ok=True)\n",
    "with open(\"{}/pt_ode_lstm_{}.csv\".format(base_path, 128), \"a\") as f:\n",
    "    f.write(\"{:06f}\\n\".format(results[0][\"val_acc\"]))"
   ]
  },
  {
   "cell_type": "code",
   "execution_count": null,
   "metadata": {
    "hidden": true
   },
   "outputs": [],
   "source": []
  },
  {
   "cell_type": "markdown",
   "metadata": {},
   "source": [
    "### CDE"
   ]
  },
  {
   "cell_type": "code",
   "execution_count": 11,
   "metadata": {
    "ExecuteTime": {
     "end_time": "2021-06-06T17:14:56.536718Z",
     "start_time": "2021-06-06T17:14:56.532472Z"
    }
   },
   "outputs": [
    {
     "name": "stderr",
     "output_type": "stream",
     "text": [
      "/home/alina/conda/anaconda3/envs/neiry/lib/python3.7/site-packages/pytorch_lightning/utilities/distributed.py:68: UserWarning: Checkpoint directory logs/models/demons/cde/ exists and is not empty.\n",
      "  warnings.warn(*args, **kwargs)\n"
     ]
    }
   ],
   "source": [
    "checkpoint_callback = ModelCheckpoint(\n",
    "    monitor='val_f1',\n",
    "    mode = 'max',\n",
    "    dirpath='logs/models/demons/cde/',\n",
    "    save_top_k = 3,\n",
    ")"
   ]
  },
  {
   "cell_type": "code",
   "execution_count": 4,
   "metadata": {
    "ExecuteTime": {
     "end_time": "2021-06-06T17:12:34.526206Z",
     "start_time": "2021-06-06T17:12:34.520275Z"
    }
   },
   "outputs": [],
   "source": [
    "import numpy as np\n",
    "import torch.utils.data as data\n"
   ]
  },
  {
   "cell_type": "code",
   "execution_count": 9,
   "metadata": {
    "ExecuteTime": {
     "end_time": "2021-06-07T21:48:34.406689Z",
     "start_time": "2021-06-07T21:48:34.363147Z"
    }
   },
   "outputs": [],
   "source": [
    "def load_dataset(\n",
    "    ds=\"activity\",\n",
    "    timestamps=True,\n",
    "    coeffs=False,\n",
    "    irregular = True,\n",
    "    batch_size=128,\n",
    "    data_dir=\"../data/person\",\n",
    "):\n",
    "    if ds == \"activity\":\n",
    "        dataset = PersonData(data_dir=data_dir)\n",
    "        train_ts = torch.Tensor(dataset.train_t)\n",
    "        test_ts = torch.Tensor(dataset.test_t)\n",
    "    elif ds == \"p300\":\n",
    "        dataset = P300Dataset(data_dir=data_dir)\n",
    "        dataset.get_data_for_experiments(True)\n",
    "        train_ts = torch.Tensor(dataset.train_t)[:, :, None]\n",
    "        test_ts = torch.Tensor(dataset.test_t)[:, :, None]\n",
    "    elif ds == \"p300_T\":\n",
    "        dataset = P300Dataset(data_dir=data_dir)\n",
    "        dataset.get_data_for_experiments(True)\n",
    "        xs = dataset.train_x.shape\n",
    "        dataset.train_x = dataset.train_x.reshape(xs[0], xs[2], xs[1])\n",
    "        xs = dataset.test_x.shape\n",
    "        dataset.test_x = dataset.test_x.reshape(xs[0], xs[2], xs[1])\n",
    "        train_ts = torch.Tensor(dataset.train_t)[:, :, None]\n",
    "        test_ts = torch.Tensor(dataset.test_t)[:, :, None]\n",
    "    else:\n",
    "        raise ValueError(f'No such dataset: {ds}, try \"activity\"')\n",
    "\n",
    "\n",
    "    train_x = torch.Tensor(dataset.train_x)\n",
    "    test_x = torch.Tensor(dataset.test_x)\n",
    "\n",
    "    train_y = torch.LongTensor(dataset.train_y)\n",
    "    test_y = torch.LongTensor(dataset.test_y)\n",
    "    print('classes:', train_y[:50])\n",
    "    if irregular:\n",
    "        print(train_ts.shape, train_ts.size(1))\n",
    "        print(test_ts.shape, test_ts.size(1))\n",
    "        \n",
    "        for ts in range(len(train_ts)):\n",
    "            irr_idc_train = np.random.choice(np.arange(0, train_ts.size(1)), size = int(0.8*train_ts.size(1)), replace = False)\n",
    "            irr_idc_train.sort()\n",
    "            print(irr_idc_train)\n",
    "            train_ts[ts, :, :] = train_ts[ts, irr_idc_train,:]\n",
    "            train_x[ts, :, :] = train_x[ts, irr_idc_train, :]\n",
    "            if train_y.dim()>1:\n",
    "                train_y[ts, :] = train_ts[ts, irr_idc_train]\n",
    "        \n",
    "        for ts in range(len(test_ts)):\n",
    "        \n",
    "            irr_idc_test = np.random.choice(np.arange(0, test_ts.size(1)), size = int(0.8*test_ts.size(1)), replace = False)\n",
    "            irr_idc_test.sort()\n",
    "        \n",
    "            test_ts = test_ts[:,irr_idc_test,:]\n",
    "            test_x = test_x[:, irr_idc_test, :]\n",
    "            if train_y.dim()>1:\n",
    "                test_y[ts, :] = train_ts[ts, irr_idc_test] \n",
    "                \n",
    "        print(train_ts.shape, train_ts.size(1))\n",
    "        print(test_ts.shape, test_ts.size(1))\n",
    "               \n",
    "        \n",
    "    \n",
    "    print(train_ts.size(), train_x.size())\n",
    "\n",
    "    if coeffs:\n",
    "        train_x = torch.cat([train_ts, train_x], dim=2)\n",
    "        train_x = torchcde.natural_cubic_coeffs(\n",
    "            torch.Tensor(dataset.train_x)\n",
    "        )  # , dtype=torch.float32))\n",
    "        test_x = torch.cat([test_ts, test_x], dim=2)\n",
    "        test_x = torchcde.natural_cubic_coeffs(\n",
    "            torch.Tensor(dataset.test_x)\n",
    "        )  # , dtype=torch.float32))\n",
    "\n",
    "    if timestamps:\n",
    "        train = data.TensorDataset(train_x, train_ts, train_y)\n",
    "        test = data.TensorDataset(test_x, test_ts, test_y)\n",
    "    else:\n",
    "        train = data.TensorDataset(train_x, train_y)\n",
    "        test = data.TensorDataset(test_x, test_y)\n",
    "    return_sequences = True\n",
    "\n",
    "    counts = test_y.unique(return_counts=True)[1].to(torch.float)\n",
    "    class_balance = counts / counts.min()\n",
    "\n",
    "    trainloader = data.DataLoader(\n",
    "        train, batch_size=batch_size, shuffle=True, num_workers=4\n",
    "    )\n",
    "    testloader = data.DataLoader(\n",
    "        test, batch_size=batch_size, shuffle=False, num_workers=4\n",
    "    )\n",
    "    in_features = train_x.size(-1)\n",
    "    num_classes = int(torch.max(train_y).item() + 1)\n",
    "    return (\n",
    "        trainloader,\n",
    "        testloader,\n",
    "        in_features,\n",
    "        num_classes,\n",
    "        return_sequences,\n",
    "        class_balance,\n",
    "    )\n"
   ]
  },
  {
   "cell_type": "code",
   "execution_count": 12,
   "metadata": {
    "ExecuteTime": {
     "end_time": "2021-06-06T17:15:36.531335Z",
     "start_time": "2021-06-06T17:15:00.442363Z"
    }
   },
   "outputs": [
    {
     "name": "stdout",
     "output_type": "stream",
     "text": [
      "train_x.shape:  torch.Size([39578, 40, 8])\n",
      "train_y.shape:  torch.Size([39578])\n",
      "Total number of train sequences: 39578\n",
      "Total number of test  sequences: 16962\n",
      "torch.Size([39578, 40, 1]) 40\n",
      "torch.Size([16962, 40, 1]) 40\n",
      "[ 0  1  2  3  4  6  7  8  9 10 12 13 15 16 17 18 19 21 22 23 25 28 29 31\n",
      " 32 33 34 35 36 37 38 39]\n",
      "torch.Size([39578, 32, 1]) 32\n",
      "torch.Size([16962, 32, 1]) 32\n",
      "torch.Size([39578, 32, 1]) torch.Size([39578, 32, 8])\n"
     ]
    }
   ],
   "source": [
    "trainloader, testloader, in_features, num_classes, return_sequences, class_balance = load_dataset(\n",
    "    'p300', timestamps=False, coeffs=True, irregular = True, batch_size=1024,  data_dir = '../data/demons/nery_demons_dataset')"
   ]
  },
  {
   "cell_type": "code",
   "execution_count": null,
   "metadata": {},
   "outputs": [],
   "source": [
    "trainloader, testloader, in_features, num_classes, return_sequences, class_balance = load_dataset(\n",
    "    'p300', timestamps=False, coeffs=True, irregular = False, batch_size=1024,  data_dir = '../data/demons/nery_demons_dataset')"
   ]
  },
  {
   "cell_type": "code",
   "execution_count": 26,
   "metadata": {
    "ExecuteTime": {
     "end_time": "2021-06-06T18:01:12.209837Z",
     "start_time": "2021-06-06T18:01:12.202099Z"
    }
   },
   "outputs": [],
   "source": [
    "cde = NeuralCde(\n",
    "    8,#original num of features\n",
    "    8,\n",
    "    num_classes,\n",
    "\n",
    "    return_sequences=False,\n",
    "    #memory = True,\n",
    "    #gated=True\n",
    "    #solver_type='fixed_rk4',\n",
    ")\n",
    "learn = IrregularSequenceLearner(cde, lr=0.05, timestamps=False, class_weights = 1/class_balance)\n"
   ]
  },
  {
   "cell_type": "code",
   "execution_count": 27,
   "metadata": {
    "ExecuteTime": {
     "end_time": "2021-06-06T18:01:12.575918Z",
     "start_time": "2021-06-06T18:01:12.572630Z"
    }
   },
   "outputs": [],
   "source": [
    "tb_logger = pl_loggers.TensorBoardLogger('logs_pl/')"
   ]
  },
  {
   "cell_type": "code",
   "execution_count": 28,
   "metadata": {
    "ExecuteTime": {
     "end_time": "2021-06-06T19:30:47.246880Z",
     "start_time": "2021-06-06T18:01:12.873733Z"
    },
    "scrolled": true
   },
   "outputs": [
    {
     "name": "stderr",
     "output_type": "stream",
     "text": [
      "GPU available: False, used: False\n",
      "TPU available: False, using: 0 TPU cores\n",
      "\n",
      "  | Name     | Type      | Params\n",
      "---------------------------------------\n",
      "0 | model    | NeuralCde | 9.5 K \n",
      "1 | accuracy | Accuracy  | 0     \n",
      "2 | f1       | F1        | 0     \n",
      "---------------------------------------\n",
      "9.5 K     Trainable params\n",
      "0         Non-trainable params\n",
      "9.5 K     Total params\n",
      "0.038     Total estimated model params size (MB)\n"
     ]
    },
    {
     "name": "stdout",
     "output_type": "stream",
     "text": [
      "Epoch 0:   0%|          | 1/702 [00:11<2:18:29, 11.85s/it, loss=1.12, v_num=5, val_loss=1.060, val_f1=0.556, val_acc=0.506]\n",
      "Validating: 0it [00:00, ?it/s]\u001b[A\n",
      "Validating:   0%|          | 0/17 [00:00<?, ?it/s]\u001b[A\n",
      "Epoch 0:   0%|          | 3/702 [00:13<54:18,  4.66s/it, loss=1.12, v_num=5, val_loss=1.060, val_f1=0.556, val_acc=0.506]  \n",
      "Validating:  12%|█▏        | 2/17 [00:04<00:30,  2.05s/it]\u001b[A\n",
      "Epoch 0:   1%|          | 5/702 [00:18<42:38,  3.67s/it, loss=1.12, v_num=5, val_loss=1.060, val_f1=0.556, val_acc=0.506]\n",
      "Validating:  24%|██▎       | 4/17 [00:08<00:27,  2.10s/it]\u001b[A\n",
      "Epoch 0:   1%|          | 7/702 [00:22<36:42,  3.17s/it, loss=1.12, v_num=5, val_loss=1.060, val_f1=0.556, val_acc=0.506]\n",
      "Validating:  35%|███▌      | 6/17 [00:12<00:22,  2.03s/it]\u001b[A\n",
      "Epoch 0:   1%|▏         | 9/702 [00:26<34:29,  2.99s/it, loss=1.12, v_num=5, val_loss=1.060, val_f1=0.556, val_acc=0.506]\n",
      "Validating:  47%|████▋     | 8/17 [00:17<00:19,  2.17s/it]\u001b[A\n",
      "Epoch 0:   2%|▏         | 11/702 [00:30<32:26,  2.82s/it, loss=1.12, v_num=5, val_loss=1.060, val_f1=0.556, val_acc=0.506]\n",
      "Validating:  59%|█████▉    | 10/17 [00:21<00:14,  2.07s/it]\u001b[A\n",
      "Epoch 0:   2%|▏         | 13/702 [00:35<30:55,  2.69s/it, loss=1.12, v_num=5, val_loss=1.060, val_f1=0.556, val_acc=0.506]\n",
      "Validating:  71%|███████   | 12/17 [00:25<00:11,  2.24s/it]\u001b[A\n",
      "Epoch 0:   2%|▏         | 15/702 [00:40<30:50,  2.69s/it, loss=1.12, v_num=5, val_loss=1.060, val_f1=0.556, val_acc=0.506]\n",
      "Validating:  82%|████████▏ | 14/17 [00:31<00:07,  2.50s/it]\u001b[A\n",
      "Epoch 0:   2%|▏         | 17/702 [00:46<31:07,  2.73s/it, loss=1.12, v_num=5, val_loss=1.060, val_f1=0.556, val_acc=0.506]\n",
      "Validating:  94%|█████████▍| 16/17 [00:37<00:02,  2.76s/it]\u001b[A\n",
      "Epoch 0:   3%|▎         | 19/702 [00:50<30:32,  2.68s/it, loss=1.12, v_num=5, val_loss=2.870, val_f1=0.429, val_acc=0.392, train_acc=0.488, train_f1=0.534, train_loss=1.120]\n",
      "Epoch 0:   3%|▎         | 20/702 [01:07<38:26,  3.38s/it, loss=2.32, v_num=5, val_loss=2.870, val_f1=0.429, val_acc=0.392, train_acc=0.488, train_f1=0.534, train_loss=1.120]\n",
      "Validating: 0it [00:00, ?it/s]\u001b[A\n",
      "Validating:   0%|          | 0/17 [00:00<?, ?it/s]\u001b[A\n",
      "Epoch 0:   3%|▎         | 22/702 [01:10<36:25,  3.21s/it, loss=2.32, v_num=5, val_loss=2.870, val_f1=0.429, val_acc=0.392, train_acc=0.488, train_f1=0.534, train_loss=1.120]\n",
      "Validating:  12%|█▏        | 2/17 [00:06<00:46,  3.08s/it]\u001b[A\n",
      "Epoch 0:   3%|▎         | 24/702 [01:16<35:55,  3.18s/it, loss=2.32, v_num=5, val_loss=2.870, val_f1=0.429, val_acc=0.392, train_acc=0.488, train_f1=0.534, train_loss=1.120]\n",
      "Validating:  24%|██▎       | 4/17 [00:11<00:39,  3.01s/it]\u001b[A\n",
      "Epoch 0:   4%|▎         | 26/702 [01:22<35:32,  3.15s/it, loss=2.32, v_num=5, val_loss=2.870, val_f1=0.429, val_acc=0.392, train_acc=0.488, train_f1=0.534, train_loss=1.120]\n",
      "Validating:  35%|███▌      | 6/17 [00:16<00:29,  2.69s/it]\u001b[A\n",
      "Epoch 0:   4%|▍         | 28/702 [01:28<35:22,  3.15s/it, loss=2.32, v_num=5, val_loss=2.870, val_f1=0.429, val_acc=0.392, train_acc=0.488, train_f1=0.534, train_loss=1.120]\n",
      "Validating:  47%|████▋     | 8/17 [00:23<00:26,  2.99s/it]\u001b[A\n",
      "Epoch 0:   4%|▍         | 30/702 [01:33<34:58,  3.12s/it, loss=2.32, v_num=5, val_loss=2.870, val_f1=0.429, val_acc=0.392, train_acc=0.488, train_f1=0.534, train_loss=1.120]\n",
      "Validating:  59%|█████▉    | 10/17 [00:28<00:19,  2.85s/it]\u001b[A\n",
      "Epoch 0:   5%|▍         | 32/702 [01:39<34:52,  3.12s/it, loss=2.32, v_num=5, val_loss=2.870, val_f1=0.429, val_acc=0.392, train_acc=0.488, train_f1=0.534, train_loss=1.120]\n",
      "Validating:  71%|███████   | 12/17 [00:36<00:16,  3.28s/it]\u001b[A\n",
      "Epoch 0:   5%|▍         | 34/702 [01:46<34:50,  3.13s/it, loss=2.32, v_num=5, val_loss=2.870, val_f1=0.429, val_acc=0.392, train_acc=0.488, train_f1=0.534, train_loss=1.120]\n",
      "Validating:  82%|████████▏ | 14/17 [00:40<00:08,  2.81s/it]\u001b[A\n",
      "Epoch 0:   5%|▌         | 36/702 [01:50<34:13,  3.08s/it, loss=2.32, v_num=5, val_loss=2.870, val_f1=0.429, val_acc=0.392, train_acc=0.488, train_f1=0.534, train_loss=1.120]\n",
      "Validating:  94%|█████████▍| 16/17 [00:45<00:02,  2.58s/it]\u001b[A\n",
      "Epoch 0:   5%|▌         | 38/702 [01:54<33:27,  3.02s/it, loss=2.32, v_num=5, val_loss=2.070, val_f1=0.697, val_acc=0.712, train_acc=0.410, train_f1=0.447, train_loss=3.530]\n",
      "Epoch 0:   6%|▌         | 39/702 [02:17<39:02,  3.53s/it, loss=1.89, v_num=5, val_loss=2.070, val_f1=0.697, val_acc=0.712, train_acc=0.410, train_f1=0.447, train_loss=3.530]\n",
      "Validating: 0it [00:00, ?it/s]\u001b[A\n",
      "Validating:   0%|          | 0/17 [00:00<?, ?it/s]\u001b[A\n",
      "Epoch 0:   6%|▌         | 41/702 [02:21<38:02,  3.45s/it, loss=1.89, v_num=5, val_loss=2.070, val_f1=0.697, val_acc=0.712, train_acc=0.410, train_f1=0.447, train_loss=3.530]\n",
      "Validating:  12%|█▏        | 2/17 [00:07<00:56,  3.74s/it]\u001b[A\n",
      "Epoch 0:   6%|▌         | 43/702 [02:28<37:55,  3.45s/it, loss=1.89, v_num=5, val_loss=2.070, val_f1=0.697, val_acc=0.712, train_acc=0.410, train_f1=0.447, train_loss=3.530]\n",
      "Validating:  24%|██▎       | 4/17 [00:14<00:48,  3.76s/it]\u001b[A\n",
      "Epoch 0:   6%|▋         | 45/702 [02:35<37:45,  3.45s/it, loss=1.89, v_num=5, val_loss=2.070, val_f1=0.697, val_acc=0.712, train_acc=0.410, train_f1=0.447, train_loss=3.530]\n",
      "Validating:  35%|███▌      | 6/17 [00:21<00:39,  3.55s/it]\u001b[A\n",
      "Epoch 0:   7%|▋         | 47/702 [02:41<37:34,  3.44s/it, loss=1.89, v_num=5, val_loss=2.070, val_f1=0.697, val_acc=0.712, train_acc=0.410, train_f1=0.447, train_loss=3.530]\n",
      "Validating:  47%|████▋     | 8/17 [00:26<00:28,  3.13s/it]\u001b[A\n",
      "Epoch 0:   7%|▋         | 49/702 [02:47<37:08,  3.41s/it, loss=1.89, v_num=5, val_loss=2.070, val_f1=0.697, val_acc=0.712, train_acc=0.410, train_f1=0.447, train_loss=3.530]\n",
      "Validating:  59%|█████▉    | 10/17 [00:33<00:22,  3.26s/it]\u001b[A\n",
      "Epoch 0:   7%|▋         | 51/702 [02:54<37:05,  3.42s/it, loss=1.89, v_num=5, val_loss=2.070, val_f1=0.697, val_acc=0.712, train_acc=0.410, train_f1=0.447, train_loss=3.530]\n",
      "Validating:  71%|███████   | 12/17 [00:39<00:16,  3.29s/it]\u001b[A\n",
      "Epoch 0:   8%|▊         | 53/702 [03:01<37:05,  3.43s/it, loss=1.89, v_num=5, val_loss=2.070, val_f1=0.697, val_acc=0.712, train_acc=0.410, train_f1=0.447, train_loss=3.530]\n",
      "Validating:  82%|████████▏ | 14/17 [00:47<00:10,  3.39s/it]\u001b[A\n",
      "Epoch 0:   8%|▊         | 55/702 [03:08<36:53,  3.42s/it, loss=1.89, v_num=5, val_loss=2.070, val_f1=0.697, val_acc=0.712, train_acc=0.410, train_f1=0.447, train_loss=3.530]\n",
      "Validating:  94%|█████████▍| 16/17 [00:52<00:03,  3.14s/it]\u001b[A\n",
      "Epoch 0:   8%|▊         | 57/702 [03:12<36:20,  3.38s/it, loss=1.89, v_num=5, val_loss=1.930, val_f1=0.707, val_acc=0.737, train_acc=0.729, train_f1=0.723, train_loss=1.030]\n",
      "Epoch 0:   8%|▊         | 59/702 [03:30<38:13,  3.57s/it, loss=1.67, v_num=5, val_loss=1.930, val_f1=0.707, val_acc=0.737, train_acc=0.729, train_f1=0.723, train_loss=1.030]\n",
      "Validating: 0it [00:00, ?it/s]\u001b[A\n",
      "Validating:   0%|          | 0/17 [00:00<?, ?it/s]\u001b[A\n",
      "Epoch 0:   9%|▊         | 60/702 [03:33<38:04,  3.56s/it, loss=1.67, v_num=5, val_loss=1.930, val_f1=0.707, val_acc=0.737, train_acc=0.729, train_f1=0.723, train_loss=1.030]\n",
      "Epoch 0:   9%|▊         | 61/702 [03:36<37:54,  3.55s/it, loss=1.67, v_num=5, val_loss=1.930, val_f1=0.707, val_acc=0.737, train_acc=0.729, train_f1=0.723, train_loss=1.030]\n",
      "Epoch 0:   9%|▉         | 62/702 [03:39<37:49,  3.55s/it, loss=1.67, v_num=5, val_loss=1.930, val_f1=0.707, val_acc=0.737, train_acc=0.729, train_f1=0.723, train_loss=1.030]\n",
      "Epoch 0:   9%|▉         | 63/702 [03:43<37:42,  3.54s/it, loss=1.67, v_num=5, val_loss=1.930, val_f1=0.707, val_acc=0.737, train_acc=0.729, train_f1=0.723, train_loss=1.030]\n",
      "Epoch 0:   9%|▉         | 64/702 [03:45<37:31,  3.53s/it, loss=1.67, v_num=5, val_loss=1.930, val_f1=0.707, val_acc=0.737, train_acc=0.729, train_f1=0.723, train_loss=1.030]\n",
      "Epoch 0:   9%|▉         | 65/702 [03:48<37:20,  3.52s/it, loss=1.67, v_num=5, val_loss=1.930, val_f1=0.707, val_acc=0.737, train_acc=0.729, train_f1=0.723, train_loss=1.030]\n",
      "Epoch 0:   9%|▉         | 66/702 [03:51<37:13,  3.51s/it, loss=1.67, v_num=5, val_loss=1.930, val_f1=0.707, val_acc=0.737, train_acc=0.729, train_f1=0.723, train_loss=1.030]\n",
      "Epoch 0:  10%|▉         | 67/702 [03:54<37:03,  3.50s/it, loss=1.67, v_num=5, val_loss=1.930, val_f1=0.707, val_acc=0.737, train_acc=0.729, train_f1=0.723, train_loss=1.030]\n",
      "Epoch 0:  10%|▉         | 68/702 [03:57<36:54,  3.49s/it, loss=1.67, v_num=5, val_loss=1.930, val_f1=0.707, val_acc=0.737, train_acc=0.729, train_f1=0.723, train_loss=1.030]\n",
      "Epoch 0:  10%|▉         | 69/702 [04:00<36:46,  3.49s/it, loss=1.67, v_num=5, val_loss=1.930, val_f1=0.707, val_acc=0.737, train_acc=0.729, train_f1=0.723, train_loss=1.030]\n",
      "Epoch 0:  10%|▉         | 70/702 [04:03<36:37,  3.48s/it, loss=1.67, v_num=5, val_loss=1.930, val_f1=0.707, val_acc=0.737, train_acc=0.729, train_f1=0.723, train_loss=1.030]\n",
      "Epoch 0:  10%|█         | 71/702 [04:06<36:30,  3.47s/it, loss=1.67, v_num=5, val_loss=1.930, val_f1=0.707, val_acc=0.737, train_acc=0.729, train_f1=0.723, train_loss=1.030]\n",
      "Epoch 0:  10%|█         | 72/702 [04:09<36:20,  3.46s/it, loss=1.67, v_num=5, val_loss=1.930, val_f1=0.707, val_acc=0.737, train_acc=0.729, train_f1=0.723, train_loss=1.030]\n",
      "Epoch 0:  10%|█         | 73/702 [04:12<36:14,  3.46s/it, loss=1.67, v_num=5, val_loss=1.930, val_f1=0.707, val_acc=0.737, train_acc=0.729, train_f1=0.723, train_loss=1.030]\n",
      "Epoch 0:  11%|█         | 74/702 [04:15<36:08,  3.45s/it, loss=1.67, v_num=5, val_loss=1.930, val_f1=0.707, val_acc=0.737, train_acc=0.729, train_f1=0.723, train_loss=1.030]\n",
      "Epoch 0:  11%|█         | 75/702 [04:18<35:59,  3.44s/it, loss=1.67, v_num=5, val_loss=1.930, val_f1=0.707, val_acc=0.737, train_acc=0.729, train_f1=0.723, train_loss=1.030]\n",
      "Epoch 0:  11%|█         | 76/702 [04:20<35:46,  3.43s/it, loss=1.67, v_num=5, val_loss=1.700, val_f1=0.704, val_acc=0.728, train_acc=0.734, train_f1=0.705, train_loss=0.996]\n",
      "Epoch 0:  11%|█         | 77/702 [04:41<38:04,  3.65s/it, loss=1.51, v_num=5, val_loss=1.700, val_f1=0.704, val_acc=0.728, train_acc=0.734, train_f1=0.705, train_loss=0.996]\n",
      "Validating: 0it [00:00, ?it/s]\u001b[A\n",
      "Validating:   0%|          | 0/17 [00:00<?, ?it/s]\u001b[A\n",
      "Epoch 0:  11%|█▏        | 79/702 [04:45<37:28,  3.61s/it, loss=1.51, v_num=5, val_loss=1.700, val_f1=0.704, val_acc=0.728, train_acc=0.734, train_f1=0.705, train_loss=0.996]\n",
      "Validating:  12%|█▏        | 2/17 [00:06<00:52,  3.52s/it]\u001b[A\n",
      "Epoch 0:  12%|█▏        | 81/702 [04:52<37:19,  3.61s/it, loss=1.51, v_num=5, val_loss=1.700, val_f1=0.704, val_acc=0.728, train_acc=0.734, train_f1=0.705, train_loss=0.996]\n",
      "Validating:  24%|██▎       | 4/17 [00:14<00:46,  3.59s/it]\u001b[A\n",
      "Epoch 0:  12%|█▏        | 83/702 [04:59<37:10,  3.60s/it, loss=1.51, v_num=5, val_loss=1.700, val_f1=0.704, val_acc=0.728, train_acc=0.734, train_f1=0.705, train_loss=0.996]\n",
      "Validating:  35%|███▌      | 6/17 [00:21<00:40,  3.70s/it]\u001b[A\n",
      "Epoch 0:  12%|█▏        | 85/702 [05:06<37:04,  3.60s/it, loss=1.51, v_num=5, val_loss=1.700, val_f1=0.704, val_acc=0.728, train_acc=0.734, train_f1=0.705, train_loss=0.996]\n",
      "Validating:  47%|████▋     | 8/17 [00:28<00:32,  3.56s/it]\u001b[A\n",
      "Epoch 0:  12%|█▏        | 87/702 [05:13<36:57,  3.61s/it, loss=1.51, v_num=5, val_loss=1.700, val_f1=0.704, val_acc=0.728, train_acc=0.734, train_f1=0.705, train_loss=0.996]\n",
      "Validating:  59%|█████▉    | 10/17 [00:35<00:25,  3.63s/it]\u001b[A\n",
      "Epoch 0:  13%|█▎        | 89/702 [05:20<36:50,  3.61s/it, loss=1.51, v_num=5, val_loss=1.700, val_f1=0.704, val_acc=0.728, train_acc=0.734, train_f1=0.705, train_loss=0.996]\n",
      "Validating:  71%|███████   | 12/17 [00:42<00:17,  3.52s/it]\u001b[A\n",
      "Epoch 0:  13%|█▎        | 91/702 [05:27<36:39,  3.60s/it, loss=1.51, v_num=5, val_loss=1.700, val_f1=0.704, val_acc=0.728, train_acc=0.734, train_f1=0.705, train_loss=0.996]\n",
      "Validating:  82%|████████▏ | 14/17 [00:49<00:10,  3.36s/it]\u001b[A\n",
      "Epoch 0:  13%|█▎        | 93/702 [05:34<36:31,  3.60s/it, loss=1.51, v_num=5, val_loss=1.700, val_f1=0.704, val_acc=0.728, train_acc=0.734, train_f1=0.705, train_loss=0.996]\n",
      "Validating:  94%|█████████▍| 16/17 [00:56<00:03,  3.41s/it]\u001b[A\n",
      "Epoch 0:  14%|█▎        | 95/702 [05:40<36:14,  3.58s/it, loss=1.51, v_num=5, val_loss=1.600, val_f1=0.650, val_acc=0.623, train_acc=0.729, train_f1=0.698, train_loss=0.846]\n",
      "Epoch 0:  14%|█▎        | 96/702 [06:07<38:37,  3.82s/it, loss=1.43, v_num=5, val_loss=1.600, val_f1=0.650, val_acc=0.623, train_acc=0.729, train_f1=0.698, train_loss=0.846]\n",
      "Validating: 0it [00:00, ?it/s]\u001b[A\n",
      "Validating:   0%|          | 0/17 [00:00<?, ?it/s]\u001b[A\n",
      "Epoch 0:  14%|█▍        | 98/702 [06:10<38:06,  3.79s/it, loss=1.43, v_num=5, val_loss=1.600, val_f1=0.650, val_acc=0.623, train_acc=0.729, train_f1=0.698, train_loss=0.846]\n",
      "Validating:  12%|█▏        | 2/17 [00:06<00:53,  3.57s/it]\u001b[A\n",
      "Epoch 0:  14%|█▍        | 100/702 [06:17<37:54,  3.78s/it, loss=1.43, v_num=5, val_loss=1.600, val_f1=0.650, val_acc=0.623, train_acc=0.729, train_f1=0.698, train_loss=0.846]\n",
      "Validating:  24%|██▎       | 4/17 [00:14<00:47,  3.67s/it]\u001b[A\n",
      "Epoch 0:  15%|█▍        | 102/702 [06:25<37:47,  3.78s/it, loss=1.43, v_num=5, val_loss=1.600, val_f1=0.650, val_acc=0.623, train_acc=0.729, train_f1=0.698, train_loss=0.846]\n",
      "Validating:  35%|███▌      | 6/17 [00:22<00:41,  3.76s/it]\u001b[A\n",
      "Epoch 0:  15%|█▍        | 104/702 [06:32<37:38,  3.78s/it, loss=1.43, v_num=5, val_loss=1.600, val_f1=0.650, val_acc=0.623, train_acc=0.729, train_f1=0.698, train_loss=0.846]\n",
      "Validating:  47%|████▋     | 8/17 [00:29<00:32,  3.62s/it]\u001b[A\n",
      "Epoch 0:  15%|█▌        | 106/702 [06:39<37:27,  3.77s/it, loss=1.43, v_num=5, val_loss=1.600, val_f1=0.650, val_acc=0.623, train_acc=0.729, train_f1=0.698, train_loss=0.846]\n",
      "Validating:  59%|█████▉    | 10/17 [00:36<00:25,  3.57s/it]\u001b[A\n",
      "Epoch 0:  15%|█▌        | 108/702 [06:46<37:18,  3.77s/it, loss=1.43, v_num=5, val_loss=1.600, val_f1=0.650, val_acc=0.623, train_acc=0.729, train_f1=0.698, train_loss=0.846]\n",
      "Validating:  71%|███████   | 12/17 [00:43<00:17,  3.52s/it]\u001b[A\n",
      "Epoch 0:  16%|█▌        | 110/702 [06:54<37:08,  3.76s/it, loss=1.43, v_num=5, val_loss=1.600, val_f1=0.650, val_acc=0.623, train_acc=0.729, train_f1=0.698, train_loss=0.846]\n",
      "Validating:  82%|████████▏ | 14/17 [00:50<00:10,  3.54s/it]\u001b[A\n",
      "Epoch 0:  16%|█▌        | 112/702 [07:01<36:59,  3.76s/it, loss=1.43, v_num=5, val_loss=1.600, val_f1=0.650, val_acc=0.623, train_acc=0.729, train_f1=0.698, train_loss=0.846]\n",
      "Validating:  94%|█████████▍| 16/17 [00:58<00:03,  3.74s/it]\u001b[A\n",
      "Epoch 0:  16%|█▌        | 114/702 [07:08<36:48,  3.76s/it, loss=1.43, v_num=5, val_loss=1.630, val_f1=0.615, val_acc=0.574, train_acc=0.631, train_f1=0.656, train_loss=1.050]\n",
      "Epoch 0:  16%|█▋        | 115/702 [07:34<38:39,  3.95s/it, loss=1.41, v_num=5, val_loss=1.630, val_f1=0.615, val_acc=0.574, train_acc=0.631, train_f1=0.656, train_loss=1.050]\n",
      "Validating: 0it [00:00, ?it/s]\u001b[A\n",
      "Validating:   0%|          | 0/17 [00:00<?, ?it/s]\u001b[A\n",
      "Epoch 0:  17%|█▋        | 117/702 [07:41<38:25,  3.94s/it, loss=1.41, v_num=5, val_loss=1.630, val_f1=0.615, val_acc=0.574, train_acc=0.631, train_f1=0.656, train_loss=1.050]\n",
      "Validating:  12%|█▏        | 2/17 [00:12<01:34,  6.28s/it]\u001b[A\n",
      "Epoch 0:  17%|█▋        | 119/702 [07:51<38:30,  3.96s/it, loss=1.41, v_num=5, val_loss=1.630, val_f1=0.615, val_acc=0.574, train_acc=0.631, train_f1=0.656, train_loss=1.050]\n",
      "Epoch 0:  17%|█▋        | 120/702 [07:57<38:33,  3.98s/it, loss=1.41, v_num=5, val_loss=1.630, val_f1=0.615, val_acc=0.574, train_acc=0.631, train_f1=0.656, train_loss=1.050]\n",
      "Epoch 0:  17%|█▋        | 121/702 [08:02<38:36,  3.99s/it, loss=1.41, v_num=5, val_loss=1.630, val_f1=0.615, val_acc=0.574, train_acc=0.631, train_f1=0.656, train_loss=1.050]\n",
      "Epoch 0:  17%|█▋        | 122/702 [08:07<38:39,  4.00s/it, loss=1.41, v_num=5, val_loss=1.630, val_f1=0.615, val_acc=0.574, train_acc=0.631, train_f1=0.656, train_loss=1.050]\n",
      "Epoch 0:  18%|█▊        | 123/702 [08:14<38:45,  4.02s/it, loss=1.41, v_num=5, val_loss=1.630, val_f1=0.615, val_acc=0.574, train_acc=0.631, train_f1=0.656, train_loss=1.050]\n",
      "Epoch 0:  18%|█▊        | 124/702 [08:19<38:49,  4.03s/it, loss=1.41, v_num=5, val_loss=1.630, val_f1=0.615, val_acc=0.574, train_acc=0.631, train_f1=0.656, train_loss=1.050]\n",
      "Epoch 0:  18%|█▊        | 125/702 [08:24<38:48,  4.04s/it, loss=1.41, v_num=5, val_loss=1.630, val_f1=0.615, val_acc=0.574, train_acc=0.631, train_f1=0.656, train_loss=1.050]\n",
      "Epoch 0:  18%|█▊        | 126/702 [08:29<38:47,  4.04s/it, loss=1.41, v_num=5, val_loss=1.630, val_f1=0.615, val_acc=0.574, train_acc=0.631, train_f1=0.656, train_loss=1.050]\n"
     ]
    },
    {
     "name": "stdout",
     "output_type": "stream",
     "text": [
      "Epoch 0:  18%|█▊        | 127/702 [08:34<38:48,  4.05s/it, loss=1.41, v_num=5, val_loss=1.630, val_f1=0.615, val_acc=0.574, train_acc=0.631, train_f1=0.656, train_loss=1.050]\n",
      "Epoch 0:  18%|█▊        | 128/702 [08:37<38:41,  4.04s/it, loss=1.41, v_num=5, val_loss=1.630, val_f1=0.615, val_acc=0.574, train_acc=0.631, train_f1=0.656, train_loss=1.050]\n",
      "Epoch 0:  18%|█▊        | 129/702 [08:41<38:37,  4.04s/it, loss=1.41, v_num=5, val_loss=1.630, val_f1=0.615, val_acc=0.574, train_acc=0.631, train_f1=0.656, train_loss=1.050]\n",
      "Epoch 0:  19%|█▊        | 130/702 [08:46<38:35,  4.05s/it, loss=1.41, v_num=5, val_loss=1.630, val_f1=0.615, val_acc=0.574, train_acc=0.631, train_f1=0.656, train_loss=1.050]\n",
      "Epoch 0:  19%|█▊        | 131/702 [08:49<38:29,  4.04s/it, loss=1.41, v_num=5, val_loss=1.630, val_f1=0.615, val_acc=0.574, train_acc=0.631, train_f1=0.656, train_loss=1.050]\n",
      "Epoch 0:  19%|█▉        | 132/702 [08:53<38:25,  4.04s/it, loss=1.41, v_num=5, val_loss=1.630, val_f1=0.615, val_acc=0.574, train_acc=0.631, train_f1=0.656, train_loss=1.050]\n",
      "Epoch 0:  19%|█▉        | 133/702 [08:56<38:14,  4.03s/it, loss=1.41, v_num=5, val_loss=1.590, val_f1=0.614, val_acc=0.573, train_acc=0.562, train_f1=0.605, train_loss=1.270]\n",
      "Epoch 0:  19%|█▉        | 134/702 [09:24<39:52,  4.21s/it, loss=1.37, v_num=5, val_loss=1.590, val_f1=0.614, val_acc=0.573, train_acc=0.562, train_f1=0.605, train_loss=1.270]\n",
      "Validating: 0it [00:00, ?it/s]\u001b[A\n",
      "Validating:   0%|          | 0/17 [00:00<?, ?it/s]\u001b[A\n",
      "Epoch 0:  19%|█▉        | 136/702 [09:28<39:27,  4.18s/it, loss=1.37, v_num=5, val_loss=1.590, val_f1=0.614, val_acc=0.573, train_acc=0.562, train_f1=0.605, train_loss=1.270]\n",
      "Validating:  12%|█▏        | 2/17 [00:10<01:13,  4.87s/it]\u001b[A\n",
      "Epoch 0:  20%|█▉        | 138/702 [09:39<39:28,  4.20s/it, loss=1.37, v_num=5, val_loss=1.590, val_f1=0.614, val_acc=0.573, train_acc=0.562, train_f1=0.605, train_loss=1.270]\n",
      "Epoch 0:  20%|█▉        | 139/702 [09:44<39:28,  4.21s/it, loss=1.37, v_num=5, val_loss=1.590, val_f1=0.614, val_acc=0.573, train_acc=0.562, train_f1=0.605, train_loss=1.270]\n",
      "Epoch 0:  20%|█▉        | 140/702 [09:48<39:23,  4.21s/it, loss=1.37, v_num=5, val_loss=1.590, val_f1=0.614, val_acc=0.573, train_acc=0.562, train_f1=0.605, train_loss=1.270]\n",
      "Epoch 0:  20%|██        | 141/702 [09:53<39:20,  4.21s/it, loss=1.37, v_num=5, val_loss=1.590, val_f1=0.614, val_acc=0.573, train_acc=0.562, train_f1=0.605, train_loss=1.270]\n",
      "Epoch 0:  20%|██        | 142/702 [09:57<39:17,  4.21s/it, loss=1.37, v_num=5, val_loss=1.590, val_f1=0.614, val_acc=0.573, train_acc=0.562, train_f1=0.605, train_loss=1.270]\n",
      "Epoch 0:  20%|██        | 143/702 [10:02<39:14,  4.21s/it, loss=1.37, v_num=5, val_loss=1.590, val_f1=0.614, val_acc=0.573, train_acc=0.562, train_f1=0.605, train_loss=1.270]\n",
      "Epoch 0:  21%|██        | 144/702 [10:07<39:14,  4.22s/it, loss=1.37, v_num=5, val_loss=1.590, val_f1=0.614, val_acc=0.573, train_acc=0.562, train_f1=0.605, train_loss=1.270]\n",
      "Epoch 0:  21%|██        | 145/702 [10:12<39:14,  4.23s/it, loss=1.37, v_num=5, val_loss=1.590, val_f1=0.614, val_acc=0.573, train_acc=0.562, train_f1=0.605, train_loss=1.270]\n",
      "Epoch 0:  21%|██        | 146/702 [10:18<39:14,  4.23s/it, loss=1.37, v_num=5, val_loss=1.590, val_f1=0.614, val_acc=0.573, train_acc=0.562, train_f1=0.605, train_loss=1.270]\n",
      "Epoch 0:  21%|██        | 147/702 [10:23<39:13,  4.24s/it, loss=1.37, v_num=5, val_loss=1.590, val_f1=0.614, val_acc=0.573, train_acc=0.562, train_f1=0.605, train_loss=1.270]\n",
      "Epoch 0:  21%|██        | 148/702 [10:27<39:10,  4.24s/it, loss=1.37, v_num=5, val_loss=1.590, val_f1=0.614, val_acc=0.573, train_acc=0.562, train_f1=0.605, train_loss=1.270]\n",
      "Epoch 0:  21%|██        | 149/702 [10:32<39:07,  4.24s/it, loss=1.37, v_num=5, val_loss=1.590, val_f1=0.614, val_acc=0.573, train_acc=0.562, train_f1=0.605, train_loss=1.270]\n",
      "Epoch 0:  21%|██▏       | 150/702 [10:38<39:08,  4.25s/it, loss=1.37, v_num=5, val_loss=1.590, val_f1=0.614, val_acc=0.573, train_acc=0.562, train_f1=0.605, train_loss=1.270]\n",
      "Epoch 0:  22%|██▏       | 151/702 [10:45<39:14,  4.27s/it, loss=1.37, v_num=5, val_loss=1.590, val_f1=0.614, val_acc=0.573, train_acc=0.562, train_f1=0.605, train_loss=1.270]\n",
      "Epoch 0:  22%|██▏       | 152/702 [10:48<39:07,  4.27s/it, loss=1.37, v_num=5, val_loss=1.410, val_f1=0.642, val_acc=0.612, train_acc=0.604, train_f1=0.641, train_loss=1.120]\n",
      "Epoch 0:  22%|██▏       | 153/702 [11:16<40:28,  4.42s/it, loss=1.34, v_num=5, val_loss=1.410, val_f1=0.642, val_acc=0.612, train_acc=0.604, train_f1=0.641, train_loss=1.120]\n",
      "Validating: 0it [00:00, ?it/s]\u001b[A\n",
      "Validating:   0%|          | 0/17 [00:00<?, ?it/s]\u001b[A\n",
      "Epoch 0:  22%|██▏       | 155/702 [11:22<40:07,  4.40s/it, loss=1.34, v_num=5, val_loss=1.410, val_f1=0.642, val_acc=0.612, train_acc=0.604, train_f1=0.641, train_loss=1.120]\n",
      "Validating:  12%|█▏        | 2/17 [00:10<01:17,  5.16s/it]\u001b[A\n",
      "Epoch 0:  22%|██▏       | 157/702 [11:30<39:57,  4.40s/it, loss=1.34, v_num=5, val_loss=1.410, val_f1=0.642, val_acc=0.612, train_acc=0.604, train_f1=0.641, train_loss=1.120]\n",
      "Validating:  24%|██▎       | 4/17 [00:17<00:59,  4.54s/it]\u001b[A\n",
      "Epoch 0:  23%|██▎       | 159/702 [11:37<39:43,  4.39s/it, loss=1.34, v_num=5, val_loss=1.410, val_f1=0.642, val_acc=0.612, train_acc=0.604, train_f1=0.641, train_loss=1.120]\n",
      "Validating:  35%|███▌      | 6/17 [00:25<00:44,  4.09s/it]\u001b[A\n",
      "Epoch 0:  23%|██▎       | 161/702 [11:45<39:31,  4.38s/it, loss=1.34, v_num=5, val_loss=1.410, val_f1=0.642, val_acc=0.612, train_acc=0.604, train_f1=0.641, train_loss=1.120]\n",
      "Validating:  47%|████▋     | 8/17 [00:32<00:35,  4.00s/it]\u001b[A\n",
      "Epoch 0:  23%|██▎       | 163/702 [11:53<39:19,  4.38s/it, loss=1.34, v_num=5, val_loss=1.410, val_f1=0.642, val_acc=0.612, train_acc=0.604, train_f1=0.641, train_loss=1.120]\n",
      "Validating:  59%|█████▉    | 10/17 [00:40<00:27,  3.95s/it]\u001b[A\n",
      "Epoch 0:  24%|██▎       | 165/702 [12:03<39:14,  4.38s/it, loss=1.34, v_num=5, val_loss=1.410, val_f1=0.642, val_acc=0.612, train_acc=0.604, train_f1=0.641, train_loss=1.120]\n",
      "Validating:  71%|███████   | 12/17 [00:52<00:24,  4.82s/it]\u001b[A\n",
      "Epoch 0:  24%|██▍       | 167/702 [12:12<39:06,  4.39s/it, loss=1.34, v_num=5, val_loss=1.410, val_f1=0.642, val_acc=0.612, train_acc=0.604, train_f1=0.641, train_loss=1.120]\n",
      "Validating:  82%|████████▏ | 14/17 [00:59<00:12,  4.24s/it]\u001b[A\n",
      "Epoch 0:  24%|██▍       | 169/702 [12:19<38:53,  4.38s/it, loss=1.34, v_num=5, val_loss=1.410, val_f1=0.642, val_acc=0.612, train_acc=0.604, train_f1=0.641, train_loss=1.120]\n",
      "Validating:  94%|█████████▍| 16/17 [01:06<00:03,  3.95s/it]\u001b[A\n",
      "Epoch 0:  24%|██▍       | 171/702 [12:26<38:37,  4.36s/it, loss=1.34, v_num=5, val_loss=1.370, val_f1=0.696, val_acc=0.707, train_acc=0.590, train_f1=0.615, train_loss=1.060]\n",
      "Epoch 0:  25%|██▍       | 172/702 [12:46<39:23,  4.46s/it, loss=1.29, v_num=5, val_loss=1.370, val_f1=0.696, val_acc=0.707, train_acc=0.590, train_f1=0.615, train_loss=1.060]\n",
      "Validating: 0it [00:00, ?it/s]\u001b[A\n",
      "Validating:   0%|          | 0/17 [00:00<?, ?it/s]\u001b[A\n",
      "Epoch 0:  25%|██▍       | 174/702 [12:51<39:00,  4.43s/it, loss=1.29, v_num=5, val_loss=1.370, val_f1=0.696, val_acc=0.707, train_acc=0.590, train_f1=0.615, train_loss=1.060]\n",
      "Validating:  12%|█▏        | 2/17 [00:08<01:02,  4.14s/it]\u001b[A\n",
      "Epoch 0:  25%|██▌       | 176/702 [12:59<38:48,  4.43s/it, loss=1.29, v_num=5, val_loss=1.370, val_f1=0.696, val_acc=0.707, train_acc=0.590, train_f1=0.615, train_loss=1.060]\n",
      "Validating:  24%|██▎       | 4/17 [00:15<00:52,  4.04s/it]\u001b[A\n",
      "Epoch 0:  25%|██▌       | 178/702 [13:06<38:35,  4.42s/it, loss=1.29, v_num=5, val_loss=1.370, val_f1=0.696, val_acc=0.707, train_acc=0.590, train_f1=0.615, train_loss=1.060]\n",
      "Validating:  35%|███▌      | 6/17 [00:23<00:43,  3.92s/it]\u001b[A\n",
      "Epoch 0:  26%|██▌       | 180/702 [13:14<38:24,  4.41s/it, loss=1.29, v_num=5, val_loss=1.370, val_f1=0.696, val_acc=0.707, train_acc=0.590, train_f1=0.615, train_loss=1.060]\n",
      "Validating:  47%|████▋     | 8/17 [00:31<00:36,  4.08s/it]\u001b[A\n",
      "Epoch 0:  26%|██▌       | 182/702 [13:23<38:15,  4.41s/it, loss=1.29, v_num=5, val_loss=1.370, val_f1=0.696, val_acc=0.707, train_acc=0.590, train_f1=0.615, train_loss=1.060]\n",
      "Validating:  59%|█████▉    | 10/17 [00:40<00:28,  4.09s/it]\u001b[A\n",
      "Epoch 0:  26%|██▌       | 184/702 [13:31<38:03,  4.41s/it, loss=1.29, v_num=5, val_loss=1.370, val_f1=0.696, val_acc=0.707, train_acc=0.590, train_f1=0.615, train_loss=1.060]\n",
      "Validating:  71%|███████   | 12/17 [00:48<00:19,  3.98s/it]\u001b[A\n",
      "Epoch 0:  26%|██▋       | 186/702 [13:38<37:51,  4.40s/it, loss=1.29, v_num=5, val_loss=1.370, val_f1=0.696, val_acc=0.707, train_acc=0.590, train_f1=0.615, train_loss=1.060]\n",
      "Validating:  82%|████████▏ | 14/17 [00:57<00:13,  4.59s/it]\u001b[A\n",
      "Epoch 0:  27%|██▋       | 188/702 [13:51<37:52,  4.42s/it, loss=1.29, v_num=5, val_loss=1.370, val_f1=0.696, val_acc=0.707, train_acc=0.590, train_f1=0.615, train_loss=1.060]\n",
      "Epoch 0:  27%|██▋       | 189/702 [13:55<37:48,  4.42s/it, loss=1.29, v_num=5, val_loss=1.370, val_f1=0.696, val_acc=0.707, train_acc=0.590, train_f1=0.615, train_loss=1.060]\n",
      "Epoch 0:  27%|██▋       | 190/702 [13:58<37:40,  4.41s/it, loss=1.29, v_num=5, val_loss=1.460, val_f1=0.712, val_acc=0.756, train_acc=0.697, train_f1=0.683, train_loss=0.832]\n",
      "Epoch 0:  27%|██▋       | 191/702 [14:19<38:18,  4.50s/it, loss=1.24, v_num=5, val_loss=1.460, val_f1=0.712, val_acc=0.756, train_acc=0.697, train_f1=0.683, train_loss=0.832]\n",
      "Validating: 0it [00:00, ?it/s]\u001b[A\n",
      "Validating:   0%|          | 0/17 [00:00<?, ?it/s]\u001b[A\n",
      "Epoch 0:  27%|██▋       | 193/702 [14:23<37:57,  4.47s/it, loss=1.24, v_num=5, val_loss=1.460, val_f1=0.712, val_acc=0.756, train_acc=0.697, train_f1=0.683, train_loss=0.832]\n",
      "Validating:  12%|█▏        | 2/17 [00:09<01:08,  4.58s/it]\u001b[A\n",
      "Epoch 0:  28%|██▊       | 195/702 [14:36<38:00,  4.50s/it, loss=1.24, v_num=5, val_loss=1.460, val_f1=0.712, val_acc=0.756, train_acc=0.697, train_f1=0.683, train_loss=0.832]\n",
      "Epoch 0:  28%|██▊       | 196/702 [14:42<37:58,  4.50s/it, loss=1.24, v_num=5, val_loss=1.460, val_f1=0.712, val_acc=0.756, train_acc=0.697, train_f1=0.683, train_loss=0.832]\n",
      "Epoch 0:  28%|██▊       | 197/702 [14:48<37:57,  4.51s/it, loss=1.24, v_num=5, val_loss=1.460, val_f1=0.712, val_acc=0.756, train_acc=0.697, train_f1=0.683, train_loss=0.832]\n",
      "Epoch 0:  28%|██▊       | 198/702 [14:53<37:54,  4.51s/it, loss=1.24, v_num=5, val_loss=1.460, val_f1=0.712, val_acc=0.756, train_acc=0.697, train_f1=0.683, train_loss=0.832]\n",
      "Epoch 0:  28%|██▊       | 199/702 [14:57<37:48,  4.51s/it, loss=1.24, v_num=5, val_loss=1.460, val_f1=0.712, val_acc=0.756, train_acc=0.697, train_f1=0.683, train_loss=0.832]\n",
      "Epoch 0:  28%|██▊       | 200/702 [15:01<37:43,  4.51s/it, loss=1.24, v_num=5, val_loss=1.460, val_f1=0.712, val_acc=0.756, train_acc=0.697, train_f1=0.683, train_loss=0.832]\n",
      "Epoch 0:  29%|██▊       | 201/702 [15:06<37:38,  4.51s/it, loss=1.24, v_num=5, val_loss=1.460, val_f1=0.712, val_acc=0.756, train_acc=0.697, train_f1=0.683, train_loss=0.832]\n",
      "Epoch 0:  29%|██▉       | 202/702 [15:10<37:32,  4.51s/it, loss=1.24, v_num=5, val_loss=1.460, val_f1=0.712, val_acc=0.756, train_acc=0.697, train_f1=0.683, train_loss=0.832]\n",
      "Epoch 0:  29%|██▉       | 203/702 [15:14<37:28,  4.51s/it, loss=1.24, v_num=5, val_loss=1.460, val_f1=0.712, val_acc=0.756, train_acc=0.697, train_f1=0.683, train_loss=0.832]\n",
      "Epoch 0:  29%|██▉       | 204/702 [15:19<37:25,  4.51s/it, loss=1.24, v_num=5, val_loss=1.460, val_f1=0.712, val_acc=0.756, train_acc=0.697, train_f1=0.683, train_loss=0.832]\n",
      "Epoch 0:  29%|██▉       | 205/702 [15:24<37:21,  4.51s/it, loss=1.24, v_num=5, val_loss=1.460, val_f1=0.712, val_acc=0.756, train_acc=0.697, train_f1=0.683, train_loss=0.832]\n",
      "Epoch 0:  29%|██▉       | 206/702 [15:28<37:14,  4.51s/it, loss=1.24, v_num=5, val_loss=1.460, val_f1=0.712, val_acc=0.756, train_acc=0.697, train_f1=0.683, train_loss=0.832]\n",
      "Epoch 0:  29%|██▉       | 207/702 [15:32<37:08,  4.50s/it, loss=1.24, v_num=5, val_loss=1.460, val_f1=0.712, val_acc=0.756, train_acc=0.697, train_f1=0.683, train_loss=0.832]\n",
      "Epoch 0:  30%|██▉       | 208/702 [15:35<37:02,  4.50s/it, loss=1.24, v_num=5, val_loss=1.460, val_f1=0.712, val_acc=0.756, train_acc=0.697, train_f1=0.683, train_loss=0.832]\n",
      "Epoch 0:  30%|██▉       | 209/702 [15:38<36:54,  4.49s/it, loss=1.24, v_num=5, val_loss=1.520, val_f1=0.715, val_acc=0.764, train_acc=0.748, train_f1=0.707, train_loss=0.726]\n",
      "Epoch 0:  30%|██▉       | 210/702 [16:01<37:33,  4.58s/it, loss=1.2, v_num=5, val_loss=1.520, val_f1=0.715, val_acc=0.764, train_acc=0.748, train_f1=0.707, train_loss=0.726] \n",
      "Validating: 0it [00:00, ?it/s]\u001b[A\n",
      "Validating:   0%|          | 0/17 [00:00<?, ?it/s]\u001b[A\n",
      "Epoch 0:  30%|███       | 212/702 [16:06<37:13,  4.56s/it, loss=1.2, v_num=5, val_loss=1.520, val_f1=0.715, val_acc=0.764, train_acc=0.748, train_f1=0.707, train_loss=0.726]\n",
      "Validating:  12%|█▏        | 2/17 [00:08<01:02,  4.14s/it]\u001b[A\n",
      "Epoch 0:  30%|███       | 214/702 [16:14<37:01,  4.55s/it, loss=1.2, v_num=5, val_loss=1.520, val_f1=0.715, val_acc=0.764, train_acc=0.748, train_f1=0.707, train_loss=0.726]\n",
      "Validating:  24%|██▎       | 4/17 [00:16<00:54,  4.23s/it]\u001b[A\n",
      "Epoch 0:  31%|███       | 216/702 [16:22<36:50,  4.55s/it, loss=1.2, v_num=5, val_loss=1.520, val_f1=0.715, val_acc=0.764, train_acc=0.748, train_f1=0.707, train_loss=0.726]\n",
      "Validating:  35%|███▌      | 6/17 [00:24<00:45,  4.15s/it]\u001b[A\n",
      "Epoch 0:  31%|███       | 218/702 [16:31<36:40,  4.55s/it, loss=1.2, v_num=5, val_loss=1.520, val_f1=0.715, val_acc=0.764, train_acc=0.748, train_f1=0.707, train_loss=0.726]\n",
      "Validating:  47%|████▋     | 8/17 [00:33<00:37,  4.20s/it]\u001b[A\n",
      "Epoch 0:  31%|███▏      | 220/702 [16:39<36:29,  4.54s/it, loss=1.2, v_num=5, val_loss=1.520, val_f1=0.715, val_acc=0.764, train_acc=0.748, train_f1=0.707, train_loss=0.726]\n",
      "Validating:  59%|█████▉    | 10/17 [00:41<00:28,  4.10s/it]\u001b[A\n",
      "Epoch 0:  32%|███▏      | 222/702 [16:47<36:18,  4.54s/it, loss=1.2, v_num=5, val_loss=1.520, val_f1=0.715, val_acc=0.764, train_acc=0.748, train_f1=0.707, train_loss=0.726]\n",
      "Validating:  71%|███████   | 12/17 [00:49<00:20,  4.04s/it]\u001b[A\n",
      "Epoch 0:  32%|███▏      | 224/702 [16:55<36:06,  4.53s/it, loss=1.2, v_num=5, val_loss=1.520, val_f1=0.715, val_acc=0.764, train_acc=0.748, train_f1=0.707, train_loss=0.726]\n",
      "Validating:  82%|████████▏ | 14/17 [00:57<00:12,  4.10s/it]\u001b[A\n",
      "Epoch 0:  32%|███▏      | 226/702 [17:03<35:56,  4.53s/it, loss=1.2, v_num=5, val_loss=1.520, val_f1=0.715, val_acc=0.764, train_acc=0.748, train_f1=0.707, train_loss=0.726]\n",
      "Validating:  94%|█████████▍| 16/17 [01:06<00:04,  4.15s/it]\u001b[A\n",
      "Epoch 0:  32%|███▏      | 228/702 [17:11<35:44,  4.52s/it, loss=1.2, v_num=5, val_loss=1.550, val_f1=0.714, val_acc=0.763, train_acc=0.748, train_f1=0.693, train_loss=0.792]\n",
      "Epoch 0:  33%|███▎      | 229/702 [17:53<36:58,  4.69s/it, loss=1.16, v_num=5, val_loss=1.550, val_f1=0.714, val_acc=0.763, train_acc=0.748, train_f1=0.693, train_loss=0.792]\n",
      "Validating: 0it [00:00, ?it/s]\u001b[A\n",
      "Validating:   0%|          | 0/17 [00:00<?, ?it/s]\u001b[A\n",
      "Epoch 0:  33%|███▎      | 231/702 [18:00<36:43,  4.68s/it, loss=1.16, v_num=5, val_loss=1.550, val_f1=0.714, val_acc=0.763, train_acc=0.748, train_f1=0.693, train_loss=0.792]\n",
      "Validating:  12%|█▏        | 2/17 [00:11<01:31,  6.09s/it]\u001b[A\n",
      "Epoch 0:  33%|███▎      | 233/702 [18:10<36:34,  4.68s/it, loss=1.16, v_num=5, val_loss=1.550, val_f1=0.714, val_acc=0.763, train_acc=0.748, train_f1=0.693, train_loss=0.792]\n",
      "Validating:  24%|██▎       | 4/17 [00:21<01:12,  5.55s/it]\u001b[A\n",
      "Epoch 0:  33%|███▎      | 235/702 [18:20<36:27,  4.68s/it, loss=1.16, v_num=5, val_loss=1.550, val_f1=0.714, val_acc=0.763, train_acc=0.748, train_f1=0.693, train_loss=0.792]\n",
      "Epoch 0:  34%|███▎      | 236/702 [18:25<36:22,  4.68s/it, loss=1.16, v_num=5, val_loss=1.550, val_f1=0.714, val_acc=0.763, train_acc=0.748, train_f1=0.693, train_loss=0.792]\n",
      "Epoch 0:  34%|███▍      | 237/702 [18:31<36:20,  4.69s/it, loss=1.16, v_num=5, val_loss=1.550, val_f1=0.714, val_acc=0.763, train_acc=0.748, train_f1=0.693, train_loss=0.792]\n",
      "Epoch 0:  34%|███▍      | 238/702 [18:36<36:15,  4.69s/it, loss=1.16, v_num=5, val_loss=1.550, val_f1=0.714, val_acc=0.763, train_acc=0.748, train_f1=0.693, train_loss=0.792]\n",
      "Epoch 0:  34%|███▍      | 239/702 [18:42<36:13,  4.69s/it, loss=1.16, v_num=5, val_loss=1.550, val_f1=0.714, val_acc=0.763, train_acc=0.748, train_f1=0.693, train_loss=0.792]\n"
     ]
    },
    {
     "name": "stdout",
     "output_type": "stream",
     "text": [
      "Epoch 0:  34%|███▍      | 240/702 [18:47<36:10,  4.70s/it, loss=1.16, v_num=5, val_loss=1.550, val_f1=0.714, val_acc=0.763, train_acc=0.748, train_f1=0.693, train_loss=0.792]\n",
      "Epoch 0:  34%|███▍      | 241/702 [18:53<36:07,  4.70s/it, loss=1.16, v_num=5, val_loss=1.550, val_f1=0.714, val_acc=0.763, train_acc=0.748, train_f1=0.693, train_loss=0.792]\n",
      "Epoch 0:  34%|███▍      | 242/702 [18:57<36:02,  4.70s/it, loss=1.16, v_num=5, val_loss=1.550, val_f1=0.714, val_acc=0.763, train_acc=0.748, train_f1=0.693, train_loss=0.792]\n",
      "Epoch 0:  35%|███▍      | 243/702 [19:02<35:58,  4.70s/it, loss=1.16, v_num=5, val_loss=1.550, val_f1=0.714, val_acc=0.763, train_acc=0.748, train_f1=0.693, train_loss=0.792]\n",
      "Epoch 0:  35%|███▍      | 244/702 [19:08<35:55,  4.71s/it, loss=1.16, v_num=5, val_loss=1.550, val_f1=0.714, val_acc=0.763, train_acc=0.748, train_f1=0.693, train_loss=0.792]\n",
      "Epoch 0:  35%|███▍      | 245/702 [19:13<35:52,  4.71s/it, loss=1.16, v_num=5, val_loss=1.550, val_f1=0.714, val_acc=0.763, train_acc=0.748, train_f1=0.693, train_loss=0.792]\n",
      "Epoch 0:  35%|███▌      | 246/702 [19:18<35:47,  4.71s/it, loss=1.16, v_num=5, val_loss=1.550, val_f1=0.714, val_acc=0.763, train_acc=0.748, train_f1=0.693, train_loss=0.792]\n",
      "Epoch 0:  35%|███▌      | 247/702 [19:21<35:39,  4.70s/it, loss=1.16, v_num=5, val_loss=1.450, val_f1=0.714, val_acc=0.755, train_acc=0.770, train_f1=0.714, train_loss=0.707]\n",
      "Epoch 0:  35%|███▌      | 248/702 [19:49<36:16,  4.79s/it, loss=1.13, v_num=5, val_loss=1.450, val_f1=0.714, val_acc=0.755, train_acc=0.770, train_f1=0.714, train_loss=0.707]\n",
      "Validating: 0it [00:00, ?it/s]\u001b[A\n",
      "Validating:   0%|          | 0/17 [00:00<?, ?it/s]\u001b[A\n",
      "Epoch 0:  36%|███▌      | 250/702 [19:54<35:58,  4.78s/it, loss=1.13, v_num=5, val_loss=1.450, val_f1=0.714, val_acc=0.755, train_acc=0.770, train_f1=0.714, train_loss=0.707]\n",
      "Validating:  12%|█▏        | 2/17 [00:10<01:15,  5.01s/it]\u001b[A\n",
      "Epoch 0:  36%|███▌      | 252/702 [20:03<35:49,  4.78s/it, loss=1.13, v_num=5, val_loss=1.450, val_f1=0.714, val_acc=0.755, train_acc=0.770, train_f1=0.714, train_loss=0.707]\n",
      "Validating:  24%|██▎       | 4/17 [00:18<01:00,  4.69s/it]\u001b[A\n",
      "Epoch 0:  36%|███▌      | 254/702 [20:12<35:38,  4.77s/it, loss=1.13, v_num=5, val_loss=1.450, val_f1=0.714, val_acc=0.755, train_acc=0.770, train_f1=0.714, train_loss=0.707]\n",
      "Validating:  35%|███▌      | 6/17 [00:29<00:56,  5.14s/it]\u001b[A\n",
      "Epoch 0:  36%|███▋      | 256/702 [20:23<35:31,  4.78s/it, loss=1.13, v_num=5, val_loss=1.450, val_f1=0.714, val_acc=0.755, train_acc=0.770, train_f1=0.714, train_loss=0.707]\n",
      "Epoch 0:  37%|███▋      | 257/702 [20:27<35:26,  4.78s/it, loss=1.13, v_num=5, val_loss=1.450, val_f1=0.714, val_acc=0.755, train_acc=0.770, train_f1=0.714, train_loss=0.707]\n",
      "Epoch 0:  37%|███▋      | 258/702 [20:33<35:22,  4.78s/it, loss=1.13, v_num=5, val_loss=1.450, val_f1=0.714, val_acc=0.755, train_acc=0.770, train_f1=0.714, train_loss=0.707]\n",
      "Epoch 0:  37%|███▋      | 259/702 [20:40<35:21,  4.79s/it, loss=1.13, v_num=5, val_loss=1.450, val_f1=0.714, val_acc=0.755, train_acc=0.770, train_f1=0.714, train_loss=0.707]\n",
      "Epoch 0:  37%|███▋      | 260/702 [20:46<35:18,  4.79s/it, loss=1.13, v_num=5, val_loss=1.450, val_f1=0.714, val_acc=0.755, train_acc=0.770, train_f1=0.714, train_loss=0.707]\n",
      "Epoch 0:  37%|███▋      | 261/702 [20:51<35:13,  4.79s/it, loss=1.13, v_num=5, val_loss=1.450, val_f1=0.714, val_acc=0.755, train_acc=0.770, train_f1=0.714, train_loss=0.707]\n",
      "Epoch 0:  37%|███▋      | 262/702 [20:55<35:07,  4.79s/it, loss=1.13, v_num=5, val_loss=1.450, val_f1=0.714, val_acc=0.755, train_acc=0.770, train_f1=0.714, train_loss=0.707]\n",
      "Epoch 0:  37%|███▋      | 263/702 [21:03<35:08,  4.80s/it, loss=1.13, v_num=5, val_loss=1.450, val_f1=0.714, val_acc=0.755, train_acc=0.770, train_f1=0.714, train_loss=0.707]\n",
      "Epoch 0:  38%|███▊      | 264/702 [21:11<35:08,  4.81s/it, loss=1.13, v_num=5, val_loss=1.450, val_f1=0.714, val_acc=0.755, train_acc=0.770, train_f1=0.714, train_loss=0.707]\n",
      "Epoch 0:  38%|███▊      | 265/702 [21:15<35:03,  4.81s/it, loss=1.13, v_num=5, val_loss=1.450, val_f1=0.714, val_acc=0.755, train_acc=0.770, train_f1=0.714, train_loss=0.707]\n",
      "Epoch 0:  38%|███▊      | 266/702 [21:18<34:55,  4.81s/it, loss=1.13, v_num=5, val_loss=1.300, val_f1=0.701, val_acc=0.717, train_acc=0.752, train_f1=0.716, train_loss=0.739]\n",
      "Epoch 0:  38%|███▊      | 267/702 [21:52<35:38,  4.92s/it, loss=1.11, v_num=5, val_loss=1.300, val_f1=0.701, val_acc=0.717, train_acc=0.752, train_f1=0.716, train_loss=0.739]\n",
      "Validating: 0it [00:00, ?it/s]\u001b[A\n",
      "Validating:   0%|          | 0/17 [00:00<?, ?it/s]\u001b[A\n",
      "Epoch 0:  38%|███▊      | 269/702 [21:56<35:19,  4.90s/it, loss=1.11, v_num=5, val_loss=1.300, val_f1=0.701, val_acc=0.717, train_acc=0.752, train_f1=0.716, train_loss=0.739]\n",
      "Validating:  12%|█▏        | 2/17 [00:09<01:09,  4.66s/it]\u001b[A\n",
      "Epoch 0:  39%|███▊      | 271/702 [22:06<35:09,  4.90s/it, loss=1.11, v_num=5, val_loss=1.300, val_f1=0.701, val_acc=0.717, train_acc=0.752, train_f1=0.716, train_loss=0.739]\n",
      "Validating:  24%|██▎       | 4/17 [00:20<01:08,  5.25s/it]\u001b[A\n",
      "Epoch 0:  39%|███▉      | 273/702 [22:18<35:03,  4.90s/it, loss=1.11, v_num=5, val_loss=1.300, val_f1=0.701, val_acc=0.717, train_acc=0.752, train_f1=0.716, train_loss=0.739]\n",
      "Epoch 0:  39%|███▉      | 274/702 [22:22<34:57,  4.90s/it, loss=1.11, v_num=5, val_loss=1.300, val_f1=0.701, val_acc=0.717, train_acc=0.752, train_f1=0.716, train_loss=0.739]\n",
      "Epoch 0:  39%|███▉      | 275/702 [22:26<34:50,  4.90s/it, loss=1.11, v_num=5, val_loss=1.300, val_f1=0.701, val_acc=0.717, train_acc=0.752, train_f1=0.716, train_loss=0.739]\n",
      "Epoch 0:  39%|███▉      | 276/702 [22:32<34:47,  4.90s/it, loss=1.11, v_num=5, val_loss=1.300, val_f1=0.701, val_acc=0.717, train_acc=0.752, train_f1=0.716, train_loss=0.739]\n",
      "Epoch 0:  39%|███▉      | 277/702 [22:38<34:43,  4.90s/it, loss=1.11, v_num=5, val_loss=1.300, val_f1=0.701, val_acc=0.717, train_acc=0.752, train_f1=0.716, train_loss=0.739]\n",
      "Epoch 0:  40%|███▉      | 278/702 [22:43<34:39,  4.90s/it, loss=1.11, v_num=5, val_loss=1.300, val_f1=0.701, val_acc=0.717, train_acc=0.752, train_f1=0.716, train_loss=0.739]\n",
      "Epoch 0:  40%|███▉      | 279/702 [22:49<34:35,  4.91s/it, loss=1.11, v_num=5, val_loss=1.300, val_f1=0.701, val_acc=0.717, train_acc=0.752, train_f1=0.716, train_loss=0.739]\n",
      "Epoch 0:  40%|███▉      | 280/702 [22:54<34:31,  4.91s/it, loss=1.11, v_num=5, val_loss=1.300, val_f1=0.701, val_acc=0.717, train_acc=0.752, train_f1=0.716, train_loss=0.739]\n",
      "Epoch 0:  40%|████      | 281/702 [22:58<34:25,  4.91s/it, loss=1.11, v_num=5, val_loss=1.300, val_f1=0.701, val_acc=0.717, train_acc=0.752, train_f1=0.716, train_loss=0.739]\n",
      "Epoch 0:  40%|████      | 282/702 [23:03<34:19,  4.90s/it, loss=1.11, v_num=5, val_loss=1.300, val_f1=0.701, val_acc=0.717, train_acc=0.752, train_f1=0.716, train_loss=0.739]\n",
      "Epoch 0:  40%|████      | 283/702 [23:06<34:13,  4.90s/it, loss=1.11, v_num=5, val_loss=1.300, val_f1=0.701, val_acc=0.717, train_acc=0.752, train_f1=0.716, train_loss=0.739]\n",
      "Epoch 0:  40%|████      | 284/702 [23:11<34:08,  4.90s/it, loss=1.11, v_num=5, val_loss=1.300, val_f1=0.701, val_acc=0.717, train_acc=0.752, train_f1=0.716, train_loss=0.739]\n",
      "Epoch 0:  41%|████      | 285/702 [23:15<34:01,  4.90s/it, loss=1.11, v_num=5, val_loss=1.190, val_f1=0.687, val_acc=0.689, train_acc=0.704, train_f1=0.691, train_loss=0.760]\n",
      "Epoch 0:  41%|████      | 286/702 [23:46<34:34,  4.99s/it, loss=1.08, v_num=5, val_loss=1.190, val_f1=0.687, val_acc=0.689, train_acc=0.704, train_f1=0.691, train_loss=0.760]\n",
      "Validating: 0it [00:00, ?it/s]\u001b[A\n",
      "Validating:   0%|          | 0/17 [00:00<?, ?it/s]\u001b[A\n",
      "Epoch 0:  41%|████      | 288/702 [23:51<34:17,  4.97s/it, loss=1.08, v_num=5, val_loss=1.190, val_f1=0.687, val_acc=0.689, train_acc=0.704, train_f1=0.691, train_loss=0.760]\n",
      "Validating:  12%|█▏        | 2/17 [00:09<01:14,  4.98s/it]\u001b[A\n",
      "Epoch 0:  41%|████▏     | 290/702 [24:00<34:06,  4.97s/it, loss=1.08, v_num=5, val_loss=1.190, val_f1=0.687, val_acc=0.689, train_acc=0.704, train_f1=0.691, train_loss=0.760]\n",
      "Validating:  24%|██▎       | 4/17 [00:18<01:01,  4.72s/it]\u001b[A\n",
      "Epoch 0:  42%|████▏     | 292/702 [24:08<33:54,  4.96s/it, loss=1.08, v_num=5, val_loss=1.190, val_f1=0.687, val_acc=0.689, train_acc=0.704, train_f1=0.691, train_loss=0.760]\n",
      "Validating:  35%|███▌      | 6/17 [00:27<00:49,  4.51s/it]\u001b[A\n",
      "Epoch 0:  42%|████▏     | 294/702 [24:18<33:43,  4.96s/it, loss=1.08, v_num=5, val_loss=1.190, val_f1=0.687, val_acc=0.689, train_acc=0.704, train_f1=0.691, train_loss=0.760]\n",
      "Epoch 0:  42%|████▏     | 295/702 [24:32<33:51,  4.99s/it, loss=1.08, v_num=5, val_loss=1.190, val_f1=0.687, val_acc=0.689, train_acc=0.704, train_f1=0.691, train_loss=0.760]\n",
      "Epoch 0:  42%|████▏     | 296/702 [24:33<33:41,  4.98s/it, loss=1.08, v_num=5, val_loss=1.190, val_f1=0.687, val_acc=0.689, train_acc=0.704, train_f1=0.691, train_loss=0.760]\n",
      "Epoch 0:  42%|████▏     | 297/702 [24:40<33:39,  4.99s/it, loss=1.08, v_num=5, val_loss=1.190, val_f1=0.687, val_acc=0.689, train_acc=0.704, train_f1=0.691, train_loss=0.760]\n",
      "Epoch 0:  42%|████▏     | 298/702 [24:45<33:34,  4.99s/it, loss=1.08, v_num=5, val_loss=1.190, val_f1=0.687, val_acc=0.689, train_acc=0.704, train_f1=0.691, train_loss=0.760]\n",
      "Epoch 0:  43%|████▎     | 299/702 [24:51<33:30,  4.99s/it, loss=1.08, v_num=5, val_loss=1.190, val_f1=0.687, val_acc=0.689, train_acc=0.704, train_f1=0.691, train_loss=0.760]\n",
      "Epoch 0:  43%|████▎     | 300/702 [24:57<33:25,  4.99s/it, loss=1.08, v_num=5, val_loss=1.190, val_f1=0.687, val_acc=0.689, train_acc=0.704, train_f1=0.691, train_loss=0.760]\n",
      "Epoch 0:  43%|████▎     | 301/702 [25:04<33:23,  5.00s/it, loss=1.08, v_num=5, val_loss=1.190, val_f1=0.687, val_acc=0.689, train_acc=0.704, train_f1=0.691, train_loss=0.760]\n",
      "Epoch 0:  43%|████▎     | 302/702 [25:13<33:24,  5.01s/it, loss=1.08, v_num=5, val_loss=1.190, val_f1=0.687, val_acc=0.689, train_acc=0.704, train_f1=0.691, train_loss=0.760]\n",
      "Epoch 0:  43%|████▎     | 303/702 [25:20<33:21,  5.02s/it, loss=1.08, v_num=5, val_loss=1.190, val_f1=0.687, val_acc=0.689, train_acc=0.704, train_f1=0.691, train_loss=0.760]\n",
      "Epoch 0:  43%|████▎     | 304/702 [25:24<33:15,  5.01s/it, loss=1.08, v_num=5, val_loss=1.080, val_f1=0.698, val_acc=0.708, train_acc=0.702, train_f1=0.704, train_loss=0.688]\n",
      "Epoch 0:  43%|████▎     | 305/702 [26:00<33:51,  5.12s/it, loss=1.05, v_num=5, val_loss=1.080, val_f1=0.698, val_acc=0.708, train_acc=0.702, train_f1=0.704, train_loss=0.688]\n",
      "Validating: 0it [00:00, ?it/s]\u001b[A\n",
      "Validating:   0%|          | 0/17 [00:00<?, ?it/s]\u001b[A\n",
      "Epoch 0:  44%|████▎     | 307/702 [26:05<33:34,  5.10s/it, loss=1.05, v_num=5, val_loss=1.080, val_f1=0.698, val_acc=0.708, train_acc=0.702, train_f1=0.704, train_loss=0.688]\n",
      "Validating:  12%|█▏        | 2/17 [00:09<01:11,  4.77s/it]\u001b[A\n",
      "Epoch 0:  44%|████▍     | 309/702 [26:14<33:21,  5.09s/it, loss=1.05, v_num=5, val_loss=1.080, val_f1=0.698, val_acc=0.708, train_acc=0.702, train_f1=0.704, train_loss=0.688]\n",
      "Validating:  24%|██▎       | 4/17 [00:18<01:02,  4.78s/it]\u001b[A\n",
      "Epoch 0:  44%|████▍     | 311/702 [26:23<33:11,  5.09s/it, loss=1.05, v_num=5, val_loss=1.080, val_f1=0.698, val_acc=0.708, train_acc=0.702, train_f1=0.704, train_loss=0.688]\n",
      "Validating:  35%|███▌      | 6/17 [00:28<00:52,  4.80s/it]\u001b[A\n",
      "Epoch 0:  45%|████▍     | 313/702 [26:33<33:00,  5.09s/it, loss=1.05, v_num=5, val_loss=1.080, val_f1=0.698, val_acc=0.708, train_acc=0.702, train_f1=0.704, train_loss=0.688]\n",
      "Validating:  47%|████▋     | 8/17 [00:37<00:41,  4.66s/it]\u001b[A\n",
      "Epoch 0:  45%|████▍     | 315/702 [26:42<32:48,  5.09s/it, loss=1.05, v_num=5, val_loss=1.080, val_f1=0.698, val_acc=0.708, train_acc=0.702, train_f1=0.704, train_loss=0.688]\n",
      "Validating:  59%|█████▉    | 10/17 [00:47<00:35,  5.05s/it]\u001b[A\n",
      "Epoch 0:  45%|████▌     | 317/702 [26:53<32:39,  5.09s/it, loss=1.05, v_num=5, val_loss=1.080, val_f1=0.698, val_acc=0.708, train_acc=0.702, train_f1=0.704, train_loss=0.688]\n",
      "Epoch 0:  45%|████▌     | 318/702 [26:58<32:34,  5.09s/it, loss=1.05, v_num=5, val_loss=1.080, val_f1=0.698, val_acc=0.708, train_acc=0.702, train_f1=0.704, train_loss=0.688]\n",
      "Epoch 0:  45%|████▌     | 319/702 [27:03<32:28,  5.09s/it, loss=1.05, v_num=5, val_loss=1.080, val_f1=0.698, val_acc=0.708, train_acc=0.702, train_f1=0.704, train_loss=0.688]\n",
      "Epoch 0:  46%|████▌     | 320/702 [27:07<32:23,  5.09s/it, loss=1.05, v_num=5, val_loss=1.080, val_f1=0.698, val_acc=0.708, train_acc=0.702, train_f1=0.704, train_loss=0.688]\n",
      "Epoch 0:  46%|████▌     | 321/702 [27:12<32:17,  5.09s/it, loss=1.05, v_num=5, val_loss=1.080, val_f1=0.698, val_acc=0.708, train_acc=0.702, train_f1=0.704, train_loss=0.688]\n",
      "Epoch 0:  46%|████▌     | 322/702 [27:17<32:12,  5.09s/it, loss=1.05, v_num=5, val_loss=1.080, val_f1=0.698, val_acc=0.708, train_acc=0.702, train_f1=0.704, train_loss=0.688]\n",
      "Epoch 0:  46%|████▌     | 323/702 [27:21<32:06,  5.08s/it, loss=1.05, v_num=5, val_loss=1.080, val_f1=0.717, val_acc=0.766, train_acc=0.715, train_f1=0.701, train_loss=0.655]\n",
      "Epoch 0:  46%|████▌     | 324/702 [27:52<32:30,  5.16s/it, loss=1.03, v_num=5, val_loss=1.080, val_f1=0.717, val_acc=0.766, train_acc=0.715, train_f1=0.701, train_loss=0.655]\n",
      "Validating: 0it [00:00, ?it/s]\u001b[A\n",
      "Validating:   0%|          | 0/17 [00:00<?, ?it/s]\u001b[A\n",
      "Epoch 0:  46%|████▋     | 326/702 [28:02<32:20,  5.16s/it, loss=1.03, v_num=5, val_loss=1.080, val_f1=0.717, val_acc=0.766, train_acc=0.715, train_f1=0.701, train_loss=0.655]\n",
      "Epoch 0:  47%|████▋     | 327/702 [28:12<32:20,  5.18s/it, loss=1.03, v_num=5, val_loss=1.080, val_f1=0.717, val_acc=0.766, train_acc=0.715, train_f1=0.701, train_loss=0.655]\n",
      "Epoch 0:  47%|████▋     | 328/702 [28:15<32:13,  5.17s/it, loss=1.03, v_num=5, val_loss=1.080, val_f1=0.717, val_acc=0.766, train_acc=0.715, train_f1=0.701, train_loss=0.655]\n",
      "Epoch 0:  47%|████▋     | 329/702 [28:24<32:11,  5.18s/it, loss=1.03, v_num=5, val_loss=1.080, val_f1=0.717, val_acc=0.766, train_acc=0.715, train_f1=0.701, train_loss=0.655]\n",
      "Epoch 0:  47%|████▋     | 330/702 [28:31<32:09,  5.19s/it, loss=1.03, v_num=5, val_loss=1.080, val_f1=0.717, val_acc=0.766, train_acc=0.715, train_f1=0.701, train_loss=0.655]\n",
      "Epoch 0:  47%|████▋     | 331/702 [28:37<32:05,  5.19s/it, loss=1.03, v_num=5, val_loss=1.080, val_f1=0.717, val_acc=0.766, train_acc=0.715, train_f1=0.701, train_loss=0.655]\n",
      "Epoch 0:  47%|████▋     | 332/702 [28:43<32:00,  5.19s/it, loss=1.03, v_num=5, val_loss=1.080, val_f1=0.717, val_acc=0.766, train_acc=0.715, train_f1=0.701, train_loss=0.655]\n",
      "Epoch 0:  47%|████▋     | 333/702 [28:48<31:55,  5.19s/it, loss=1.03, v_num=5, val_loss=1.080, val_f1=0.717, val_acc=0.766, train_acc=0.715, train_f1=0.701, train_loss=0.655]\n",
      "Epoch 0:  48%|████▊     | 334/702 [28:55<31:52,  5.20s/it, loss=1.03, v_num=5, val_loss=1.080, val_f1=0.717, val_acc=0.766, train_acc=0.715, train_f1=0.701, train_loss=0.655]\n",
      "Epoch 0:  48%|████▊     | 335/702 [29:00<31:46,  5.20s/it, loss=1.03, v_num=5, val_loss=1.080, val_f1=0.717, val_acc=0.766, train_acc=0.715, train_f1=0.701, train_loss=0.655]\n",
      "Epoch 0:  48%|████▊     | 336/702 [29:04<31:40,  5.19s/it, loss=1.03, v_num=5, val_loss=1.080, val_f1=0.717, val_acc=0.766, train_acc=0.715, train_f1=0.701, train_loss=0.655]\n",
      "Epoch 0:  48%|████▊     | 337/702 [29:09<31:34,  5.19s/it, loss=1.03, v_num=5, val_loss=1.080, val_f1=0.717, val_acc=0.766, train_acc=0.715, train_f1=0.701, train_loss=0.655]\n",
      "Epoch 0:  48%|████▊     | 338/702 [29:13<31:28,  5.19s/it, loss=1.03, v_num=5, val_loss=1.080, val_f1=0.717, val_acc=0.766, train_acc=0.715, train_f1=0.701, train_loss=0.655]\n",
      "Epoch 0:  48%|████▊     | 339/702 [29:17<31:22,  5.19s/it, loss=1.03, v_num=5, val_loss=1.080, val_f1=0.717, val_acc=0.766, train_acc=0.715, train_f1=0.701, train_loss=0.655]\n",
      "Epoch 0:  48%|████▊     | 340/702 [29:23<31:17,  5.19s/it, loss=1.03, v_num=5, val_loss=1.080, val_f1=0.717, val_acc=0.766, train_acc=0.715, train_f1=0.701, train_loss=0.655]\n",
      "Epoch 0:  49%|████▊     | 341/702 [29:27<31:11,  5.18s/it, loss=1.03, v_num=5, val_loss=1.080, val_f1=0.717, val_acc=0.766, train_acc=0.715, train_f1=0.701, train_loss=0.655]\n",
      "Epoch 0:  49%|████▊     | 342/702 [29:31<31:04,  5.18s/it, loss=1.03, v_num=5, val_loss=1.160, val_f1=0.718, val_acc=0.770, train_acc=0.757, train_f1=0.693, train_loss=0.617]\n"
     ]
    },
    {
     "name": "stdout",
     "output_type": "stream",
     "text": [
      "Epoch 0:  49%|████▉     | 343/702 [30:17<31:41,  5.30s/it, loss=1.01, v_num=5, val_loss=1.160, val_f1=0.718, val_acc=0.770, train_acc=0.757, train_f1=0.693, train_loss=0.617]\n",
      "Validating: 0it [00:00, ?it/s]\u001b[A\n",
      "Validating:   0%|          | 0/17 [00:00<?, ?it/s]\u001b[A\n",
      "Epoch 0:  49%|████▉     | 345/702 [30:23<31:26,  5.28s/it, loss=1.01, v_num=5, val_loss=1.160, val_f1=0.718, val_acc=0.770, train_acc=0.757, train_f1=0.693, train_loss=0.617]\n",
      "Validating:  12%|█▏        | 2/17 [00:12<01:29,  5.99s/it]\u001b[A\n",
      "Epoch 0:  49%|████▉     | 347/702 [30:34<31:16,  5.29s/it, loss=1.01, v_num=5, val_loss=1.160, val_f1=0.718, val_acc=0.770, train_acc=0.757, train_f1=0.693, train_loss=0.617]\n",
      "Epoch 0:  50%|████▉     | 348/702 [30:40<31:11,  5.29s/it, loss=1.01, v_num=5, val_loss=1.160, val_f1=0.718, val_acc=0.770, train_acc=0.757, train_f1=0.693, train_loss=0.617]\n",
      "Epoch 0:  50%|████▉     | 349/702 [30:45<31:06,  5.29s/it, loss=1.01, v_num=5, val_loss=1.160, val_f1=0.718, val_acc=0.770, train_acc=0.757, train_f1=0.693, train_loss=0.617]\n",
      "Epoch 0:  50%|████▉     | 350/702 [30:50<31:01,  5.29s/it, loss=1.01, v_num=5, val_loss=1.160, val_f1=0.718, val_acc=0.770, train_acc=0.757, train_f1=0.693, train_loss=0.617]\n",
      "Epoch 0:  50%|█████     | 351/702 [30:56<30:56,  5.29s/it, loss=1.01, v_num=5, val_loss=1.160, val_f1=0.718, val_acc=0.770, train_acc=0.757, train_f1=0.693, train_loss=0.617]\n",
      "Epoch 0:  50%|█████     | 352/702 [31:01<30:50,  5.29s/it, loss=1.01, v_num=5, val_loss=1.160, val_f1=0.718, val_acc=0.770, train_acc=0.757, train_f1=0.693, train_loss=0.617]\n",
      "Epoch 0:  50%|█████     | 353/702 [31:06<30:45,  5.29s/it, loss=1.01, v_num=5, val_loss=1.160, val_f1=0.718, val_acc=0.770, train_acc=0.757, train_f1=0.693, train_loss=0.617]\n",
      "Epoch 0:  50%|█████     | 354/702 [31:12<30:40,  5.29s/it, loss=1.01, v_num=5, val_loss=1.160, val_f1=0.718, val_acc=0.770, train_acc=0.757, train_f1=0.693, train_loss=0.617]\n",
      "Epoch 0:  51%|█████     | 355/702 [31:18<30:35,  5.29s/it, loss=1.01, v_num=5, val_loss=1.160, val_f1=0.718, val_acc=0.770, train_acc=0.757, train_f1=0.693, train_loss=0.617]\n",
      "Epoch 0:  51%|█████     | 356/702 [31:22<30:29,  5.29s/it, loss=1.01, v_num=5, val_loss=1.160, val_f1=0.718, val_acc=0.770, train_acc=0.757, train_f1=0.693, train_loss=0.617]\n",
      "Epoch 0:  51%|█████     | 357/702 [31:26<30:23,  5.28s/it, loss=1.01, v_num=5, val_loss=1.160, val_f1=0.718, val_acc=0.770, train_acc=0.757, train_f1=0.693, train_loss=0.617]\n",
      "Epoch 0:  51%|█████     | 358/702 [31:31<30:17,  5.28s/it, loss=1.01, v_num=5, val_loss=1.160, val_f1=0.718, val_acc=0.770, train_acc=0.757, train_f1=0.693, train_loss=0.617]\n",
      "Epoch 0:  51%|█████     | 359/702 [31:37<30:12,  5.28s/it, loss=1.01, v_num=5, val_loss=1.160, val_f1=0.718, val_acc=0.770, train_acc=0.757, train_f1=0.693, train_loss=0.617]\n",
      "Epoch 0:  51%|█████▏    | 360/702 [31:42<30:07,  5.28s/it, loss=1.01, v_num=5, val_loss=1.160, val_f1=0.718, val_acc=0.770, train_acc=0.757, train_f1=0.693, train_loss=0.617]\n",
      "Epoch 0:  51%|█████▏    | 361/702 [31:46<30:00,  5.28s/it, loss=1.01, v_num=5, val_loss=1.150, val_f1=0.716, val_acc=0.763, train_acc=0.772, train_f1=0.730, train_loss=0.561]\n",
      "Epoch 0:  52%|█████▏    | 362/702 [32:34<30:35,  5.40s/it, loss=0.983, v_num=5, val_loss=1.150, val_f1=0.716, val_acc=0.763, train_acc=0.772, train_f1=0.730, train_loss=0.561]\n",
      "Validating: 0it [00:00, ?it/s]\u001b[A\n",
      "Validating:   0%|          | 0/17 [00:00<?, ?it/s]\u001b[A\n",
      "Epoch 0:  52%|█████▏    | 364/702 [32:39<30:19,  5.38s/it, loss=0.983, v_num=5, val_loss=1.150, val_f1=0.716, val_acc=0.763, train_acc=0.772, train_f1=0.730, train_loss=0.561]\n",
      "Validating:  12%|█▏        | 2/17 [00:09<01:11,  4.76s/it]\u001b[A\n",
      "Epoch 0:  52%|█████▏    | 366/702 [32:48<30:07,  5.38s/it, loss=0.983, v_num=5, val_loss=1.150, val_f1=0.716, val_acc=0.763, train_acc=0.772, train_f1=0.730, train_loss=0.561]\n",
      "Validating:  24%|██▎       | 4/17 [00:19<01:03,  4.86s/it]\u001b[A\n",
      "Epoch 0:  52%|█████▏    | 368/702 [32:59<29:56,  5.38s/it, loss=0.983, v_num=5, val_loss=1.150, val_f1=0.716, val_acc=0.763, train_acc=0.772, train_f1=0.730, train_loss=0.561]\n",
      "Epoch 0:  53%|█████▎    | 369/702 [33:04<29:51,  5.38s/it, loss=0.983, v_num=5, val_loss=1.150, val_f1=0.716, val_acc=0.763, train_acc=0.772, train_f1=0.730, train_loss=0.561]\n",
      "Epoch 0:  53%|█████▎    | 370/702 [33:11<29:46,  5.38s/it, loss=0.983, v_num=5, val_loss=1.150, val_f1=0.716, val_acc=0.763, train_acc=0.772, train_f1=0.730, train_loss=0.561]\n",
      "Epoch 0:  53%|█████▎    | 371/702 [33:18<29:43,  5.39s/it, loss=0.983, v_num=5, val_loss=1.150, val_f1=0.716, val_acc=0.763, train_acc=0.772, train_f1=0.730, train_loss=0.561]\n",
      "Epoch 0:  53%|█████▎    | 372/702 [33:25<29:38,  5.39s/it, loss=0.983, v_num=5, val_loss=1.150, val_f1=0.716, val_acc=0.763, train_acc=0.772, train_f1=0.730, train_loss=0.561]\n",
      "Epoch 0:  53%|█████▎    | 373/702 [33:31<29:33,  5.39s/it, loss=0.983, v_num=5, val_loss=1.150, val_f1=0.716, val_acc=0.763, train_acc=0.772, train_f1=0.730, train_loss=0.561]\n",
      "Epoch 0:  53%|█████▎    | 374/702 [33:37<29:29,  5.39s/it, loss=0.983, v_num=5, val_loss=1.150, val_f1=0.716, val_acc=0.763, train_acc=0.772, train_f1=0.730, train_loss=0.561]\n",
      "Epoch 0:  53%|█████▎    | 375/702 [33:43<29:24,  5.39s/it, loss=0.983, v_num=5, val_loss=1.150, val_f1=0.716, val_acc=0.763, train_acc=0.772, train_f1=0.730, train_loss=0.561]\n",
      "Epoch 0:  54%|█████▎    | 376/702 [33:49<29:19,  5.40s/it, loss=0.983, v_num=5, val_loss=1.150, val_f1=0.716, val_acc=0.763, train_acc=0.772, train_f1=0.730, train_loss=0.561]\n",
      "Epoch 0:  54%|█████▎    | 377/702 [33:55<29:15,  5.40s/it, loss=0.983, v_num=5, val_loss=1.150, val_f1=0.716, val_acc=0.763, train_acc=0.772, train_f1=0.730, train_loss=0.561]\n",
      "Epoch 0:  54%|█████▍    | 378/702 [34:01<29:09,  5.40s/it, loss=0.983, v_num=5, val_loss=1.150, val_f1=0.716, val_acc=0.763, train_acc=0.772, train_f1=0.730, train_loss=0.561]\n",
      "Epoch 0:  54%|█████▍    | 379/702 [34:06<29:04,  5.40s/it, loss=0.983, v_num=5, val_loss=1.150, val_f1=0.716, val_acc=0.763, train_acc=0.772, train_f1=0.730, train_loss=0.561]\n",
      "Epoch 0:  54%|█████▍    | 380/702 [34:09<28:56,  5.39s/it, loss=0.983, v_num=5, val_loss=1.130, val_f1=0.710, val_acc=0.744, train_acc=0.796, train_f1=0.755, train_loss=0.558]\n",
      "Epoch 0:  54%|█████▍    | 381/702 [34:58<29:27,  5.51s/it, loss=0.959, v_num=5, val_loss=1.130, val_f1=0.710, val_acc=0.744, train_acc=0.796, train_f1=0.755, train_loss=0.558]\n",
      "Validating: 0it [00:00, ?it/s]\u001b[A\n",
      "Validating:   0%|          | 0/17 [00:00<?, ?it/s]\u001b[A\n",
      "Epoch 0:  55%|█████▍    | 383/702 [35:03<29:12,  5.49s/it, loss=0.959, v_num=5, val_loss=1.130, val_f1=0.710, val_acc=0.744, train_acc=0.796, train_f1=0.755, train_loss=0.558]\n",
      "Validating:  12%|█▏        | 2/17 [00:10<01:21,  5.40s/it]\u001b[A\n",
      "Epoch 0:  55%|█████▍    | 385/702 [35:14<29:00,  5.49s/it, loss=0.959, v_num=5, val_loss=1.130, val_f1=0.710, val_acc=0.744, train_acc=0.796, train_f1=0.755, train_loss=0.558]\n",
      "Epoch 0:  55%|█████▍    | 386/702 [35:19<28:55,  5.49s/it, loss=0.959, v_num=5, val_loss=1.130, val_f1=0.710, val_acc=0.744, train_acc=0.796, train_f1=0.755, train_loss=0.558]\n",
      "Epoch 0:  55%|█████▌    | 387/702 [35:25<28:50,  5.49s/it, loss=0.959, v_num=5, val_loss=1.130, val_f1=0.710, val_acc=0.744, train_acc=0.796, train_f1=0.755, train_loss=0.558]\n",
      "Epoch 0:  55%|█████▌    | 388/702 [35:30<28:44,  5.49s/it, loss=0.959, v_num=5, val_loss=1.130, val_f1=0.710, val_acc=0.744, train_acc=0.796, train_f1=0.755, train_loss=0.558]\n",
      "Epoch 0:  55%|█████▌    | 389/702 [35:35<28:37,  5.49s/it, loss=0.959, v_num=5, val_loss=1.130, val_f1=0.710, val_acc=0.744, train_acc=0.796, train_f1=0.755, train_loss=0.558]\n",
      "Epoch 0:  56%|█████▌    | 390/702 [35:40<28:32,  5.49s/it, loss=0.959, v_num=5, val_loss=1.130, val_f1=0.710, val_acc=0.744, train_acc=0.796, train_f1=0.755, train_loss=0.558]\n",
      "Epoch 0:  56%|█████▌    | 391/702 [35:46<28:27,  5.49s/it, loss=0.959, v_num=5, val_loss=1.130, val_f1=0.710, val_acc=0.744, train_acc=0.796, train_f1=0.755, train_loss=0.558]\n",
      "Epoch 0:  56%|█████▌    | 392/702 [35:51<28:21,  5.49s/it, loss=0.959, v_num=5, val_loss=1.130, val_f1=0.710, val_acc=0.744, train_acc=0.796, train_f1=0.755, train_loss=0.558]\n",
      "Epoch 0:  56%|█████▌    | 393/702 [35:56<28:15,  5.49s/it, loss=0.959, v_num=5, val_loss=1.130, val_f1=0.710, val_acc=0.744, train_acc=0.796, train_f1=0.755, train_loss=0.558]\n",
      "Epoch 0:  56%|█████▌    | 394/702 [36:02<28:10,  5.49s/it, loss=0.959, v_num=5, val_loss=1.130, val_f1=0.710, val_acc=0.744, train_acc=0.796, train_f1=0.755, train_loss=0.558]\n",
      "Epoch 0:  56%|█████▋    | 395/702 [36:07<28:04,  5.49s/it, loss=0.959, v_num=5, val_loss=1.130, val_f1=0.710, val_acc=0.744, train_acc=0.796, train_f1=0.755, train_loss=0.558]\n",
      "Epoch 0:  56%|█████▋    | 396/702 [36:14<28:00,  5.49s/it, loss=0.959, v_num=5, val_loss=1.130, val_f1=0.710, val_acc=0.744, train_acc=0.796, train_f1=0.755, train_loss=0.558]\n",
      "Epoch 0:  57%|█████▋    | 397/702 [36:19<27:54,  5.49s/it, loss=0.959, v_num=5, val_loss=1.130, val_f1=0.710, val_acc=0.744, train_acc=0.796, train_f1=0.755, train_loss=0.558]\n",
      "Epoch 0:  57%|█████▋    | 398/702 [36:26<27:50,  5.49s/it, loss=0.959, v_num=5, val_loss=1.130, val_f1=0.710, val_acc=0.744, train_acc=0.796, train_f1=0.755, train_loss=0.558]\n",
      "Epoch 0:  57%|█████▋    | 399/702 [36:31<27:43,  5.49s/it, loss=0.959, v_num=5, val_loss=1.070, val_f1=0.704, val_acc=0.724, train_acc=0.737, train_f1=0.700, train_loss=0.634]\n",
      "Epoch 0:  57%|█████▋    | 400/702 [37:32<28:20,  5.63s/it, loss=0.818, v_num=5, val_loss=1.070, val_f1=0.704, val_acc=0.724, train_acc=0.737, train_f1=0.700, train_loss=0.634]\n",
      "Validating: 0it [00:00, ?it/s]\u001b[A\n",
      "Validating:   0%|          | 0/17 [00:00<?, ?it/s]\u001b[A\n",
      "Epoch 0:  57%|█████▋    | 402/702 [37:41<28:07,  5.63s/it, loss=0.818, v_num=5, val_loss=1.070, val_f1=0.704, val_acc=0.724, train_acc=0.737, train_f1=0.700, train_loss=0.634]\n",
      "Epoch 0:  57%|█████▋    | 403/702 [37:52<28:05,  5.64s/it, loss=0.818, v_num=5, val_loss=1.070, val_f1=0.704, val_acc=0.724, train_acc=0.737, train_f1=0.700, train_loss=0.634]\n",
      "Epoch 0:  58%|█████▊    | 404/702 [38:03<28:04,  5.65s/it, loss=0.818, v_num=5, val_loss=1.070, val_f1=0.704, val_acc=0.724, train_acc=0.737, train_f1=0.700, train_loss=0.634]\n",
      "Epoch 0:  58%|█████▊    | 405/702 [38:08<27:58,  5.65s/it, loss=0.818, v_num=5, val_loss=1.070, val_f1=0.704, val_acc=0.724, train_acc=0.737, train_f1=0.700, train_loss=0.634]\n",
      "Epoch 0:  58%|█████▊    | 406/702 [38:13<27:51,  5.65s/it, loss=0.818, v_num=5, val_loss=1.070, val_f1=0.704, val_acc=0.724, train_acc=0.737, train_f1=0.700, train_loss=0.634]\n",
      "Epoch 0:  58%|█████▊    | 407/702 [38:18<27:45,  5.65s/it, loss=0.818, v_num=5, val_loss=1.070, val_f1=0.704, val_acc=0.724, train_acc=0.737, train_f1=0.700, train_loss=0.634]\n",
      "Epoch 0:  58%|█████▊    | 408/702 [38:25<27:41,  5.65s/it, loss=0.818, v_num=5, val_loss=1.070, val_f1=0.704, val_acc=0.724, train_acc=0.737, train_f1=0.700, train_loss=0.634]\n",
      "Epoch 0:  58%|█████▊    | 409/702 [38:30<27:35,  5.65s/it, loss=0.818, v_num=5, val_loss=1.070, val_f1=0.704, val_acc=0.724, train_acc=0.737, train_f1=0.700, train_loss=0.634]\n",
      "Epoch 0:  58%|█████▊    | 410/702 [38:36<27:29,  5.65s/it, loss=0.818, v_num=5, val_loss=1.070, val_f1=0.704, val_acc=0.724, train_acc=0.737, train_f1=0.700, train_loss=0.634]\n",
      "Epoch 0:  59%|█████▊    | 411/702 [38:42<27:24,  5.65s/it, loss=0.818, v_num=5, val_loss=1.070, val_f1=0.704, val_acc=0.724, train_acc=0.737, train_f1=0.700, train_loss=0.634]\n",
      "Epoch 0:  59%|█████▊    | 412/702 [38:48<27:19,  5.65s/it, loss=0.818, v_num=5, val_loss=1.070, val_f1=0.704, val_acc=0.724, train_acc=0.737, train_f1=0.700, train_loss=0.634]\n",
      "Epoch 0:  59%|█████▉    | 413/702 [38:54<27:13,  5.65s/it, loss=0.818, v_num=5, val_loss=1.070, val_f1=0.704, val_acc=0.724, train_acc=0.737, train_f1=0.700, train_loss=0.634]\n",
      "Epoch 0:  59%|█████▉    | 414/702 [39:00<27:07,  5.65s/it, loss=0.818, v_num=5, val_loss=1.070, val_f1=0.704, val_acc=0.724, train_acc=0.737, train_f1=0.700, train_loss=0.634]\n",
      "Epoch 0:  59%|█████▉    | 415/702 [39:06<27:02,  5.65s/it, loss=0.818, v_num=5, val_loss=1.070, val_f1=0.704, val_acc=0.724, train_acc=0.737, train_f1=0.700, train_loss=0.634]\n",
      "Epoch 0:  59%|█████▉    | 416/702 [39:14<26:58,  5.66s/it, loss=0.818, v_num=5, val_loss=1.070, val_f1=0.704, val_acc=0.724, train_acc=0.737, train_f1=0.700, train_loss=0.634]\n",
      "Epoch 0:  59%|█████▉    | 417/702 [39:19<26:52,  5.66s/it, loss=0.818, v_num=5, val_loss=1.070, val_f1=0.704, val_acc=0.724, train_acc=0.737, train_f1=0.700, train_loss=0.634]\n",
      "Epoch 0:  60%|█████▉    | 418/702 [39:24<26:46,  5.66s/it, loss=0.818, v_num=5, val_loss=1.010, val_f1=0.700, val_acc=0.714, train_acc=0.691, train_f1=0.668, train_loss=0.707]\n",
      "Epoch 0:  60%|█████▉    | 419/702 [40:36<27:25,  5.81s/it, loss=0.799, v_num=5, val_loss=1.010, val_f1=0.700, val_acc=0.714, train_acc=0.691, train_f1=0.668, train_loss=0.707]\n",
      "Validating: 0it [00:00, ?it/s]\u001b[A\n",
      "Validating:   0%|          | 0/17 [00:00<?, ?it/s]\u001b[A\n",
      "Epoch 0:  60%|█████▉    | 421/702 [40:42<27:09,  5.80s/it, loss=0.799, v_num=5, val_loss=1.010, val_f1=0.700, val_acc=0.714, train_acc=0.691, train_f1=0.668, train_loss=0.707]\n",
      "Validating:  12%|█▏        | 2/17 [00:11<01:23,  5.57s/it]\u001b[A\n",
      "Epoch 0:  60%|██████    | 423/702 [40:52<26:57,  5.80s/it, loss=0.799, v_num=5, val_loss=1.010, val_f1=0.700, val_acc=0.714, train_acc=0.691, train_f1=0.668, train_loss=0.707]\n",
      "Epoch 0:  60%|██████    | 424/702 [40:56<26:50,  5.79s/it, loss=0.799, v_num=5, val_loss=1.010, val_f1=0.700, val_acc=0.714, train_acc=0.691, train_f1=0.668, train_loss=0.707]\n",
      "Epoch 0:  61%|██████    | 425/702 [41:01<26:44,  5.79s/it, loss=0.799, v_num=5, val_loss=1.010, val_f1=0.700, val_acc=0.714, train_acc=0.691, train_f1=0.668, train_loss=0.707]\n",
      "Epoch 0:  61%|██████    | 426/702 [41:06<26:37,  5.79s/it, loss=0.799, v_num=5, val_loss=1.010, val_f1=0.700, val_acc=0.714, train_acc=0.691, train_f1=0.668, train_loss=0.707]\n",
      "Epoch 0:  61%|██████    | 427/702 [41:10<26:31,  5.79s/it, loss=0.799, v_num=5, val_loss=1.010, val_f1=0.700, val_acc=0.714, train_acc=0.691, train_f1=0.668, train_loss=0.707]\n",
      "Epoch 0:  61%|██████    | 428/702 [41:16<26:25,  5.79s/it, loss=0.799, v_num=5, val_loss=1.010, val_f1=0.700, val_acc=0.714, train_acc=0.691, train_f1=0.668, train_loss=0.707]\n",
      "Epoch 0:  61%|██████    | 429/702 [41:23<26:20,  5.79s/it, loss=0.799, v_num=5, val_loss=1.010, val_f1=0.700, val_acc=0.714, train_acc=0.691, train_f1=0.668, train_loss=0.707]\n",
      "Epoch 0:  61%|██████▏   | 430/702 [41:30<26:15,  5.79s/it, loss=0.799, v_num=5, val_loss=1.010, val_f1=0.700, val_acc=0.714, train_acc=0.691, train_f1=0.668, train_loss=0.707]\n",
      "Epoch 0:  61%|██████▏   | 431/702 [41:38<26:11,  5.80s/it, loss=0.799, v_num=5, val_loss=1.010, val_f1=0.700, val_acc=0.714, train_acc=0.691, train_f1=0.668, train_loss=0.707]\n",
      "Epoch 0:  62%|██████▏   | 432/702 [41:45<26:05,  5.80s/it, loss=0.799, v_num=5, val_loss=1.010, val_f1=0.700, val_acc=0.714, train_acc=0.691, train_f1=0.668, train_loss=0.707]\n",
      "Epoch 0:  62%|██████▏   | 433/702 [41:51<26:00,  5.80s/it, loss=0.799, v_num=5, val_loss=1.010, val_f1=0.700, val_acc=0.714, train_acc=0.691, train_f1=0.668, train_loss=0.707]\n",
      "Epoch 0:  62%|██████▏   | 434/702 [41:57<25:54,  5.80s/it, loss=0.799, v_num=5, val_loss=1.010, val_f1=0.700, val_acc=0.714, train_acc=0.691, train_f1=0.668, train_loss=0.707]\n",
      "Epoch 0:  62%|██████▏   | 435/702 [42:03<25:49,  5.80s/it, loss=0.799, v_num=5, val_loss=1.010, val_f1=0.700, val_acc=0.714, train_acc=0.691, train_f1=0.668, train_loss=0.707]\n",
      "Epoch 0:  62%|██████▏   | 436/702 [42:10<25:43,  5.80s/it, loss=0.799, v_num=5, val_loss=1.010, val_f1=0.700, val_acc=0.714, train_acc=0.691, train_f1=0.668, train_loss=0.707]\n",
      "Epoch 0:  62%|██████▏   | 437/702 [42:15<25:37,  5.80s/it, loss=0.799, v_num=5, val_loss=0.974, val_f1=0.706, val_acc=0.732, train_acc=0.691, train_f1=0.679, train_loss=0.659]\n",
      "Epoch 0:  62%|██████▏   | 438/702 [42:58<25:53,  5.89s/it, loss=0.78, v_num=5, val_loss=0.974, val_f1=0.706, val_acc=0.732, train_acc=0.691, train_f1=0.679, train_loss=0.659] \n",
      "Validating: 0it [00:00, ?it/s]\u001b[A\n",
      "Validating:   0%|          | 0/17 [00:00<?, ?it/s]\u001b[A\n",
      "Epoch 0:  63%|██████▎   | 440/702 [43:06<25:39,  5.88s/it, loss=0.78, v_num=5, val_loss=0.974, val_f1=0.706, val_acc=0.732, train_acc=0.691, train_f1=0.679, train_loss=0.659]\n",
      "Validating:  12%|█▏        | 2/17 [00:13<01:49,  7.28s/it]\u001b[A\n"
     ]
    },
    {
     "name": "stdout",
     "output_type": "stream",
     "text": [
      "Epoch 0:  63%|██████▎   | 442/702 [43:18<25:28,  5.88s/it, loss=0.78, v_num=5, val_loss=0.974, val_f1=0.706, val_acc=0.732, train_acc=0.691, train_f1=0.679, train_loss=0.659]\n",
      "Epoch 0:  63%|██████▎   | 443/702 [43:24<25:22,  5.88s/it, loss=0.78, v_num=5, val_loss=0.974, val_f1=0.706, val_acc=0.732, train_acc=0.691, train_f1=0.679, train_loss=0.659]\n",
      "Epoch 0:  63%|██████▎   | 444/702 [43:30<25:16,  5.88s/it, loss=0.78, v_num=5, val_loss=0.974, val_f1=0.706, val_acc=0.732, train_acc=0.691, train_f1=0.679, train_loss=0.659]\n",
      "Epoch 0:  63%|██████▎   | 445/702 [43:37<25:11,  5.88s/it, loss=0.78, v_num=5, val_loss=0.974, val_f1=0.706, val_acc=0.732, train_acc=0.691, train_f1=0.679, train_loss=0.659]\n",
      "Epoch 0:  64%|██████▎   | 446/702 [43:44<25:06,  5.89s/it, loss=0.78, v_num=5, val_loss=0.974, val_f1=0.706, val_acc=0.732, train_acc=0.691, train_f1=0.679, train_loss=0.659]\n",
      "Epoch 0:  64%|██████▎   | 447/702 [43:52<25:01,  5.89s/it, loss=0.78, v_num=5, val_loss=0.974, val_f1=0.706, val_acc=0.732, train_acc=0.691, train_f1=0.679, train_loss=0.659]\n",
      "Epoch 0:  64%|██████▍   | 448/702 [43:59<24:56,  5.89s/it, loss=0.78, v_num=5, val_loss=0.974, val_f1=0.706, val_acc=0.732, train_acc=0.691, train_f1=0.679, train_loss=0.659]\n",
      "Epoch 0:  64%|██████▍   | 449/702 [44:05<24:50,  5.89s/it, loss=0.78, v_num=5, val_loss=0.974, val_f1=0.706, val_acc=0.732, train_acc=0.691, train_f1=0.679, train_loss=0.659]\n",
      "Epoch 0:  64%|██████▍   | 450/702 [44:11<24:45,  5.89s/it, loss=0.78, v_num=5, val_loss=0.974, val_f1=0.706, val_acc=0.732, train_acc=0.691, train_f1=0.679, train_loss=0.659]\n",
      "Epoch 0:  64%|██████▍   | 451/702 [44:17<24:38,  5.89s/it, loss=0.78, v_num=5, val_loss=0.974, val_f1=0.706, val_acc=0.732, train_acc=0.691, train_f1=0.679, train_loss=0.659]\n",
      "Epoch 0:  64%|██████▍   | 452/702 [44:23<24:33,  5.89s/it, loss=0.78, v_num=5, val_loss=0.974, val_f1=0.706, val_acc=0.732, train_acc=0.691, train_f1=0.679, train_loss=0.659]\n",
      "Epoch 0:  65%|██████▍   | 453/702 [44:30<24:27,  5.90s/it, loss=0.78, v_num=5, val_loss=0.974, val_f1=0.706, val_acc=0.732, train_acc=0.691, train_f1=0.679, train_loss=0.659]\n",
      "Epoch 0:  65%|██████▍   | 454/702 [44:37<24:22,  5.90s/it, loss=0.78, v_num=5, val_loss=0.974, val_f1=0.706, val_acc=0.732, train_acc=0.691, train_f1=0.679, train_loss=0.659]\n",
      "Epoch 0:  65%|██████▍   | 455/702 [44:42<24:16,  5.90s/it, loss=0.78, v_num=5, val_loss=0.974, val_f1=0.706, val_acc=0.732, train_acc=0.691, train_f1=0.679, train_loss=0.659]\n",
      "Epoch 0:  65%|██████▍   | 456/702 [44:47<24:09,  5.89s/it, loss=0.78, v_num=5, val_loss=0.960, val_f1=0.713, val_acc=0.749, train_acc=0.731, train_f1=0.697, train_loss=0.615]\n",
      "Epoch 0:  65%|██████▌   | 457/702 [45:28<24:22,  5.97s/it, loss=0.768, v_num=5, val_loss=0.960, val_f1=0.713, val_acc=0.749, train_acc=0.731, train_f1=0.697, train_loss=0.615]\n",
      "Validating: 0it [00:00, ?it/s]\u001b[A\n",
      "Validating:   0%|          | 0/17 [00:00<?, ?it/s]\u001b[A\n",
      "Epoch 0:  65%|██████▌   | 459/702 [45:35<24:07,  5.96s/it, loss=0.768, v_num=5, val_loss=0.960, val_f1=0.713, val_acc=0.749, train_acc=0.731, train_f1=0.697, train_loss=0.615]\n",
      "Validating:  12%|█▏        | 2/17 [00:12<01:34,  6.29s/it]\u001b[A\n",
      "Epoch 0:  66%|██████▌   | 461/702 [45:46<23:55,  5.96s/it, loss=0.768, v_num=5, val_loss=0.960, val_f1=0.713, val_acc=0.749, train_acc=0.731, train_f1=0.697, train_loss=0.615]\n",
      "Epoch 0:  66%|██████▌   | 462/702 [45:54<23:50,  5.96s/it, loss=0.768, v_num=5, val_loss=0.960, val_f1=0.713, val_acc=0.749, train_acc=0.731, train_f1=0.697, train_loss=0.615]\n",
      "Epoch 0:  66%|██████▌   | 463/702 [46:02<23:46,  5.97s/it, loss=0.768, v_num=5, val_loss=0.960, val_f1=0.713, val_acc=0.749, train_acc=0.731, train_f1=0.697, train_loss=0.615]\n",
      "Epoch 0:  66%|██████▌   | 464/702 [46:09<23:40,  5.97s/it, loss=0.768, v_num=5, val_loss=0.960, val_f1=0.713, val_acc=0.749, train_acc=0.731, train_f1=0.697, train_loss=0.615]\n",
      "Epoch 0:  66%|██████▌   | 465/702 [46:14<23:34,  5.97s/it, loss=0.768, v_num=5, val_loss=0.960, val_f1=0.713, val_acc=0.749, train_acc=0.731, train_f1=0.697, train_loss=0.615]\n",
      "Epoch 0:  66%|██████▋   | 466/702 [46:21<23:28,  5.97s/it, loss=0.768, v_num=5, val_loss=0.960, val_f1=0.713, val_acc=0.749, train_acc=0.731, train_f1=0.697, train_loss=0.615]\n",
      "Epoch 0:  67%|██████▋   | 467/702 [46:27<23:22,  5.97s/it, loss=0.768, v_num=5, val_loss=0.960, val_f1=0.713, val_acc=0.749, train_acc=0.731, train_f1=0.697, train_loss=0.615]\n",
      "Epoch 0:  67%|██████▋   | 468/702 [46:33<23:16,  5.97s/it, loss=0.768, v_num=5, val_loss=0.960, val_f1=0.713, val_acc=0.749, train_acc=0.731, train_f1=0.697, train_loss=0.615]\n",
      "Epoch 0:  67%|██████▋   | 469/702 [46:40<23:11,  5.97s/it, loss=0.768, v_num=5, val_loss=0.960, val_f1=0.713, val_acc=0.749, train_acc=0.731, train_f1=0.697, train_loss=0.615]\n",
      "Epoch 0:  67%|██████▋   | 470/702 [46:47<23:05,  5.97s/it, loss=0.768, v_num=5, val_loss=0.960, val_f1=0.713, val_acc=0.749, train_acc=0.731, train_f1=0.697, train_loss=0.615]\n",
      "Epoch 0:  67%|██████▋   | 471/702 [46:53<22:59,  5.97s/it, loss=0.768, v_num=5, val_loss=0.960, val_f1=0.713, val_acc=0.749, train_acc=0.731, train_f1=0.697, train_loss=0.615]\n",
      "Epoch 0:  67%|██████▋   | 472/702 [47:03<22:55,  5.98s/it, loss=0.768, v_num=5, val_loss=0.960, val_f1=0.713, val_acc=0.749, train_acc=0.731, train_f1=0.697, train_loss=0.615]\n",
      "Epoch 0:  67%|██████▋   | 473/702 [47:10<22:50,  5.98s/it, loss=0.768, v_num=5, val_loss=0.960, val_f1=0.713, val_acc=0.749, train_acc=0.731, train_f1=0.697, train_loss=0.615]\n",
      "Epoch 0:  68%|██████▊   | 474/702 [47:17<22:44,  5.99s/it, loss=0.768, v_num=5, val_loss=0.960, val_f1=0.713, val_acc=0.749, train_acc=0.731, train_f1=0.697, train_loss=0.615]\n",
      "Epoch 0:  68%|██████▊   | 475/702 [47:21<22:37,  5.98s/it, loss=0.768, v_num=5, val_loss=0.974, val_f1=0.716, val_acc=0.769, train_acc=0.740, train_f1=0.708, train_loss=0.600]\n",
      "Epoch 0:  68%|██████▊   | 476/702 [47:56<22:45,  6.04s/it, loss=0.742, v_num=5, val_loss=0.974, val_f1=0.716, val_acc=0.769, train_acc=0.740, train_f1=0.708, train_loss=0.600]\n",
      "Validating: 0it [00:00, ?it/s]\u001b[A\n",
      "Validating:   0%|          | 0/17 [00:00<?, ?it/s]\u001b[A\n",
      "Epoch 0:  68%|██████▊   | 478/702 [48:02<22:30,  6.03s/it, loss=0.742, v_num=5, val_loss=0.974, val_f1=0.716, val_acc=0.769, train_acc=0.740, train_f1=0.708, train_loss=0.600]\n",
      "Validating:  12%|█▏        | 2/17 [00:11<01:26,  5.78s/it]\u001b[A\n",
      "Epoch 0:  68%|██████▊   | 480/702 [48:12<22:17,  6.03s/it, loss=0.742, v_num=5, val_loss=0.974, val_f1=0.716, val_acc=0.769, train_acc=0.740, train_f1=0.708, train_loss=0.600]\n",
      "Epoch 0:  69%|██████▊   | 481/702 [48:17<22:11,  6.02s/it, loss=0.742, v_num=5, val_loss=0.974, val_f1=0.716, val_acc=0.769, train_acc=0.740, train_f1=0.708, train_loss=0.600]\n",
      "Epoch 0:  69%|██████▊   | 482/702 [48:21<22:04,  6.02s/it, loss=0.742, v_num=5, val_loss=0.974, val_f1=0.716, val_acc=0.769, train_acc=0.740, train_f1=0.708, train_loss=0.600]\n",
      "Epoch 0:  69%|██████▉   | 483/702 [48:27<21:58,  6.02s/it, loss=0.742, v_num=5, val_loss=0.974, val_f1=0.716, val_acc=0.769, train_acc=0.740, train_f1=0.708, train_loss=0.600]\n",
      "Epoch 0:  69%|██████▉   | 484/702 [48:34<21:52,  6.02s/it, loss=0.742, v_num=5, val_loss=0.974, val_f1=0.716, val_acc=0.769, train_acc=0.740, train_f1=0.708, train_loss=0.600]\n",
      "Epoch 0:  69%|██████▉   | 485/702 [48:40<21:46,  6.02s/it, loss=0.742, v_num=5, val_loss=0.974, val_f1=0.716, val_acc=0.769, train_acc=0.740, train_f1=0.708, train_loss=0.600]\n",
      "Epoch 0:  69%|██████▉   | 486/702 [48:46<21:40,  6.02s/it, loss=0.742, v_num=5, val_loss=0.974, val_f1=0.716, val_acc=0.769, train_acc=0.740, train_f1=0.708, train_loss=0.600]\n",
      "Epoch 0:  69%|██████▉   | 487/702 [48:52<21:34,  6.02s/it, loss=0.742, v_num=5, val_loss=0.974, val_f1=0.716, val_acc=0.769, train_acc=0.740, train_f1=0.708, train_loss=0.600]\n",
      "Epoch 0:  70%|██████▉   | 488/702 [48:58<21:28,  6.02s/it, loss=0.742, v_num=5, val_loss=0.974, val_f1=0.716, val_acc=0.769, train_acc=0.740, train_f1=0.708, train_loss=0.600]\n",
      "Epoch 0:  70%|██████▉   | 489/702 [49:03<21:22,  6.02s/it, loss=0.742, v_num=5, val_loss=0.974, val_f1=0.716, val_acc=0.769, train_acc=0.740, train_f1=0.708, train_loss=0.600]\n",
      "Epoch 0:  70%|██████▉   | 490/702 [49:09<21:16,  6.02s/it, loss=0.742, v_num=5, val_loss=0.974, val_f1=0.716, val_acc=0.769, train_acc=0.740, train_f1=0.708, train_loss=0.600]\n",
      "Epoch 0:  70%|██████▉   | 491/702 [49:16<21:10,  6.02s/it, loss=0.742, v_num=5, val_loss=0.974, val_f1=0.716, val_acc=0.769, train_acc=0.740, train_f1=0.708, train_loss=0.600]\n",
      "Epoch 0:  70%|███████   | 492/702 [49:23<21:04,  6.02s/it, loss=0.742, v_num=5, val_loss=0.974, val_f1=0.716, val_acc=0.769, train_acc=0.740, train_f1=0.708, train_loss=0.600]\n",
      "Epoch 0:  70%|███████   | 493/702 [49:29<20:58,  6.02s/it, loss=0.742, v_num=5, val_loss=0.974, val_f1=0.716, val_acc=0.769, train_acc=0.740, train_f1=0.708, train_loss=0.600]\n",
      "Epoch 0:  70%|███████   | 494/702 [49:33<20:51,  6.02s/it, loss=0.742, v_num=5, val_loss=1.020, val_f1=0.719, val_acc=0.787, train_acc=0.782, train_f1=0.729, train_loss=0.535]\n",
      "Epoch 0:  71%|███████   | 495/702 [50:15<21:01,  6.09s/it, loss=0.707, v_num=5, val_loss=1.020, val_f1=0.719, val_acc=0.787, train_acc=0.782, train_f1=0.729, train_loss=0.535]\n",
      "Validating: 0it [00:00, ?it/s]\u001b[A\n",
      "Validating:   0%|          | 0/17 [00:00<?, ?it/s]\u001b[A\n",
      "Epoch 0:  71%|███████   | 497/702 [50:22<20:46,  6.08s/it, loss=0.707, v_num=5, val_loss=1.020, val_f1=0.719, val_acc=0.787, train_acc=0.782, train_f1=0.729, train_loss=0.535]\n",
      "Validating:  12%|█▏        | 2/17 [00:15<01:49,  7.27s/it]\u001b[A\n",
      "Epoch 0:  71%|███████   | 499/702 [50:36<20:35,  6.09s/it, loss=0.707, v_num=5, val_loss=1.020, val_f1=0.719, val_acc=0.787, train_acc=0.782, train_f1=0.729, train_loss=0.535]\n",
      "Epoch 0:  71%|███████   | 500/702 [50:43<20:29,  6.09s/it, loss=0.707, v_num=5, val_loss=1.020, val_f1=0.719, val_acc=0.787, train_acc=0.782, train_f1=0.729, train_loss=0.535]\n",
      "Epoch 0:  71%|███████▏  | 501/702 [50:51<20:24,  6.09s/it, loss=0.707, v_num=5, val_loss=1.020, val_f1=0.719, val_acc=0.787, train_acc=0.782, train_f1=0.729, train_loss=0.535]\n",
      "Epoch 0:  72%|███████▏  | 502/702 [50:57<20:18,  6.09s/it, loss=0.707, v_num=5, val_loss=1.020, val_f1=0.719, val_acc=0.787, train_acc=0.782, train_f1=0.729, train_loss=0.535]\n",
      "Epoch 0:  72%|███████▏  | 503/702 [51:03<20:11,  6.09s/it, loss=0.707, v_num=5, val_loss=1.020, val_f1=0.719, val_acc=0.787, train_acc=0.782, train_f1=0.729, train_loss=0.535]\n",
      "Epoch 0:  72%|███████▏  | 504/702 [51:09<20:05,  6.09s/it, loss=0.707, v_num=5, val_loss=1.020, val_f1=0.719, val_acc=0.787, train_acc=0.782, train_f1=0.729, train_loss=0.535]\n",
      "Epoch 0:  72%|███████▏  | 505/702 [51:15<19:59,  6.09s/it, loss=0.707, v_num=5, val_loss=1.020, val_f1=0.719, val_acc=0.787, train_acc=0.782, train_f1=0.729, train_loss=0.535]\n",
      "Epoch 0:  72%|███████▏  | 506/702 [51:24<19:54,  6.10s/it, loss=0.707, v_num=5, val_loss=1.020, val_f1=0.719, val_acc=0.787, train_acc=0.782, train_f1=0.729, train_loss=0.535]\n",
      "Epoch 0:  72%|███████▏  | 507/702 [51:31<19:49,  6.10s/it, loss=0.707, v_num=5, val_loss=1.020, val_f1=0.719, val_acc=0.787, train_acc=0.782, train_f1=0.729, train_loss=0.535]\n",
      "Epoch 0:  72%|███████▏  | 508/702 [51:39<19:43,  6.10s/it, loss=0.707, v_num=5, val_loss=1.020, val_f1=0.719, val_acc=0.787, train_acc=0.782, train_f1=0.729, train_loss=0.535]\n",
      "Epoch 0:  73%|███████▎  | 509/702 [51:46<19:37,  6.10s/it, loss=0.707, v_num=5, val_loss=1.020, val_f1=0.719, val_acc=0.787, train_acc=0.782, train_f1=0.729, train_loss=0.535]\n",
      "Epoch 0:  73%|███████▎  | 510/702 [51:52<19:31,  6.10s/it, loss=0.707, v_num=5, val_loss=1.020, val_f1=0.719, val_acc=0.787, train_acc=0.782, train_f1=0.729, train_loss=0.535]\n",
      "Epoch 0:  73%|███████▎  | 511/702 [51:58<19:25,  6.10s/it, loss=0.707, v_num=5, val_loss=1.020, val_f1=0.719, val_acc=0.787, train_acc=0.782, train_f1=0.729, train_loss=0.535]\n",
      "Epoch 0:  73%|███████▎  | 512/702 [52:04<19:19,  6.10s/it, loss=0.707, v_num=5, val_loss=1.020, val_f1=0.719, val_acc=0.787, train_acc=0.782, train_f1=0.729, train_loss=0.535]\n",
      "Epoch 0:  73%|███████▎  | 513/702 [52:09<19:12,  6.10s/it, loss=0.707, v_num=5, val_loss=1.060, val_f1=0.720, val_acc=0.795, train_acc=0.768, train_f1=0.694, train_loss=0.570]\n",
      "Epoch 0:  73%|███████▎  | 514/702 [53:07<19:25,  6.20s/it, loss=0.68, v_num=5, val_loss=1.060, val_f1=0.720, val_acc=0.795, train_acc=0.768, train_f1=0.694, train_loss=0.570] \n",
      "Validating: 0it [00:00, ?it/s]\u001b[A\n",
      "Validating:   0%|          | 0/17 [00:00<?, ?it/s]\u001b[A\n",
      "Epoch 0:  74%|███████▎  | 516/702 [53:13<19:11,  6.19s/it, loss=0.68, v_num=5, val_loss=1.060, val_f1=0.720, val_acc=0.795, train_acc=0.768, train_f1=0.694, train_loss=0.570]\n",
      "Validating:  12%|█▏        | 2/17 [00:12<01:36,  6.42s/it]\u001b[A\n",
      "Epoch 0:  74%|███████▍  | 518/702 [53:25<18:58,  6.19s/it, loss=0.68, v_num=5, val_loss=1.060, val_f1=0.720, val_acc=0.795, train_acc=0.768, train_f1=0.694, train_loss=0.570]\n",
      "Epoch 0:  74%|███████▍  | 519/702 [53:31<18:52,  6.19s/it, loss=0.68, v_num=5, val_loss=1.060, val_f1=0.720, val_acc=0.795, train_acc=0.768, train_f1=0.694, train_loss=0.570]\n",
      "Epoch 0:  74%|███████▍  | 520/702 [53:37<18:46,  6.19s/it, loss=0.68, v_num=5, val_loss=1.060, val_f1=0.720, val_acc=0.795, train_acc=0.768, train_f1=0.694, train_loss=0.570]\n",
      "Epoch 0:  74%|███████▍  | 521/702 [53:43<18:39,  6.19s/it, loss=0.68, v_num=5, val_loss=1.060, val_f1=0.720, val_acc=0.795, train_acc=0.768, train_f1=0.694, train_loss=0.570]\n",
      "Epoch 0:  74%|███████▍  | 522/702 [53:51<18:34,  6.19s/it, loss=0.68, v_num=5, val_loss=1.060, val_f1=0.720, val_acc=0.795, train_acc=0.768, train_f1=0.694, train_loss=0.570]\n",
      "Epoch 0:  75%|███████▍  | 523/702 [53:56<18:27,  6.19s/it, loss=0.68, v_num=5, val_loss=1.060, val_f1=0.720, val_acc=0.795, train_acc=0.768, train_f1=0.694, train_loss=0.570]\n",
      "Epoch 0:  75%|███████▍  | 524/702 [54:00<18:20,  6.19s/it, loss=0.68, v_num=5, val_loss=1.060, val_f1=0.720, val_acc=0.795, train_acc=0.768, train_f1=0.694, train_loss=0.570]\n",
      "Epoch 0:  75%|███████▍  | 525/702 [54:05<18:14,  6.18s/it, loss=0.68, v_num=5, val_loss=1.060, val_f1=0.720, val_acc=0.795, train_acc=0.768, train_f1=0.694, train_loss=0.570]\n",
      "Epoch 0:  75%|███████▍  | 526/702 [54:10<18:07,  6.18s/it, loss=0.68, v_num=5, val_loss=1.060, val_f1=0.720, val_acc=0.795, train_acc=0.768, train_f1=0.694, train_loss=0.570]\n",
      "Epoch 0:  75%|███████▌  | 527/702 [54:15<18:01,  6.18s/it, loss=0.68, v_num=5, val_loss=1.060, val_f1=0.720, val_acc=0.795, train_acc=0.768, train_f1=0.694, train_loss=0.570]\n",
      "Epoch 0:  75%|███████▌  | 528/702 [54:20<17:54,  6.17s/it, loss=0.68, v_num=5, val_loss=1.060, val_f1=0.720, val_acc=0.795, train_acc=0.768, train_f1=0.694, train_loss=0.570]\n",
      "Epoch 0:  75%|███████▌  | 529/702 [54:24<17:47,  6.17s/it, loss=0.68, v_num=5, val_loss=1.060, val_f1=0.720, val_acc=0.795, train_acc=0.768, train_f1=0.694, train_loss=0.570]\n",
      "Epoch 0:  75%|███████▌  | 530/702 [54:29<17:41,  6.17s/it, loss=0.68, v_num=5, val_loss=1.060, val_f1=0.720, val_acc=0.795, train_acc=0.768, train_f1=0.694, train_loss=0.570]\n",
      "Epoch 0:  76%|███████▌  | 531/702 [54:34<17:34,  6.17s/it, loss=0.68, v_num=5, val_loss=1.060, val_f1=0.720, val_acc=0.795, train_acc=0.768, train_f1=0.694, train_loss=0.570]\n",
      "Epoch 0:  76%|███████▌  | 532/702 [54:37<17:27,  6.16s/it, loss=0.68, v_num=5, val_loss=1.080, val_f1=0.719, val_acc=0.797, train_acc=0.788, train_f1=0.713, train_loss=0.574]\n",
      "Epoch 0:  76%|███████▌  | 533/702 [55:07<17:28,  6.20s/it, loss=0.657, v_num=5, val_loss=1.080, val_f1=0.719, val_acc=0.797, train_acc=0.788, train_f1=0.713, train_loss=0.574]\n",
      "Validating: 0it [00:00, ?it/s]\u001b[A\n",
      "Validating:   0%|          | 0/17 [00:00<?, ?it/s]\u001b[A\n",
      "Epoch 0:  76%|███████▌  | 535/702 [55:12<17:14,  6.19s/it, loss=0.657, v_num=5, val_loss=1.080, val_f1=0.719, val_acc=0.797, train_acc=0.788, train_f1=0.713, train_loss=0.574]\n",
      "Validating:  12%|█▏        | 2/17 [00:12<01:28,  5.88s/it]\u001b[A\n",
      "Epoch 0:  76%|███████▋  | 537/702 [55:24<17:01,  6.19s/it, loss=0.657, v_num=5, val_loss=1.080, val_f1=0.719, val_acc=0.797, train_acc=0.788, train_f1=0.713, train_loss=0.574]\n",
      "Epoch 0:  77%|███████▋  | 538/702 [55:29<16:55,  6.19s/it, loss=0.657, v_num=5, val_loss=1.080, val_f1=0.719, val_acc=0.797, train_acc=0.788, train_f1=0.713, train_loss=0.574]\n",
      "Epoch 0:  77%|███████▋  | 539/702 [55:36<16:49,  6.19s/it, loss=0.657, v_num=5, val_loss=1.080, val_f1=0.719, val_acc=0.797, train_acc=0.788, train_f1=0.713, train_loss=0.574]\n"
     ]
    },
    {
     "name": "stdout",
     "output_type": "stream",
     "text": [
      "Epoch 0:  77%|███████▋  | 540/702 [55:44<16:43,  6.19s/it, loss=0.657, v_num=5, val_loss=1.080, val_f1=0.719, val_acc=0.797, train_acc=0.788, train_f1=0.713, train_loss=0.574]\n",
      "Epoch 0:  77%|███████▋  | 541/702 [55:51<16:37,  6.20s/it, loss=0.657, v_num=5, val_loss=1.080, val_f1=0.719, val_acc=0.797, train_acc=0.788, train_f1=0.713, train_loss=0.574]\n",
      "Epoch 0:  77%|███████▋  | 542/702 [55:58<16:31,  6.20s/it, loss=0.657, v_num=5, val_loss=1.080, val_f1=0.719, val_acc=0.797, train_acc=0.788, train_f1=0.713, train_loss=0.574]\n",
      "Epoch 0:  77%|███████▋  | 543/702 [56:05<16:25,  6.20s/it, loss=0.657, v_num=5, val_loss=1.080, val_f1=0.719, val_acc=0.797, train_acc=0.788, train_f1=0.713, train_loss=0.574]\n",
      "Epoch 0:  77%|███████▋  | 544/702 [56:13<16:19,  6.20s/it, loss=0.657, v_num=5, val_loss=1.080, val_f1=0.719, val_acc=0.797, train_acc=0.788, train_f1=0.713, train_loss=0.574]\n",
      "Epoch 0:  78%|███████▊  | 545/702 [56:19<16:13,  6.20s/it, loss=0.657, v_num=5, val_loss=1.080, val_f1=0.719, val_acc=0.797, train_acc=0.788, train_f1=0.713, train_loss=0.574]\n",
      "Epoch 0:  78%|███████▊  | 546/702 [56:28<16:08,  6.21s/it, loss=0.657, v_num=5, val_loss=1.080, val_f1=0.719, val_acc=0.797, train_acc=0.788, train_f1=0.713, train_loss=0.574]\n",
      "Epoch 0:  78%|███████▊  | 547/702 [56:35<16:02,  6.21s/it, loss=0.657, v_num=5, val_loss=1.080, val_f1=0.719, val_acc=0.797, train_acc=0.788, train_f1=0.713, train_loss=0.574]\n",
      "Epoch 0:  78%|███████▊  | 548/702 [56:41<15:55,  6.21s/it, loss=0.657, v_num=5, val_loss=1.080, val_f1=0.719, val_acc=0.797, train_acc=0.788, train_f1=0.713, train_loss=0.574]\n",
      "Epoch 0:  78%|███████▊  | 549/702 [56:48<15:49,  6.21s/it, loss=0.657, v_num=5, val_loss=1.080, val_f1=0.719, val_acc=0.797, train_acc=0.788, train_f1=0.713, train_loss=0.574]\n",
      "Epoch 0:  78%|███████▊  | 550/702 [56:55<15:44,  6.21s/it, loss=0.657, v_num=5, val_loss=1.080, val_f1=0.719, val_acc=0.797, train_acc=0.788, train_f1=0.713, train_loss=0.574]\n",
      "Epoch 0:  78%|███████▊  | 551/702 [57:02<15:37,  6.21s/it, loss=0.657, v_num=5, val_loss=1.050, val_f1=0.720, val_acc=0.796, train_acc=0.766, train_f1=0.676, train_loss=0.605]\n",
      "Epoch 0:  79%|███████▊  | 552/702 [57:51<15:43,  6.29s/it, loss=0.643, v_num=5, val_loss=1.050, val_f1=0.720, val_acc=0.796, train_acc=0.766, train_f1=0.676, train_loss=0.605]\n",
      "Validating: 0it [00:00, ?it/s]\u001b[A\n",
      "Validating:   0%|          | 0/17 [00:00<?, ?it/s]\u001b[A\n",
      "Epoch 0:  79%|███████▉  | 554/702 [57:57<15:28,  6.28s/it, loss=0.643, v_num=5, val_loss=1.050, val_f1=0.720, val_acc=0.796, train_acc=0.766, train_f1=0.676, train_loss=0.605]\n",
      "Validating:  12%|█▏        | 2/17 [00:09<01:12,  4.85s/it]\u001b[A\n",
      "Epoch 0:  79%|███████▉  | 556/702 [58:05<15:15,  6.27s/it, loss=0.643, v_num=5, val_loss=1.050, val_f1=0.720, val_acc=0.796, train_acc=0.766, train_f1=0.676, train_loss=0.605]\n",
      "Validating:  24%|██▎       | 4/17 [00:18<01:01,  4.69s/it]\u001b[A\n",
      "Epoch 0:  79%|███████▉  | 558/702 [58:15<15:02,  6.26s/it, loss=0.643, v_num=5, val_loss=1.050, val_f1=0.720, val_acc=0.796, train_acc=0.766, train_f1=0.676, train_loss=0.605]\n",
      "Validating:  35%|███▌      | 6/17 [00:28<00:52,  4.79s/it]\u001b[A\n",
      "Epoch 0:  80%|███████▉  | 560/702 [58:25<14:48,  6.26s/it, loss=0.643, v_num=5, val_loss=1.050, val_f1=0.720, val_acc=0.796, train_acc=0.766, train_f1=0.676, train_loss=0.605]\n",
      "Validating:  47%|████▋     | 8/17 [00:38<00:44,  4.92s/it]\u001b[A\n",
      "Epoch 0:  80%|████████  | 562/702 [58:36<14:36,  6.26s/it, loss=0.643, v_num=5, val_loss=1.050, val_f1=0.720, val_acc=0.796, train_acc=0.766, train_f1=0.676, train_loss=0.605]\n",
      "Epoch 0:  80%|████████  | 563/702 [58:45<14:30,  6.26s/it, loss=0.643, v_num=5, val_loss=1.050, val_f1=0.720, val_acc=0.796, train_acc=0.766, train_f1=0.676, train_loss=0.605]\n",
      "Epoch 0:  80%|████████  | 564/702 [58:57<14:25,  6.27s/it, loss=0.643, v_num=5, val_loss=1.050, val_f1=0.720, val_acc=0.796, train_acc=0.766, train_f1=0.676, train_loss=0.605]\n",
      "Epoch 0:  80%|████████  | 565/702 [59:06<14:20,  6.28s/it, loss=0.643, v_num=5, val_loss=1.050, val_f1=0.720, val_acc=0.796, train_acc=0.766, train_f1=0.676, train_loss=0.605]\n",
      "Epoch 0:  81%|████████  | 566/702 [59:13<14:13,  6.28s/it, loss=0.643, v_num=5, val_loss=1.050, val_f1=0.720, val_acc=0.796, train_acc=0.766, train_f1=0.676, train_loss=0.605]\n",
      "Epoch 0:  81%|████████  | 567/702 [59:23<14:08,  6.28s/it, loss=0.643, v_num=5, val_loss=1.050, val_f1=0.720, val_acc=0.796, train_acc=0.766, train_f1=0.676, train_loss=0.605]\n",
      "Epoch 0:  81%|████████  | 568/702 [59:36<14:03,  6.30s/it, loss=0.643, v_num=5, val_loss=1.050, val_f1=0.720, val_acc=0.796, train_acc=0.766, train_f1=0.676, train_loss=0.605]\n",
      "Epoch 0:  81%|████████  | 569/702 [59:47<13:58,  6.30s/it, loss=0.643, v_num=5, val_loss=1.050, val_f1=0.720, val_acc=0.796, train_acc=0.766, train_f1=0.676, train_loss=0.605]\n",
      "Epoch 0:  81%|████████  | 570/702 [59:50<13:51,  6.30s/it, loss=0.643, v_num=5, val_loss=0.995, val_f1=0.720, val_acc=0.790, train_acc=0.781, train_f1=0.696, train_loss=0.557]\n",
      "Epoch 0:  81%|████████▏ | 571/702 [1:00:29<13:52,  6.36s/it, loss=0.634, v_num=5, val_loss=0.995, val_f1=0.720, val_acc=0.790, train_acc=0.781, train_f1=0.696, train_loss=0.557]\n",
      "Validating: 0it [00:00, ?it/s]\u001b[A\n",
      "Validating:   0%|          | 0/17 [00:00<?, ?it/s]\u001b[A\n",
      "Epoch 0:  82%|████████▏ | 573/702 [1:00:37<13:38,  6.35s/it, loss=0.634, v_num=5, val_loss=0.995, val_f1=0.720, val_acc=0.790, train_acc=0.781, train_f1=0.696, train_loss=0.557]\n",
      "Validating:  12%|█▏        | 2/17 [00:13<01:46,  7.10s/it]\u001b[A\n",
      "Epoch 0:  82%|████████▏ | 575/702 [1:00:49<13:26,  6.35s/it, loss=0.634, v_num=5, val_loss=0.995, val_f1=0.720, val_acc=0.790, train_acc=0.781, train_f1=0.696, train_loss=0.557]\n",
      "Epoch 0:  82%|████████▏ | 576/702 [1:00:56<13:19,  6.35s/it, loss=0.634, v_num=5, val_loss=0.995, val_f1=0.720, val_acc=0.790, train_acc=0.781, train_f1=0.696, train_loss=0.557]\n",
      "Epoch 0:  82%|████████▏ | 577/702 [1:01:01<13:13,  6.35s/it, loss=0.634, v_num=5, val_loss=0.995, val_f1=0.720, val_acc=0.790, train_acc=0.781, train_f1=0.696, train_loss=0.557]\n",
      "Epoch 0:  82%|████████▏ | 578/702 [1:01:08<13:07,  6.35s/it, loss=0.634, v_num=5, val_loss=0.995, val_f1=0.720, val_acc=0.790, train_acc=0.781, train_f1=0.696, train_loss=0.557]\n",
      "Epoch 0:  82%|████████▏ | 579/702 [1:01:14<13:00,  6.35s/it, loss=0.634, v_num=5, val_loss=0.995, val_f1=0.720, val_acc=0.790, train_acc=0.781, train_f1=0.696, train_loss=0.557]\n",
      "Epoch 0:  83%|████████▎ | 580/702 [1:01:21<12:54,  6.35s/it, loss=0.634, v_num=5, val_loss=0.995, val_f1=0.720, val_acc=0.790, train_acc=0.781, train_f1=0.696, train_loss=0.557]\n",
      "Epoch 0:  83%|████████▎ | 581/702 [1:01:28<12:48,  6.35s/it, loss=0.634, v_num=5, val_loss=0.995, val_f1=0.720, val_acc=0.790, train_acc=0.781, train_f1=0.696, train_loss=0.557]\n",
      "Epoch 0:  83%|████████▎ | 582/702 [1:01:35<12:41,  6.35s/it, loss=0.634, v_num=5, val_loss=0.995, val_f1=0.720, val_acc=0.790, train_acc=0.781, train_f1=0.696, train_loss=0.557]\n",
      "Epoch 0:  83%|████████▎ | 583/702 [1:01:40<12:35,  6.35s/it, loss=0.634, v_num=5, val_loss=0.995, val_f1=0.720, val_acc=0.790, train_acc=0.781, train_f1=0.696, train_loss=0.557]\n",
      "Epoch 0:  83%|████████▎ | 584/702 [1:01:46<12:28,  6.35s/it, loss=0.634, v_num=5, val_loss=0.995, val_f1=0.720, val_acc=0.790, train_acc=0.781, train_f1=0.696, train_loss=0.557]\n",
      "Epoch 0:  83%|████████▎ | 585/702 [1:01:51<12:22,  6.34s/it, loss=0.634, v_num=5, val_loss=0.995, val_f1=0.720, val_acc=0.790, train_acc=0.781, train_f1=0.696, train_loss=0.557]\n",
      "Epoch 0:  83%|████████▎ | 586/702 [1:01:55<12:15,  6.34s/it, loss=0.634, v_num=5, val_loss=0.995, val_f1=0.720, val_acc=0.790, train_acc=0.781, train_f1=0.696, train_loss=0.557]\n",
      "Epoch 0:  84%|████████▎ | 587/702 [1:02:01<12:09,  6.34s/it, loss=0.634, v_num=5, val_loss=0.995, val_f1=0.720, val_acc=0.790, train_acc=0.781, train_f1=0.696, train_loss=0.557]\n",
      "Epoch 0:  84%|████████▍ | 588/702 [1:02:07<12:02,  6.34s/it, loss=0.634, v_num=5, val_loss=0.995, val_f1=0.720, val_acc=0.790, train_acc=0.781, train_f1=0.696, train_loss=0.557]\n",
      "Epoch 0:  84%|████████▍ | 589/702 [1:02:11<11:55,  6.33s/it, loss=0.634, v_num=5, val_loss=0.952, val_f1=0.721, val_acc=0.780, train_acc=0.790, train_f1=0.726, train_loss=0.545]\n",
      "Epoch 0:  84%|████████▍ | 590/702 [1:02:40<11:53,  6.37s/it, loss=0.622, v_num=5, val_loss=0.952, val_f1=0.721, val_acc=0.780, train_acc=0.790, train_f1=0.726, train_loss=0.545]\n",
      "Validating: 0it [00:00, ?it/s]\u001b[A\n",
      "Validating:   0%|          | 0/17 [00:00<?, ?it/s]\u001b[A\n",
      "Epoch 0:  84%|████████▍ | 592/702 [1:02:46<11:39,  6.36s/it, loss=0.622, v_num=5, val_loss=0.952, val_f1=0.721, val_acc=0.780, train_acc=0.790, train_f1=0.726, train_loss=0.545]\n",
      "Validating:  12%|█▏        | 2/17 [00:11<01:27,  5.85s/it]\u001b[A\n",
      "Epoch 0:  85%|████████▍ | 594/702 [1:02:57<11:26,  6.36s/it, loss=0.622, v_num=5, val_loss=0.952, val_f1=0.721, val_acc=0.780, train_acc=0.790, train_f1=0.726, train_loss=0.545]\n",
      "Epoch 0:  85%|████████▍ | 595/702 [1:03:04<11:20,  6.36s/it, loss=0.622, v_num=5, val_loss=0.952, val_f1=0.721, val_acc=0.780, train_acc=0.790, train_f1=0.726, train_loss=0.545]\n",
      "Epoch 0:  85%|████████▍ | 596/702 [1:03:09<11:14,  6.36s/it, loss=0.622, v_num=5, val_loss=0.952, val_f1=0.721, val_acc=0.780, train_acc=0.790, train_f1=0.726, train_loss=0.545]\n",
      "Epoch 0:  85%|████████▌ | 597/702 [1:03:15<11:07,  6.36s/it, loss=0.622, v_num=5, val_loss=0.952, val_f1=0.721, val_acc=0.780, train_acc=0.790, train_f1=0.726, train_loss=0.545]\n",
      "Epoch 0:  85%|████████▌ | 598/702 [1:03:21<11:01,  6.36s/it, loss=0.622, v_num=5, val_loss=0.952, val_f1=0.721, val_acc=0.780, train_acc=0.790, train_f1=0.726, train_loss=0.545]\n",
      "Epoch 0:  85%|████████▌ | 599/702 [1:03:27<10:54,  6.36s/it, loss=0.622, v_num=5, val_loss=0.952, val_f1=0.721, val_acc=0.780, train_acc=0.790, train_f1=0.726, train_loss=0.545]\n",
      "Epoch 0:  85%|████████▌ | 600/702 [1:03:33<10:48,  6.36s/it, loss=0.622, v_num=5, val_loss=0.952, val_f1=0.721, val_acc=0.780, train_acc=0.790, train_f1=0.726, train_loss=0.545]\n",
      "Epoch 0:  86%|████████▌ | 601/702 [1:03:39<10:41,  6.36s/it, loss=0.622, v_num=5, val_loss=0.952, val_f1=0.721, val_acc=0.780, train_acc=0.790, train_f1=0.726, train_loss=0.545]\n",
      "Epoch 0:  86%|████████▌ | 602/702 [1:03:45<10:35,  6.35s/it, loss=0.622, v_num=5, val_loss=0.952, val_f1=0.721, val_acc=0.780, train_acc=0.790, train_f1=0.726, train_loss=0.545]\n",
      "Epoch 0:  86%|████████▌ | 603/702 [1:03:51<10:29,  6.35s/it, loss=0.622, v_num=5, val_loss=0.952, val_f1=0.721, val_acc=0.780, train_acc=0.790, train_f1=0.726, train_loss=0.545]\n",
      "Epoch 0:  86%|████████▌ | 604/702 [1:03:57<10:22,  6.35s/it, loss=0.622, v_num=5, val_loss=0.952, val_f1=0.721, val_acc=0.780, train_acc=0.790, train_f1=0.726, train_loss=0.545]\n",
      "Epoch 0:  86%|████████▌ | 605/702 [1:04:04<10:16,  6.35s/it, loss=0.622, v_num=5, val_loss=0.952, val_f1=0.721, val_acc=0.780, train_acc=0.790, train_f1=0.726, train_loss=0.545]\n",
      "Epoch 0:  86%|████████▋ | 606/702 [1:04:10<10:09,  6.35s/it, loss=0.622, v_num=5, val_loss=0.952, val_f1=0.721, val_acc=0.780, train_acc=0.790, train_f1=0.726, train_loss=0.545]\n",
      "Epoch 0:  86%|████████▋ | 607/702 [1:04:16<10:03,  6.35s/it, loss=0.622, v_num=5, val_loss=0.952, val_f1=0.721, val_acc=0.780, train_acc=0.790, train_f1=0.726, train_loss=0.545]\n",
      "Epoch 0:  87%|████████▋ | 608/702 [1:04:20<09:56,  6.35s/it, loss=0.622, v_num=5, val_loss=0.929, val_f1=0.717, val_acc=0.766, train_acc=0.774, train_f1=0.711, train_loss=0.551]\n",
      "Epoch 0:  87%|████████▋ | 609/702 [1:05:05<09:56,  6.41s/it, loss=0.613, v_num=5, val_loss=0.929, val_f1=0.717, val_acc=0.766, train_acc=0.774, train_f1=0.711, train_loss=0.551]\n",
      "Validating: 0it [00:00, ?it/s]\u001b[A\n",
      "Validating:   0%|          | 0/17 [00:00<?, ?it/s]\u001b[A\n",
      "Epoch 0:  87%|████████▋ | 611/702 [1:05:14<09:43,  6.41s/it, loss=0.613, v_num=5, val_loss=0.929, val_f1=0.717, val_acc=0.766, train_acc=0.774, train_f1=0.711, train_loss=0.551]\n",
      "Validating:  12%|█▏        | 2/17 [00:15<02:01,  8.09s/it]\u001b[A\n",
      "Epoch 0:  87%|████████▋ | 613/702 [1:05:27<09:30,  6.41s/it, loss=0.613, v_num=5, val_loss=0.929, val_f1=0.717, val_acc=0.766, train_acc=0.774, train_f1=0.711, train_loss=0.551]\n",
      "Epoch 0:  87%|████████▋ | 614/702 [1:05:33<09:23,  6.41s/it, loss=0.613, v_num=5, val_loss=0.929, val_f1=0.717, val_acc=0.766, train_acc=0.774, train_f1=0.711, train_loss=0.551]\n",
      "Epoch 0:  88%|████████▊ | 615/702 [1:05:40<09:17,  6.41s/it, loss=0.613, v_num=5, val_loss=0.929, val_f1=0.717, val_acc=0.766, train_acc=0.774, train_f1=0.711, train_loss=0.551]\n",
      "Epoch 0:  88%|████████▊ | 616/702 [1:05:46<09:10,  6.41s/it, loss=0.613, v_num=5, val_loss=0.929, val_f1=0.717, val_acc=0.766, train_acc=0.774, train_f1=0.711, train_loss=0.551]\n",
      "Epoch 0:  88%|████████▊ | 617/702 [1:05:52<09:04,  6.41s/it, loss=0.613, v_num=5, val_loss=0.929, val_f1=0.717, val_acc=0.766, train_acc=0.774, train_f1=0.711, train_loss=0.551]\n",
      "Epoch 0:  88%|████████▊ | 618/702 [1:05:58<08:58,  6.40s/it, loss=0.613, v_num=5, val_loss=0.929, val_f1=0.717, val_acc=0.766, train_acc=0.774, train_f1=0.711, train_loss=0.551]\n",
      "Epoch 0:  88%|████████▊ | 619/702 [1:06:03<08:51,  6.40s/it, loss=0.613, v_num=5, val_loss=0.929, val_f1=0.717, val_acc=0.766, train_acc=0.774, train_f1=0.711, train_loss=0.551]\n",
      "Epoch 0:  88%|████████▊ | 620/702 [1:06:09<08:45,  6.40s/it, loss=0.613, v_num=5, val_loss=0.929, val_f1=0.717, val_acc=0.766, train_acc=0.774, train_f1=0.711, train_loss=0.551]\n",
      "Epoch 0:  88%|████████▊ | 621/702 [1:06:15<08:38,  6.40s/it, loss=0.613, v_num=5, val_loss=0.929, val_f1=0.717, val_acc=0.766, train_acc=0.774, train_f1=0.711, train_loss=0.551]\n",
      "Epoch 0:  89%|████████▊ | 622/702 [1:06:21<08:32,  6.40s/it, loss=0.613, v_num=5, val_loss=0.929, val_f1=0.717, val_acc=0.766, train_acc=0.774, train_f1=0.711, train_loss=0.551]\n",
      "Epoch 0:  89%|████████▊ | 623/702 [1:06:26<08:25,  6.40s/it, loss=0.613, v_num=5, val_loss=0.929, val_f1=0.717, val_acc=0.766, train_acc=0.774, train_f1=0.711, train_loss=0.551]\n",
      "Epoch 0:  89%|████████▉ | 624/702 [1:06:31<08:18,  6.40s/it, loss=0.613, v_num=5, val_loss=0.929, val_f1=0.717, val_acc=0.766, train_acc=0.774, train_f1=0.711, train_loss=0.551]\n",
      "Epoch 0:  89%|████████▉ | 625/702 [1:06:37<08:12,  6.40s/it, loss=0.613, v_num=5, val_loss=0.929, val_f1=0.717, val_acc=0.766, train_acc=0.774, train_f1=0.711, train_loss=0.551]\n",
      "Epoch 0:  89%|████████▉ | 626/702 [1:06:42<08:05,  6.39s/it, loss=0.613, v_num=5, val_loss=0.929, val_f1=0.717, val_acc=0.766, train_acc=0.774, train_f1=0.711, train_loss=0.551]\n",
      "Epoch 0:  89%|████████▉ | 627/702 [1:06:47<07:59,  6.39s/it, loss=0.613, v_num=5, val_loss=0.937, val_f1=0.718, val_acc=0.770, train_acc=0.777, train_f1=0.729, train_loss=0.532]\n",
      "Epoch 0:  89%|████████▉ | 628/702 [1:07:22<07:56,  6.44s/it, loss=0.604, v_num=5, val_loss=0.937, val_f1=0.718, val_acc=0.770, train_acc=0.777, train_f1=0.729, train_loss=0.532]\n",
      "Validating: 0it [00:00, ?it/s]\u001b[A\n",
      "Validating:   0%|          | 0/17 [00:00<?, ?it/s]\u001b[A\n",
      "Epoch 0:  90%|████████▉ | 630/702 [1:07:28<07:42,  6.43s/it, loss=0.604, v_num=5, val_loss=0.937, val_f1=0.718, val_acc=0.770, train_acc=0.777, train_f1=0.729, train_loss=0.532]\n",
      "Validating:  12%|█▏        | 2/17 [00:10<01:21,  5.42s/it]\u001b[A\n",
      "Epoch 0:  90%|█████████ | 632/702 [1:07:39<07:29,  6.42s/it, loss=0.604, v_num=5, val_loss=0.937, val_f1=0.718, val_acc=0.770, train_acc=0.777, train_f1=0.729, train_loss=0.532]\n",
      "Epoch 0:  90%|█████████ | 633/702 [1:07:46<07:23,  6.42s/it, loss=0.604, v_num=5, val_loss=0.937, val_f1=0.718, val_acc=0.770, train_acc=0.777, train_f1=0.729, train_loss=0.532]\n",
      "Epoch 0:  90%|█████████ | 634/702 [1:07:52<07:16,  6.42s/it, loss=0.604, v_num=5, val_loss=0.937, val_f1=0.718, val_acc=0.770, train_acc=0.777, train_f1=0.729, train_loss=0.532]\n",
      "Epoch 0:  90%|█████████ | 635/702 [1:07:57<07:10,  6.42s/it, loss=0.604, v_num=5, val_loss=0.937, val_f1=0.718, val_acc=0.770, train_acc=0.777, train_f1=0.729, train_loss=0.532]\n",
      "Epoch 0:  91%|█████████ | 636/702 [1:08:03<07:03,  6.42s/it, loss=0.604, v_num=5, val_loss=0.937, val_f1=0.718, val_acc=0.770, train_acc=0.777, train_f1=0.729, train_loss=0.532]\n",
      "Epoch 0:  91%|█████████ | 637/702 [1:08:08<06:57,  6.42s/it, loss=0.604, v_num=5, val_loss=0.937, val_f1=0.718, val_acc=0.770, train_acc=0.777, train_f1=0.729, train_loss=0.532]\n",
      "Epoch 0:  91%|█████████ | 638/702 [1:08:14<06:50,  6.42s/it, loss=0.604, v_num=5, val_loss=0.937, val_f1=0.718, val_acc=0.770, train_acc=0.777, train_f1=0.729, train_loss=0.532]\n"
     ]
    },
    {
     "name": "stdout",
     "output_type": "stream",
     "text": [
      "Epoch 0:  91%|█████████ | 639/702 [1:08:19<06:44,  6.42s/it, loss=0.604, v_num=5, val_loss=0.937, val_f1=0.718, val_acc=0.770, train_acc=0.777, train_f1=0.729, train_loss=0.532]\n",
      "Epoch 0:  91%|█████████ | 640/702 [1:08:25<06:37,  6.42s/it, loss=0.604, v_num=5, val_loss=0.937, val_f1=0.718, val_acc=0.770, train_acc=0.777, train_f1=0.729, train_loss=0.532]\n",
      "Epoch 0:  91%|█████████▏| 641/702 [1:08:32<06:31,  6.42s/it, loss=0.604, v_num=5, val_loss=0.937, val_f1=0.718, val_acc=0.770, train_acc=0.777, train_f1=0.729, train_loss=0.532]\n",
      "Epoch 0:  91%|█████████▏| 642/702 [1:08:37<06:24,  6.41s/it, loss=0.604, v_num=5, val_loss=0.937, val_f1=0.718, val_acc=0.770, train_acc=0.777, train_f1=0.729, train_loss=0.532]\n",
      "Epoch 0:  92%|█████████▏| 643/702 [1:08:44<06:18,  6.41s/it, loss=0.604, v_num=5, val_loss=0.937, val_f1=0.718, val_acc=0.770, train_acc=0.777, train_f1=0.729, train_loss=0.532]\n",
      "Epoch 0:  92%|█████████▏| 644/702 [1:08:50<06:12,  6.41s/it, loss=0.604, v_num=5, val_loss=0.937, val_f1=0.718, val_acc=0.770, train_acc=0.777, train_f1=0.729, train_loss=0.532]\n",
      "Epoch 0:  92%|█████████▏| 645/702 [1:08:56<06:05,  6.41s/it, loss=0.604, v_num=5, val_loss=0.937, val_f1=0.718, val_acc=0.770, train_acc=0.777, train_f1=0.729, train_loss=0.532]\n",
      "Epoch 0:  92%|█████████▏| 646/702 [1:09:01<05:58,  6.41s/it, loss=0.604, v_num=5, val_loss=0.965, val_f1=0.721, val_acc=0.788, train_acc=0.765, train_f1=0.707, train_loss=0.564]\n",
      "Epoch 0:  92%|█████████▏| 647/702 [1:09:36<05:55,  6.45s/it, loss=0.594, v_num=5, val_loss=0.965, val_f1=0.721, val_acc=0.788, train_acc=0.765, train_f1=0.707, train_loss=0.564]\n",
      "Validating: 0it [00:00, ?it/s]\u001b[A\n",
      "Validating:   0%|          | 0/17 [00:00<?, ?it/s]\u001b[A\n",
      "Epoch 0:  92%|█████████▏| 649/702 [1:09:43<05:41,  6.45s/it, loss=0.594, v_num=5, val_loss=0.965, val_f1=0.721, val_acc=0.788, train_acc=0.765, train_f1=0.707, train_loss=0.564]\n",
      "Validating:  12%|█▏        | 2/17 [00:13<01:39,  6.64s/it]\u001b[A\n",
      "Epoch 0:  93%|█████████▎| 651/702 [1:09:54<05:28,  6.44s/it, loss=0.594, v_num=5, val_loss=0.965, val_f1=0.721, val_acc=0.788, train_acc=0.765, train_f1=0.707, train_loss=0.564]\n",
      "Epoch 0:  93%|█████████▎| 652/702 [1:10:00<05:22,  6.44s/it, loss=0.594, v_num=5, val_loss=0.965, val_f1=0.721, val_acc=0.788, train_acc=0.765, train_f1=0.707, train_loss=0.564]\n",
      "Epoch 0:  93%|█████████▎| 653/702 [1:10:06<05:15,  6.44s/it, loss=0.594, v_num=5, val_loss=0.965, val_f1=0.721, val_acc=0.788, train_acc=0.765, train_f1=0.707, train_loss=0.564]\n",
      "Epoch 0:  93%|█████████▎| 654/702 [1:10:13<05:09,  6.44s/it, loss=0.594, v_num=5, val_loss=0.965, val_f1=0.721, val_acc=0.788, train_acc=0.765, train_f1=0.707, train_loss=0.564]\n",
      "Epoch 0:  93%|█████████▎| 655/702 [1:10:19<05:02,  6.44s/it, loss=0.594, v_num=5, val_loss=0.965, val_f1=0.721, val_acc=0.788, train_acc=0.765, train_f1=0.707, train_loss=0.564]\n",
      "Epoch 0:  93%|█████████▎| 656/702 [1:10:26<04:56,  6.44s/it, loss=0.594, v_num=5, val_loss=0.965, val_f1=0.721, val_acc=0.788, train_acc=0.765, train_f1=0.707, train_loss=0.564]\n",
      "Epoch 0:  94%|█████████▎| 657/702 [1:10:31<04:49,  6.44s/it, loss=0.594, v_num=5, val_loss=0.965, val_f1=0.721, val_acc=0.788, train_acc=0.765, train_f1=0.707, train_loss=0.564]\n",
      "Epoch 0:  94%|█████████▎| 658/702 [1:10:39<04:43,  6.44s/it, loss=0.594, v_num=5, val_loss=0.965, val_f1=0.721, val_acc=0.788, train_acc=0.765, train_f1=0.707, train_loss=0.564]\n",
      "Epoch 0:  94%|█████████▍| 659/702 [1:10:47<04:37,  6.45s/it, loss=0.594, v_num=5, val_loss=0.965, val_f1=0.721, val_acc=0.788, train_acc=0.765, train_f1=0.707, train_loss=0.564]\n",
      "Epoch 0:  94%|█████████▍| 660/702 [1:10:54<04:30,  6.45s/it, loss=0.594, v_num=5, val_loss=0.965, val_f1=0.721, val_acc=0.788, train_acc=0.765, train_f1=0.707, train_loss=0.564]\n",
      "Epoch 0:  94%|█████████▍| 661/702 [1:11:00<04:24,  6.45s/it, loss=0.594, v_num=5, val_loss=0.965, val_f1=0.721, val_acc=0.788, train_acc=0.765, train_f1=0.707, train_loss=0.564]\n",
      "Epoch 0:  94%|█████████▍| 662/702 [1:11:06<04:17,  6.44s/it, loss=0.594, v_num=5, val_loss=0.965, val_f1=0.721, val_acc=0.788, train_acc=0.765, train_f1=0.707, train_loss=0.564]\n",
      "Epoch 0:  94%|█████████▍| 663/702 [1:11:11<04:11,  6.44s/it, loss=0.594, v_num=5, val_loss=0.965, val_f1=0.721, val_acc=0.788, train_acc=0.765, train_f1=0.707, train_loss=0.564]\n",
      "Epoch 0:  95%|█████████▍| 664/702 [1:11:16<04:04,  6.44s/it, loss=0.594, v_num=5, val_loss=0.965, val_f1=0.721, val_acc=0.788, train_acc=0.765, train_f1=0.707, train_loss=0.564]\n",
      "Epoch 0:  95%|█████████▍| 665/702 [1:11:20<03:58,  6.44s/it, loss=0.594, v_num=5, val_loss=1.000, val_f1=0.720, val_acc=0.799, train_acc=0.776, train_f1=0.704, train_loss=0.551]\n",
      "Epoch 0:  95%|█████████▍| 666/702 [1:11:51<03:53,  6.47s/it, loss=0.587, v_num=5, val_loss=1.000, val_f1=0.720, val_acc=0.799, train_acc=0.776, train_f1=0.704, train_loss=0.551]\n",
      "Validating: 0it [00:00, ?it/s]\u001b[A\n",
      "Validating:   0%|          | 0/17 [00:00<?, ?it/s]\u001b[A\n",
      "Epoch 0:  95%|█████████▌| 668/702 [1:11:56<03:39,  6.46s/it, loss=0.587, v_num=5, val_loss=1.000, val_f1=0.720, val_acc=0.799, train_acc=0.776, train_f1=0.704, train_loss=0.551]\n",
      "Validating:  12%|█▏        | 2/17 [00:11<01:23,  5.54s/it]\u001b[A\n",
      "Epoch 0:  95%|█████████▌| 670/702 [1:12:08<03:26,  6.46s/it, loss=0.587, v_num=5, val_loss=1.000, val_f1=0.720, val_acc=0.799, train_acc=0.776, train_f1=0.704, train_loss=0.551]\n",
      "Epoch 0:  96%|█████████▌| 671/702 [1:12:14<03:20,  6.46s/it, loss=0.587, v_num=5, val_loss=1.000, val_f1=0.720, val_acc=0.799, train_acc=0.776, train_f1=0.704, train_loss=0.551]\n",
      "Epoch 0:  96%|█████████▌| 672/702 [1:12:19<03:13,  6.46s/it, loss=0.587, v_num=5, val_loss=1.000, val_f1=0.720, val_acc=0.799, train_acc=0.776, train_f1=0.704, train_loss=0.551]\n",
      "Epoch 0:  96%|█████████▌| 673/702 [1:12:25<03:07,  6.46s/it, loss=0.587, v_num=5, val_loss=1.000, val_f1=0.720, val_acc=0.799, train_acc=0.776, train_f1=0.704, train_loss=0.551]\n",
      "Epoch 0:  96%|█████████▌| 674/702 [1:12:30<03:00,  6.45s/it, loss=0.587, v_num=5, val_loss=1.000, val_f1=0.720, val_acc=0.799, train_acc=0.776, train_f1=0.704, train_loss=0.551]\n",
      "Epoch 0:  96%|█████████▌| 675/702 [1:12:36<02:54,  6.45s/it, loss=0.587, v_num=5, val_loss=1.000, val_f1=0.720, val_acc=0.799, train_acc=0.776, train_f1=0.704, train_loss=0.551]\n",
      "Epoch 0:  96%|█████████▋| 676/702 [1:12:41<02:47,  6.45s/it, loss=0.587, v_num=5, val_loss=1.000, val_f1=0.720, val_acc=0.799, train_acc=0.776, train_f1=0.704, train_loss=0.551]\n",
      "Epoch 0:  96%|█████████▋| 677/702 [1:12:48<02:41,  6.45s/it, loss=0.587, v_num=5, val_loss=1.000, val_f1=0.720, val_acc=0.799, train_acc=0.776, train_f1=0.704, train_loss=0.551]\n",
      "Epoch 0:  97%|█████████▋| 678/702 [1:12:54<02:34,  6.45s/it, loss=0.587, v_num=5, val_loss=1.000, val_f1=0.720, val_acc=0.799, train_acc=0.776, train_f1=0.704, train_loss=0.551]\n",
      "Epoch 0:  97%|█████████▋| 679/702 [1:13:00<02:28,  6.45s/it, loss=0.587, v_num=5, val_loss=1.000, val_f1=0.720, val_acc=0.799, train_acc=0.776, train_f1=0.704, train_loss=0.551]\n",
      "Epoch 0:  97%|█████████▋| 680/702 [1:13:07<02:21,  6.45s/it, loss=0.587, v_num=5, val_loss=1.000, val_f1=0.720, val_acc=0.799, train_acc=0.776, train_f1=0.704, train_loss=0.551]\n",
      "Epoch 0:  97%|█████████▋| 681/702 [1:13:12<02:15,  6.45s/it, loss=0.587, v_num=5, val_loss=1.000, val_f1=0.720, val_acc=0.799, train_acc=0.776, train_f1=0.704, train_loss=0.551]\n",
      "Epoch 0:  97%|█████████▋| 682/702 [1:13:19<02:09,  6.45s/it, loss=0.587, v_num=5, val_loss=1.000, val_f1=0.720, val_acc=0.799, train_acc=0.776, train_f1=0.704, train_loss=0.551]\n",
      "Epoch 0:  97%|█████████▋| 683/702 [1:13:25<02:02,  6.45s/it, loss=0.587, v_num=5, val_loss=1.000, val_f1=0.720, val_acc=0.799, train_acc=0.776, train_f1=0.704, train_loss=0.551]\n",
      "Epoch 0:  97%|█████████▋| 684/702 [1:13:29<01:56,  6.45s/it, loss=0.587, v_num=5, val_loss=1.030, val_f1=0.719, val_acc=0.803, train_acc=0.794, train_f1=0.713, train_loss=0.544]\n",
      "Epoch 0:  98%|█████████▊| 685/702 [1:14:26<01:50,  6.52s/it, loss=0.58, v_num=5, val_loss=1.030, val_f1=0.719, val_acc=0.803, train_acc=0.794, train_f1=0.713, train_loss=0.544] \n",
      "Validating: 0it [00:00, ?it/s]\u001b[A\n",
      "Validating:   0%|          | 0/17 [00:00<?, ?it/s]\u001b[A\n",
      "Epoch 0:  98%|█████████▊| 687/702 [1:14:32<01:37,  6.51s/it, loss=0.58, v_num=5, val_loss=1.030, val_f1=0.719, val_acc=0.803, train_acc=0.794, train_f1=0.713, train_loss=0.544]\n",
      "Validating:  12%|█▏        | 2/17 [00:12<01:33,  6.26s/it]\u001b[A\n",
      "Epoch 0:  98%|█████████▊| 689/702 [1:14:44<01:24,  6.51s/it, loss=0.58, v_num=5, val_loss=1.030, val_f1=0.719, val_acc=0.803, train_acc=0.794, train_f1=0.713, train_loss=0.544]\n",
      "Epoch 0:  98%|█████████▊| 690/702 [1:14:49<01:18,  6.51s/it, loss=0.58, v_num=5, val_loss=1.030, val_f1=0.719, val_acc=0.803, train_acc=0.794, train_f1=0.713, train_loss=0.544]\n",
      "Epoch 0:  98%|█████████▊| 691/702 [1:14:54<01:11,  6.50s/it, loss=0.58, v_num=5, val_loss=1.030, val_f1=0.719, val_acc=0.803, train_acc=0.794, train_f1=0.713, train_loss=0.544]\n",
      "Epoch 0:  99%|█████████▊| 692/702 [1:15:00<01:05,  6.50s/it, loss=0.58, v_num=5, val_loss=1.030, val_f1=0.719, val_acc=0.803, train_acc=0.794, train_f1=0.713, train_loss=0.544]\n",
      "Epoch 0:  99%|█████████▊| 693/702 [1:15:06<00:58,  6.50s/it, loss=0.58, v_num=5, val_loss=1.030, val_f1=0.719, val_acc=0.803, train_acc=0.794, train_f1=0.713, train_loss=0.544]\n",
      "Epoch 0:  99%|█████████▉| 694/702 [1:15:12<00:52,  6.50s/it, loss=0.58, v_num=5, val_loss=1.030, val_f1=0.719, val_acc=0.803, train_acc=0.794, train_f1=0.713, train_loss=0.544]\n",
      "Epoch 0:  99%|█████████▉| 695/702 [1:15:17<00:45,  6.50s/it, loss=0.58, v_num=5, val_loss=1.030, val_f1=0.719, val_acc=0.803, train_acc=0.794, train_f1=0.713, train_loss=0.544]\n",
      "Epoch 0:  99%|█████████▉| 696/702 [1:15:23<00:38,  6.50s/it, loss=0.58, v_num=5, val_loss=1.030, val_f1=0.719, val_acc=0.803, train_acc=0.794, train_f1=0.713, train_loss=0.544]\n",
      "Epoch 0:  99%|█████████▉| 697/702 [1:15:28<00:32,  6.50s/it, loss=0.58, v_num=5, val_loss=1.030, val_f1=0.719, val_acc=0.803, train_acc=0.794, train_f1=0.713, train_loss=0.544]\n",
      "Epoch 0:  99%|█████████▉| 698/702 [1:15:33<00:25,  6.50s/it, loss=0.58, v_num=5, val_loss=1.030, val_f1=0.719, val_acc=0.803, train_acc=0.794, train_f1=0.713, train_loss=0.544]\n",
      "Epoch 0: 100%|█████████▉| 699/702 [1:15:38<00:19,  6.49s/it, loss=0.58, v_num=5, val_loss=1.030, val_f1=0.719, val_acc=0.803, train_acc=0.794, train_f1=0.713, train_loss=0.544]\n",
      "Epoch 0: 100%|█████████▉| 700/702 [1:15:43<00:12,  6.49s/it, loss=0.58, v_num=5, val_loss=1.030, val_f1=0.719, val_acc=0.803, train_acc=0.794, train_f1=0.713, train_loss=0.544]\n",
      "Epoch 0: 100%|█████████▉| 701/702 [1:15:49<00:06,  6.49s/it, loss=0.58, v_num=5, val_loss=1.030, val_f1=0.719, val_acc=0.803, train_acc=0.794, train_f1=0.713, train_loss=0.544]\n",
      "Epoch 0: 100%|██████████| 702/702 [1:15:55<00:00,  6.49s/it, loss=0.58, v_num=5, val_loss=1.030, val_f1=0.719, val_acc=0.803, train_acc=0.794, train_f1=0.713, train_loss=0.544]\n",
      "Epoch 0: 100%|██████████| 702/702 [1:15:59<00:00,  6.49s/it, loss=0.58, v_num=5, val_loss=1.040, val_f1=0.719, val_acc=0.804, train_acc=0.807, train_f1=0.727, train_loss=0.518]\n",
      "Epoch 0: 100%|██████████| 702/702 [1:16:47<00:00,  6.56s/it, loss=0.576, v_num=5, val_loss=1.040, val_f1=0.719, val_acc=0.804, train_acc=0.807, train_f1=0.727, train_loss=0.518]\n",
      "Validating: 0it [00:00, ?it/s]\u001b[A\n",
      "Validating:   0%|          | 0/17 [00:00<?, ?it/s]\u001b[A\n",
      "Validating:   6%|▌         | 1/17 [00:05<01:27,  5.46s/it]\u001b[A\n",
      "Validating:  12%|█▏        | 2/17 [00:11<01:22,  5.53s/it]\u001b[A\n",
      "Validating:  18%|█▊        | 3/17 [00:16<01:17,  5.53s/it]\u001b[A\n",
      "Validating:  24%|██▎       | 4/17 [00:22<01:13,  5.63s/it]\u001b[A\n",
      "Validating:  29%|██▉       | 5/17 [00:28<01:08,  5.67s/it]\u001b[A\n",
      "Validating:  35%|███▌      | 6/17 [00:33<01:00,  5.48s/it]\u001b[A\n",
      "Validating:  41%|████      | 7/17 [00:38<00:54,  5.47s/it]\u001b[A\n",
      "Validating:  47%|████▋     | 8/17 [00:44<00:50,  5.66s/it]\u001b[A\n",
      "Validating:  53%|█████▎    | 9/17 [00:52<00:48,  6.10s/it]\u001b[A\n",
      "Validating:  59%|█████▉    | 10/17 [00:59<00:46,  6.57s/it]\u001b[A\n",
      "Validating:  65%|██████▍   | 11/17 [01:05<00:38,  6.43s/it]\u001b[A\n",
      "Validating:  71%|███████   | 12/17 [01:11<00:30,  6.19s/it]\u001b[A\n",
      "Validating:  76%|███████▋  | 13/17 [01:17<00:24,  6.03s/it]\u001b[A\n",
      "Validating:  82%|████████▏ | 14/17 [01:21<00:16,  5.61s/it]\u001b[A\n",
      "Validating:  88%|████████▊ | 15/17 [01:26<00:10,  5.42s/it]\u001b[A\n",
      "Validating:  94%|█████████▍| 16/17 [01:32<00:05,  5.40s/it]\u001b[A\n",
      "Epoch 0: 100%|██████████| 702/702 [1:18:23<00:00,  6.70s/it, loss=0.576, v_num=5, val_loss=1.020, val_f1=0.719, val_acc=0.805, train_acc=0.796, train_f1=0.707, train_loss=0.531]\n",
      "Epoch 0: 100%|██████████| 702/702 [1:18:56<00:00,  6.75s/it, loss=0.576, v_num=5, val_loss=1.020, val_f1=0.719, val_acc=0.805, train_acc=0.796, train_f1=0.707, train_loss=0.531]\n",
      "Validating: 0it [00:00, ?it/s]\u001b[A\n",
      "Validating:   0%|          | 0/17 [00:00<?, ?it/s]\u001b[A\n",
      "Validating:   6%|▌         | 1/17 [00:06<01:36,  6.03s/it]\u001b[A\n",
      "Validating:  12%|█▏        | 2/17 [00:11<01:28,  5.90s/it]\u001b[A\n",
      "Validating:  18%|█▊        | 3/17 [00:17<01:22,  5.87s/it]\u001b[A\n",
      "Validating:  24%|██▎       | 4/17 [00:23<01:16,  5.89s/it]\u001b[A\n",
      "Validating:  29%|██▉       | 5/17 [00:29<01:12,  6.01s/it]\u001b[A\n",
      "Validating:  35%|███▌      | 6/17 [00:36<01:07,  6.16s/it]\u001b[A\n",
      "Validating:  41%|████      | 7/17 [00:42<01:02,  6.21s/it]\u001b[A\n",
      "Validating:  47%|████▋     | 8/17 [00:48<00:55,  6.12s/it]\u001b[A\n",
      "Validating:  53%|█████▎    | 9/17 [00:53<00:46,  5.81s/it]\u001b[A\n",
      "Validating:  59%|█████▉    | 10/17 [00:58<00:39,  5.67s/it]\u001b[A\n",
      "Validating:  65%|██████▍   | 11/17 [01:04<00:34,  5.74s/it]\u001b[A\n",
      "Validating:  71%|███████   | 12/17 [01:10<00:28,  5.66s/it]\u001b[A\n",
      "Validating:  76%|███████▋  | 13/17 [01:15<00:22,  5.51s/it]\u001b[A\n",
      "Validating:  82%|████████▏ | 14/17 [01:20<00:16,  5.50s/it]\u001b[A\n",
      "Validating:  88%|████████▊ | 15/17 [01:26<00:10,  5.47s/it]\u001b[A\n",
      "Validating:  94%|█████████▍| 16/17 [01:31<00:05,  5.32s/it]\u001b[A\n",
      "Epoch 0: 100%|██████████| 702/702 [1:20:31<00:00,  6.88s/it, loss=0.576, v_num=5, val_loss=0.984, val_f1=0.719, val_acc=0.805, train_acc=0.775, train_f1=0.678, train_loss=0.566]\n",
      "Epoch 1:   0%|          | 1/702 [01:10<13:39:05, 70.11s/it, loss=0.573, v_num=5, val_loss=0.984, val_f1=0.719, val_acc=0.805, train_acc=0.775, train_f1=0.678, train_loss=0.566] \n",
      "Validating: 0it [00:00, ?it/s]\u001b[A\n",
      "Validating:   0%|          | 0/17 [00:00<?, ?it/s]\u001b[A\n",
      "Epoch 1:   0%|          | 3/702 [01:24<5:27:51, 28.14s/it, loss=0.573, v_num=5, val_loss=0.984, val_f1=0.719, val_acc=0.805, train_acc=0.775, train_f1=0.678, train_loss=0.566] \n",
      "Epoch 1:   1%|          | 4/702 [01:35<4:38:03, 23.90s/it, loss=0.573, v_num=5, val_loss=0.984, val_f1=0.719, val_acc=0.805, train_acc=0.775, train_f1=0.678, train_loss=0.566]\n",
      "Epoch 1:   1%|          | 5/702 [01:51<4:18:22, 22.24s/it, loss=0.573, v_num=5, val_loss=0.984, val_f1=0.719, val_acc=0.805, train_acc=0.775, train_f1=0.678, train_loss=0.566]\n",
      "Epoch 1:   1%|          | 6/702 [02:06<4:03:45, 21.01s/it, loss=0.573, v_num=5, val_loss=0.984, val_f1=0.719, val_acc=0.805, train_acc=0.775, train_f1=0.678, train_loss=0.566]\n",
      "Epoch 1:   1%|          | 7/702 [02:18<3:49:56, 19.85s/it, loss=0.573, v_num=5, val_loss=0.984, val_f1=0.719, val_acc=0.805, train_acc=0.775, train_f1=0.678, train_loss=0.566]\n",
      "Epoch 1:   1%|          | 8/702 [02:34<3:42:56, 19.27s/it, loss=0.573, v_num=5, val_loss=0.984, val_f1=0.719, val_acc=0.805, train_acc=0.775, train_f1=0.678, train_loss=0.566]\n",
      "Epoch 1:   1%|▏         | 9/702 [02:46<3:34:00, 18.53s/it, loss=0.573, v_num=5, val_loss=0.984, val_f1=0.719, val_acc=0.805, train_acc=0.775, train_f1=0.678, train_loss=0.566]\n",
      "Epoch 1:   1%|▏         | 10/702 [03:00<3:28:43, 18.10s/it, loss=0.573, v_num=5, val_loss=0.984, val_f1=0.719, val_acc=0.805, train_acc=0.775, train_f1=0.678, train_loss=0.566]\n",
      "Epoch 1:   2%|▏         | 11/702 [03:13<3:22:23, 17.57s/it, loss=0.573, v_num=5, val_loss=0.984, val_f1=0.719, val_acc=0.805, train_acc=0.775, train_f1=0.678, train_loss=0.566]\n",
      "Epoch 1:   2%|▏         | 12/702 [03:26<3:18:02, 17.22s/it, loss=0.573, v_num=5, val_loss=0.984, val_f1=0.719, val_acc=0.805, train_acc=0.775, train_f1=0.678, train_loss=0.566]\n",
      "Epoch 1:   2%|▏         | 13/702 [03:39<3:14:18, 16.92s/it, loss=0.573, v_num=5, val_loss=0.984, val_f1=0.719, val_acc=0.805, train_acc=0.775, train_f1=0.678, train_loss=0.566]\n",
      "Epoch 1:   2%|▏         | 14/702 [03:53<3:11:37, 16.71s/it, loss=0.573, v_num=5, val_loss=0.984, val_f1=0.719, val_acc=0.805, train_acc=0.775, train_f1=0.678, train_loss=0.566]\n"
     ]
    },
    {
     "name": "stdout",
     "output_type": "stream",
     "text": [
      "Epoch 1:   2%|▏         | 15/702 [04:06<3:08:11, 16.44s/it, loss=0.573, v_num=5, val_loss=0.984, val_f1=0.719, val_acc=0.805, train_acc=0.775, train_f1=0.678, train_loss=0.566]\n",
      "Epoch 1:   2%|▏         | 16/702 [04:21<3:06:47, 16.34s/it, loss=0.573, v_num=5, val_loss=0.984, val_f1=0.719, val_acc=0.805, train_acc=0.775, train_f1=0.678, train_loss=0.566]\n",
      "Epoch 1:   2%|▏         | 17/702 [04:34<3:04:36, 16.17s/it, loss=0.573, v_num=5, val_loss=0.984, val_f1=0.719, val_acc=0.805, train_acc=0.775, train_f1=0.678, train_loss=0.566]\n",
      "Epoch 1:   3%|▎         | 18/702 [04:47<3:01:48, 15.95s/it, loss=0.573, v_num=5, val_loss=0.984, val_f1=0.719, val_acc=0.805, train_acc=0.775, train_f1=0.678, train_loss=0.566]\n",
      "Epoch 1:   3%|▎         | 19/702 [04:55<2:57:01, 15.55s/it, loss=0.573, v_num=5, val_loss=0.962, val_f1=0.719, val_acc=0.805, train_acc=0.812, train_f1=0.728, train_loss=0.503]\n",
      "Epoch 1:   3%|▎         | 20/702 [06:18<3:34:53, 18.91s/it, loss=0.566, v_num=5, val_loss=0.962, val_f1=0.719, val_acc=0.805, train_acc=0.812, train_f1=0.728, train_loss=0.503]\n",
      "Validating: 0it [00:00, ?it/s]\u001b[A\n",
      "Validating:   0%|          | 0/17 [00:00<?, ?it/s]\u001b[A\n",
      "Epoch 1:   3%|▎         | 22/702 [06:31<3:21:31, 17.78s/it, loss=0.566, v_num=5, val_loss=0.962, val_f1=0.719, val_acc=0.805, train_acc=0.812, train_f1=0.728, train_loss=0.503]\n",
      "Epoch 1:   3%|▎         | 23/702 [06:42<3:18:10, 17.51s/it, loss=0.566, v_num=5, val_loss=0.962, val_f1=0.719, val_acc=0.805, train_acc=0.812, train_f1=0.728, train_loss=0.503]\n",
      "Epoch 1:   3%|▎         | 24/702 [06:54<3:15:02, 17.26s/it, loss=0.566, v_num=5, val_loss=0.962, val_f1=0.719, val_acc=0.805, train_acc=0.812, train_f1=0.728, train_loss=0.503]\n",
      "Epoch 1:   4%|▎         | 25/702 [07:06<3:12:34, 17.07s/it, loss=0.566, v_num=5, val_loss=0.962, val_f1=0.719, val_acc=0.805, train_acc=0.812, train_f1=0.728, train_loss=0.503]\n",
      "Epoch 1:   4%|▎         | 26/702 [07:21<3:11:12, 16.97s/it, loss=0.566, v_num=5, val_loss=0.962, val_f1=0.719, val_acc=0.805, train_acc=0.812, train_f1=0.728, train_loss=0.503]\n",
      "Epoch 1:   4%|▍         | 27/702 [07:35<3:09:41, 16.86s/it, loss=0.566, v_num=5, val_loss=0.962, val_f1=0.719, val_acc=0.805, train_acc=0.812, train_f1=0.728, train_loss=0.503]\n",
      "Epoch 1:   4%|▍         | 28/702 [07:47<3:07:39, 16.70s/it, loss=0.566, v_num=5, val_loss=0.962, val_f1=0.719, val_acc=0.805, train_acc=0.812, train_f1=0.728, train_loss=0.503]\n",
      "Epoch 1:   4%|▍         | 29/702 [08:01<3:06:16, 16.61s/it, loss=0.566, v_num=5, val_loss=0.962, val_f1=0.719, val_acc=0.805, train_acc=0.812, train_f1=0.728, train_loss=0.503]\n",
      "Epoch 1:   4%|▍         | 30/702 [08:15<3:05:03, 16.52s/it, loss=0.566, v_num=5, val_loss=0.962, val_f1=0.719, val_acc=0.805, train_acc=0.812, train_f1=0.728, train_loss=0.503]\n",
      "Epoch 1:   4%|▍         | 31/702 [08:23<3:01:29, 16.23s/it, loss=0.566, v_num=5, val_loss=0.962, val_f1=0.719, val_acc=0.805, train_acc=0.812, train_f1=0.728, train_loss=0.503]\n",
      "Epoch 1:   5%|▍         | 32/702 [08:29<2:57:48, 15.92s/it, loss=0.566, v_num=5, val_loss=0.962, val_f1=0.719, val_acc=0.805, train_acc=0.812, train_f1=0.728, train_loss=0.503]\n",
      "Epoch 1:   5%|▍         | 33/702 [08:34<2:53:52, 15.59s/it, loss=0.566, v_num=5, val_loss=0.962, val_f1=0.719, val_acc=0.805, train_acc=0.812, train_f1=0.728, train_loss=0.503]\n",
      "Epoch 1:   5%|▍         | 34/702 [08:40<2:50:32, 15.32s/it, loss=0.566, v_num=5, val_loss=0.962, val_f1=0.719, val_acc=0.805, train_acc=0.812, train_f1=0.728, train_loss=0.503]\n",
      "Epoch 1:   5%|▍         | 35/702 [08:46<2:47:15, 15.05s/it, loss=0.566, v_num=5, val_loss=0.962, val_f1=0.719, val_acc=0.805, train_acc=0.812, train_f1=0.728, train_loss=0.503]\n",
      "Epoch 1:   5%|▌         | 36/702 [08:52<2:44:14, 14.80s/it, loss=0.566, v_num=5, val_loss=0.962, val_f1=0.719, val_acc=0.805, train_acc=0.812, train_f1=0.728, train_loss=0.503]\n",
      "Epoch 1:   5%|▌         | 37/702 [08:58<2:41:23, 14.56s/it, loss=0.566, v_num=5, val_loss=0.962, val_f1=0.719, val_acc=0.805, train_acc=0.812, train_f1=0.728, train_loss=0.503]\n"
     ]
    },
    {
     "data": {
      "text/plain": [
       "1"
      ]
     },
     "execution_count": 28,
     "metadata": {},
     "output_type": "execute_result"
    }
   ],
   "source": [
    "\n",
    "\n",
    "trainer = pl.Trainer(\n",
    "    max_epochs=5,\n",
    "    progress_bar_refresh_rate=1,\n",
    "    gradient_clip_val=0,\n",
    "    callbacks=[checkpoint_callback],\n",
    "    logger = tb_logger,\n",
    "    log_every_n_steps=1,\n",
    "    val_check_interval=0.02,\n",
    "    \n",
    "    \n",
    ")\n",
    "trainer.fit(learn, trainloader, val_dataloaders = testloader)\n"
   ]
  },
  {
   "cell_type": "code",
   "execution_count": 34,
   "metadata": {
    "ExecuteTime": {
     "end_time": "2021-06-06T17:01:47.117209Z",
     "start_time": "2021-06-06T17:01:47.106930Z"
    }
   },
   "outputs": [
    {
     "data": {
      "text/plain": [
       "{'val_loss': tensor(1.2117),\n",
       " 'val_f1': tensor(0.5018),\n",
       " 'val_acc': tensor(0.4531),\n",
       " 'epoch': tensor(0.),\n",
       " 'train_acc': tensor(0.5996),\n",
       " 'train_f1': tensor(0.6237),\n",
       " 'train_loss': tensor(0.6872)}"
      ]
     },
     "execution_count": 34,
     "metadata": {},
     "output_type": "execute_result"
    }
   ],
   "source": [
    "trainer.logged_metrics"
   ]
  },
  {
   "cell_type": "code",
   "execution_count": 33,
   "metadata": {
    "ExecuteTime": {
     "end_time": "2021-06-06T17:00:16.008686Z",
     "start_time": "2021-06-06T17:00:15.978971Z"
    }
   },
   "outputs": [
    {
     "name": "stdout",
     "output_type": "stream",
     "text": [
      "Help on Trainer in module pytorch_lightning.trainer.trainer object:\n",
      "\n",
      "class Trainer(pytorch_lightning.trainer.properties.TrainerProperties, pytorch_lightning.trainer.callback_hook.TrainerCallbackHookMixin, pytorch_lightning.trainer.model_hooks.TrainerModelHooksMixin, pytorch_lightning.trainer.optimizers.TrainerOptimizersMixin, pytorch_lightning.trainer.logging.TrainerLoggingMixin, pytorch_lightning.trainer.training_tricks.TrainerTrainingTricksMixin, pytorch_lightning.trainer.data_loading.TrainerDataLoadingMixin, pytorch_lightning.trainer.deprecated_api.DeprecatedDistDeviceAttributes, pytorch_lightning.trainer.deprecated_api.DeprecatedTrainerAttributes)\n",
      " |  Trainer(logger: Union[pytorch_lightning.loggers.base.LightningLoggerBase, Iterable[pytorch_lightning.loggers.base.LightningLoggerBase], bool] = True, checkpoint_callback: bool = True, callbacks: Union[List[pytorch_lightning.callbacks.base.Callback], pytorch_lightning.callbacks.base.Callback, NoneType] = None, default_root_dir: Union[str, NoneType] = None, gradient_clip_val: float = 0, process_position: int = 0, num_nodes: int = 1, num_processes: int = 1, gpus: Union[int, str, List[int], NoneType] = None, auto_select_gpus: bool = False, tpu_cores: Union[int, str, List[int], NoneType] = None, log_gpu_memory: Union[str, NoneType] = None, progress_bar_refresh_rate: Union[int, NoneType] = None, overfit_batches: Union[int, float] = 0.0, track_grad_norm: Union[int, float, str] = -1, check_val_every_n_epoch: int = 1, fast_dev_run: Union[int, bool] = False, accumulate_grad_batches: Union[int, Dict[int, int], List[list]] = 1, max_epochs: Union[int, NoneType] = None, min_epochs: Union[int, NoneType] = None, max_steps: Union[int, NoneType] = None, min_steps: Union[int, NoneType] = None, limit_train_batches: Union[int, float] = 1.0, limit_val_batches: Union[int, float] = 1.0, limit_test_batches: Union[int, float] = 1.0, limit_predict_batches: Union[int, float] = 1.0, val_check_interval: Union[int, float] = 1.0, flush_logs_every_n_steps: int = 100, log_every_n_steps: int = 50, accelerator: Union[str, pytorch_lightning.accelerators.accelerator.Accelerator, NoneType] = None, sync_batchnorm: bool = False, precision: int = 32, weights_summary: Union[str, NoneType] = 'top', weights_save_path: Union[str, NoneType] = None, num_sanity_val_steps: int = 2, truncated_bptt_steps: Union[int, NoneType] = None, resume_from_checkpoint: Union[pathlib.Path, str, NoneType] = None, profiler: Union[pytorch_lightning.profiler.profilers.BaseProfiler, bool, str, NoneType] = None, benchmark: bool = False, deterministic: bool = False, reload_dataloaders_every_epoch: bool = False, auto_lr_find: Union[bool, str] = False, replace_sampler_ddp: bool = True, terminate_on_nan: bool = False, auto_scale_batch_size: Union[str, bool] = False, prepare_data_per_node: bool = True, plugins: Union[pytorch_lightning.plugins.base_plugin.Plugin, str, list, NoneType] = None, amp_backend: str = 'native', amp_level: str = 'O2', distributed_backend: Union[str, NoneType] = None, automatic_optimization: Union[bool, NoneType] = None, move_metrics_to_cpu: bool = False, enable_pl_optimizer: bool = None, multiple_trainloader_mode: str = 'max_size_cycle', stochastic_weight_avg: bool = False)\n",
      " |  \n",
      " |  Helper class that provides a standard way to create an ABC using\n",
      " |  inheritance.\n",
      " |  \n",
      " |  Method resolution order:\n",
      " |      Trainer\n",
      " |      pytorch_lightning.trainer.properties.TrainerProperties\n",
      " |      pytorch_lightning.trainer.callback_hook.TrainerCallbackHookMixin\n",
      " |      pytorch_lightning.trainer.model_hooks.TrainerModelHooksMixin\n",
      " |      pytorch_lightning.trainer.optimizers.TrainerOptimizersMixin\n",
      " |      pytorch_lightning.trainer.logging.TrainerLoggingMixin\n",
      " |      pytorch_lightning.trainer.training_tricks.TrainerTrainingTricksMixin\n",
      " |      pytorch_lightning.trainer.data_loading.TrainerDataLoadingMixin\n",
      " |      abc.ABC\n",
      " |      pytorch_lightning.trainer.deprecated_api.DeprecatedDistDeviceAttributes\n",
      " |      pytorch_lightning.trainer.deprecated_api.DeprecatedTrainerAttributes\n",
      " |      builtins.object\n",
      " |  \n",
      " |  Methods defined here:\n",
      " |  \n",
      " |  __init__(self, logger: Union[pytorch_lightning.loggers.base.LightningLoggerBase, Iterable[pytorch_lightning.loggers.base.LightningLoggerBase], bool] = True, checkpoint_callback: bool = True, callbacks: Union[List[pytorch_lightning.callbacks.base.Callback], pytorch_lightning.callbacks.base.Callback, NoneType] = None, default_root_dir: Union[str, NoneType] = None, gradient_clip_val: float = 0, process_position: int = 0, num_nodes: int = 1, num_processes: int = 1, gpus: Union[int, str, List[int], NoneType] = None, auto_select_gpus: bool = False, tpu_cores: Union[int, str, List[int], NoneType] = None, log_gpu_memory: Union[str, NoneType] = None, progress_bar_refresh_rate: Union[int, NoneType] = None, overfit_batches: Union[int, float] = 0.0, track_grad_norm: Union[int, float, str] = -1, check_val_every_n_epoch: int = 1, fast_dev_run: Union[int, bool] = False, accumulate_grad_batches: Union[int, Dict[int, int], List[list]] = 1, max_epochs: Union[int, NoneType] = None, min_epochs: Union[int, NoneType] = None, max_steps: Union[int, NoneType] = None, min_steps: Union[int, NoneType] = None, limit_train_batches: Union[int, float] = 1.0, limit_val_batches: Union[int, float] = 1.0, limit_test_batches: Union[int, float] = 1.0, limit_predict_batches: Union[int, float] = 1.0, val_check_interval: Union[int, float] = 1.0, flush_logs_every_n_steps: int = 100, log_every_n_steps: int = 50, accelerator: Union[str, pytorch_lightning.accelerators.accelerator.Accelerator, NoneType] = None, sync_batchnorm: bool = False, precision: int = 32, weights_summary: Union[str, NoneType] = 'top', weights_save_path: Union[str, NoneType] = None, num_sanity_val_steps: int = 2, truncated_bptt_steps: Union[int, NoneType] = None, resume_from_checkpoint: Union[pathlib.Path, str, NoneType] = None, profiler: Union[pytorch_lightning.profiler.profilers.BaseProfiler, bool, str, NoneType] = None, benchmark: bool = False, deterministic: bool = False, reload_dataloaders_every_epoch: bool = False, auto_lr_find: Union[bool, str] = False, replace_sampler_ddp: bool = True, terminate_on_nan: bool = False, auto_scale_batch_size: Union[str, bool] = False, prepare_data_per_node: bool = True, plugins: Union[pytorch_lightning.plugins.base_plugin.Plugin, str, list, NoneType] = None, amp_backend: str = 'native', amp_level: str = 'O2', distributed_backend: Union[str, NoneType] = None, automatic_optimization: Union[bool, NoneType] = None, move_metrics_to_cpu: bool = False, enable_pl_optimizer: bool = None, multiple_trainloader_mode: str = 'max_size_cycle', stochastic_weight_avg: bool = False)\n",
      " |      Customize every aspect of training via flags\n",
      " |      \n",
      " |      Args:\n",
      " |      \n",
      " |          accelerator: Previously known as distributed_backend (dp, ddp, ddp2, etc...).\n",
      " |              Can also take in an accelerator object for custom hardware.\n",
      " |      \n",
      " |          accumulate_grad_batches: Accumulates grads every k batches or as set up in the dict.\n",
      " |      \n",
      " |          amp_backend: The mixed precision backend to use (\"native\" or \"apex\")\n",
      " |      \n",
      " |          amp_level: The optimization level to use (O1, O2, etc...).\n",
      " |      \n",
      " |          auto_lr_find: If set to True, will make trainer.tune() run a learning rate finder,\n",
      " |              trying to optimize initial learning for faster convergence. trainer.tune() method will\n",
      " |              set the suggested learning rate in self.lr or self.learning_rate in the LightningModule.\n",
      " |              To use a different key set a string instead of True with the key name.\n",
      " |      \n",
      " |          auto_scale_batch_size: If set to True, will `initially` run a batch size\n",
      " |              finder trying to find the largest batch size that fits into memory.\n",
      " |              The result will be stored in self.batch_size in the LightningModule.\n",
      " |              Additionally, can be set to either `power` that estimates the batch size through\n",
      " |              a power search or `binsearch` that estimates the batch size through a binary search.\n",
      " |      \n",
      " |          auto_select_gpus: If enabled and `gpus` is an integer, pick available\n",
      " |              gpus automatically. This is especially useful when\n",
      " |              GPUs are configured to be in \"exclusive mode\", such\n",
      " |              that only one process at a time can access them.\n",
      " |      \n",
      " |          benchmark: If true enables cudnn.benchmark.\n",
      " |      \n",
      " |          callbacks: Add a callback or list of callbacks.\n",
      " |      \n",
      " |          checkpoint_callback: If ``True``, enable checkpointing.\n",
      " |              It will configure a default ModelCheckpoint callback if there is no user-defined ModelCheckpoint in\n",
      " |              :paramref:`~pytorch_lightning.trainer.trainer.Trainer.callbacks`. Default: ``True``.\n",
      " |      \n",
      " |              .. warning:: Passing a ModelCheckpoint instance to this argument is deprecated since\n",
      " |                  v1.1 and will be unsupported from v1.3. Use `callbacks` argument instead.\n",
      " |      \n",
      " |          check_val_every_n_epoch: Check val every n train epochs.\n",
      " |      \n",
      " |          default_root_dir: Default path for logs and weights when no logger/ckpt_callback passed.\n",
      " |              Default: ``os.getcwd()``.\n",
      " |              Can be remote file paths such as `s3://mybucket/path` or 'hdfs://path/'\n",
      " |      \n",
      " |          deterministic: If true enables cudnn.deterministic.\n",
      " |      \n",
      " |          distributed_backend: deprecated. Please use 'accelerator'\n",
      " |      \n",
      " |          fast_dev_run: runs n if set to ``n`` (int) else 1 if set to ``True`` batch(es)\n",
      " |              of train, val and test to find any bugs (ie: a sort of unit test).\n",
      " |      \n",
      " |          flush_logs_every_n_steps: How often to flush logs to disk (defaults to every 100 steps).\n",
      " |      \n",
      " |          gpus: number of gpus to train on (int) or which GPUs to train on (list or str) applied per node\n",
      " |      \n",
      " |          gradient_clip_val: 0 means don't clip.\n",
      " |      \n",
      " |          limit_train_batches: How much of training dataset to check (floats = percent, int = num_batches)\n",
      " |      \n",
      " |          limit_val_batches: How much of validation dataset to check (floats = percent, int = num_batches)\n",
      " |      \n",
      " |          limit_test_batches: How much of test dataset to check (floats = percent, int = num_batches)\n",
      " |      \n",
      " |          logger: Logger (or iterable collection of loggers) for experiment tracking.\n",
      " |      \n",
      " |          log_gpu_memory: None, 'min_max', 'all'. Might slow performance\n",
      " |      \n",
      " |          log_every_n_steps: How often to log within steps (defaults to every 50 steps).\n",
      " |      \n",
      " |          automatic_optimization: If False you are responsible for calling .backward, .step, zero_grad\n",
      " |              in LightningModule. This argument has been moved to LightningModule. It is deprecated\n",
      " |              here in v1.1 and will be removed in v1.3.\n",
      " |      \n",
      " |          prepare_data_per_node: If True, each LOCAL_RANK=0 will call prepare data.\n",
      " |              Otherwise only NODE_RANK=0, LOCAL_RANK=0 will prepare data\n",
      " |      \n",
      " |          process_position: orders the progress bar when running multiple models on same machine.\n",
      " |      \n",
      " |          progress_bar_refresh_rate: How often to refresh progress bar (in steps). Value ``0`` disables progress bar.\n",
      " |              Ignored when a custom progress bar is passed to :paramref:`~Trainer.callbacks`. Default: None, means\n",
      " |              a suitable value will be chosen based on the environment (terminal, Google COLAB, etc.).\n",
      " |      \n",
      " |          profiler: To profile individual steps during training and assist in identifying bottlenecks. Passing bool\n",
      " |              value is deprecated in v1.1 and will be removed in v1.3.\n",
      " |      \n",
      " |          overfit_batches: Overfit a percent of training data (float) or a set number of batches (int). Default: 0.0\n",
      " |      \n",
      " |          plugins: Plugins allow modification of core behavior like ddp and amp, and enable custom lightning plugins.\n",
      " |      \n",
      " |          precision: Full precision (32), half precision (16). Can be used on CPU, GPU or TPUs.\n",
      " |      \n",
      " |          max_epochs: Stop training once this number of epochs is reached. Disabled by default (None).\n",
      " |              If both max_epochs and max_steps are not specified, defaults to ``max_epochs`` = 1000.\n",
      " |      \n",
      " |          min_epochs: Force training for at least these many epochs. Disabled by default (None).\n",
      " |              If both min_epochs and min_steps are not specified, defaults to ``min_epochs`` = 1.\n",
      " |      \n",
      " |          max_steps: Stop training after this number of steps. Disabled by default (None).\n",
      " |      \n",
      " |          min_steps: Force training for at least these number of steps. Disabled by default (None).\n",
      " |      \n",
      " |          num_nodes: number of GPU nodes for distributed training.\n",
      " |      \n",
      " |          num_processes: number of processes for distributed training with distributed_backend=\"ddp_cpu\"\n",
      " |      \n",
      " |          num_sanity_val_steps: Sanity check runs n validation batches before starting the training routine.\n",
      " |              Set it to `-1` to run all batches in all validation dataloaders. Default: 2\n",
      " |      \n",
      " |          reload_dataloaders_every_epoch: Set to True to reload dataloaders every epoch.\n",
      " |      \n",
      " |          replace_sampler_ddp: Explicitly enables or disables sampler replacement. If not specified this\n",
      " |              will toggled automatically when DDP is used. By default it will add ``shuffle=True`` for\n",
      " |              train sampler and ``shuffle=False`` for val/test sampler. If you want to customize it,\n",
      " |              you can set ``replace_sampler_ddp=False`` and add your own distributed sampler.\n",
      " |      \n",
      " |          resume_from_checkpoint: Path/URL of the checkpoint from which training is resumed. If there is\n",
      " |              no checkpoint file at the path, start from scratch. If resuming from mid-epoch checkpoint,\n",
      " |              training will start from the beginning of the next epoch.\n",
      " |      \n",
      " |          sync_batchnorm: Synchronize batch norm layers between process groups/whole world.\n",
      " |      \n",
      " |          terminate_on_nan: If set to True, will terminate training (by raising a `ValueError`) at the\n",
      " |              end of each training batch, if any of the parameters or the loss are NaN or +/-inf.\n",
      " |      \n",
      " |          tpu_cores: How many TPU cores to train on (1 or 8) / Single TPU to train on [1]\n",
      " |      \n",
      " |          track_grad_norm: -1 no tracking. Otherwise tracks that p-norm. May be set to 'inf' infinity-norm.\n",
      " |      \n",
      " |          truncated_bptt_steps: Truncated back prop breaks performs backprop every k steps of much longer\n",
      " |              sequence.\n",
      " |      \n",
      " |          val_check_interval: How often to check the validation set. Use float to check within a training epoch,\n",
      " |              use int to check every n steps (batches).\n",
      " |      \n",
      " |          weights_summary: Prints a summary of the weights when training begins.\n",
      " |      \n",
      " |          weights_save_path: Where to save weights if specified. Will override default_root_dir\n",
      " |              for checkpoints only. Use this if for whatever reason you need the checkpoints\n",
      " |              stored in a different place than the logs written in `default_root_dir`.\n",
      " |              Can be remote file paths such as `s3://mybucket/path` or 'hdfs://path/'\n",
      " |              Defaults to `default_root_dir`.\n",
      " |      \n",
      " |          move_metrics_to_cpu: Whether to force internal logged metrics to be moved to cpu.\n",
      " |              This can save some gpu memory, but can make training slower. Use with attention.\n",
      " |      \n",
      " |          enable_pl_optimizer: If True, each optimizer will be wrapped by\n",
      " |              `pytorch_lightning.core.optimizer.LightningOptimizer`. It allows Lightning to\n",
      " |              handle AMP, TPU, accumulated_gradients, etc.\n",
      " |              .. warning:: Currently deprecated and it will be removed in v1.3\n",
      " |      \n",
      " |          multiple_trainloader_mode: How to loop over the datasets when there are multiple train loaders.\n",
      " |              In 'max_size_cycle' mode, the trainer ends one epoch when the largest dataset is traversed,\n",
      " |              and smaller datasets reload when running out of their data. In 'min_size' mode, all the datasets\n",
      " |              reload when reaching the minimum length of datasets.\n",
      " |      \n",
      " |          stochastic_weight_avg: Whether to use `Stochastic Weight Averaging (SWA)\n",
      " |              <https://pytorch.org/blog/pytorch-1.6-now-includes-stochastic-weight-averaging/>_`\n",
      " |  \n",
      " |  call_hook(self, hook_name, *args, **kwargs)\n",
      " |  \n",
      " |  call_setup_hook(self, model)\n",
      " |  \n",
      " |  dispatch(self)\n",
      " |  \n",
      " |  fit(self, model: pytorch_lightning.core.lightning.LightningModule, train_dataloader: Any = None, val_dataloaders: Union[torch.utils.data.dataloader.DataLoader, List[torch.utils.data.dataloader.DataLoader], NoneType] = None, datamodule: Union[pytorch_lightning.core.datamodule.LightningDataModule, NoneType] = None)\n",
      " |      Runs the full optimization routine.\n",
      " |      \n",
      " |      Args:\n",
      " |          datamodule: A instance of :class:`LightningDataModule`.\n",
      " |      \n",
      " |          model: Model to fit.\n",
      " |      \n",
      " |          train_dataloader: Either a single PyTorch DataLoader or a collection of these\n",
      " |              (list, dict, nested lists and dicts). In the case of multiple dataloaders, please\n",
      " |              see this :ref:`page <multiple-training-dataloaders>`\n",
      " |      \n",
      " |          val_dataloaders: Either a single Pytorch Dataloader or a list of them, specifying validation samples.\n",
      " |              If the model has a predefined val_dataloaders method this will be skipped\n",
      " |  \n",
      " |  post_dispatch(self)\n",
      " |  \n",
      " |  pre_dispatch(self)\n",
      " |  \n",
      " |  predict(self, model: Union[pytorch_lightning.core.lightning.LightningModule, NoneType] = None, dataloaders: Union[torch.utils.data.dataloader.DataLoader, List[torch.utils.data.dataloader.DataLoader], NoneType] = None, datamodule: Union[pytorch_lightning.core.datamodule.LightningDataModule, NoneType] = None)\n",
      " |      Separates from fit to make sure you never run on your predictions set until you want to.\n",
      " |      \n",
      " |      This will call the model forward function to compute predictions.\n",
      " |      \n",
      " |      Args:\n",
      " |          model: The model to predict on.\n",
      " |      \n",
      " |          dataloaders: Either a single\n",
      " |              Pytorch Dataloader or a list of them, specifying inference samples.\n",
      " |      \n",
      " |          datamodule: A instance of :class:`LightningDataModule`.\n",
      " |      \n",
      " |      Returns:\n",
      " |          Returns a list of dictionaries, one for each provided dataloader containing their respective predictions.\n",
      " |  \n",
      " |  run_evaluation(self, max_batches=None, on_epoch=False)\n",
      " |  \n",
      " |  run_predict(self)\n",
      " |  \n",
      " |  run_sanity_check(self, ref_model)\n",
      " |  \n",
      " |  run_test(self)\n",
      " |  \n",
      " |  run_train(self)\n",
      " |  \n",
      " |  test(self, model: Union[pytorch_lightning.core.lightning.LightningModule, NoneType] = None, test_dataloaders: Union[torch.utils.data.dataloader.DataLoader, List[torch.utils.data.dataloader.DataLoader], NoneType] = None, ckpt_path: Union[str, NoneType] = 'best', verbose: bool = True, datamodule: Union[pytorch_lightning.core.datamodule.LightningDataModule, NoneType] = None)\n",
      " |      Separates from fit to make sure you never run on your test set until you want to.\n",
      " |      \n",
      " |      Args:\n",
      " |          ckpt_path: Either ``best`` or path to the checkpoint you wish to test.\n",
      " |              If ``None``, use the weights from the last epoch to test. Default to ``best``.\n",
      " |      \n",
      " |          datamodule: A instance of :class:`LightningDataModule`.\n",
      " |      \n",
      " |          model: The model to test.\n",
      " |      \n",
      " |          test_dataloaders: Either a single\n",
      " |              Pytorch Dataloader or a list of them, specifying validation samples.\n",
      " |      \n",
      " |          verbose: If True, prints the test results\n",
      " |      \n",
      " |      Returns:\n",
      " |          Returns a list of dictionaries, one for each test dataloader containing their respective metrics.\n",
      " |  \n",
      " |  track_output_for_epoch_end(self, outputs, output)\n",
      " |  \n",
      " |  train_or_test_or_predict(self)\n",
      " |  \n",
      " |  tune(self, model: pytorch_lightning.core.lightning.LightningModule, train_dataloader: Union[torch.utils.data.dataloader.DataLoader, NoneType] = None, val_dataloaders: Union[torch.utils.data.dataloader.DataLoader, List[torch.utils.data.dataloader.DataLoader], NoneType] = None, datamodule: Union[pytorch_lightning.core.datamodule.LightningDataModule, NoneType] = None)\n",
      " |      Runs routines to tune hyperparameters before training.\n",
      " |      \n",
      " |      Args:\n",
      " |          datamodule: A instance of :class:`LightningDataModule`.\n",
      " |      \n",
      " |          model: Model to tune.\n",
      " |      \n",
      " |          train_dataloader: A Pytorch DataLoader with training samples. If the model has\n",
      " |              a predefined train_dataloader method this will be skipped.\n",
      " |      \n",
      " |          val_dataloaders: Either a single Pytorch Dataloader or a list of them, specifying validation samples.\n",
      " |              If the model has a predefined val_dataloaders method this will be skipped\n",
      " |  \n",
      " |  ----------------------------------------------------------------------\n",
      " |  Data descriptors defined here:\n",
      " |  \n",
      " |  evaluating\n",
      " |  \n",
      " |  predicting\n",
      " |  \n",
      " |  testing\n",
      " |  \n",
      " |  training\n",
      " |  \n",
      " |  tuning\n",
      " |  \n",
      " |  ----------------------------------------------------------------------\n",
      " |  Data and other attributes defined here:\n",
      " |  \n",
      " |  __abstractmethods__ = frozenset()\n",
      " |  \n",
      " |  ----------------------------------------------------------------------\n",
      " |  Methods inherited from pytorch_lightning.trainer.properties.TrainerProperties:\n",
      " |  \n",
      " |  __getstate__(self)\n",
      " |      # TODO: refactor this so that it can be done in LightningOptimizer\n",
      " |  \n",
      " |  __setstate__(self, state)\n",
      " |  \n",
      " |  save_checkpoint(self, filepath, weights_only: bool = False) -> None\n",
      " |  \n",
      " |  ----------------------------------------------------------------------\n",
      " |  Class methods inherited from pytorch_lightning.trainer.properties.TrainerProperties:\n",
      " |  \n",
      " |  add_argparse_args(parent_parser: argparse.ArgumentParser) -> argparse.ArgumentParser from abc.ABCMeta\n",
      " |  \n",
      " |  default_attributes() -> dict from abc.ABCMeta\n",
      " |  \n",
      " |  from_argparse_args(args: Union[argparse.Namespace, argparse.ArgumentParser], **kwargs) -> '_T' from abc.ABCMeta\n",
      " |  \n",
      " |  get_deprecated_arg_names() -> List from abc.ABCMeta\n",
      " |      Returns a list with deprecated Trainer arguments.\n",
      " |  \n",
      " |  match_env_arguments() -> argparse.Namespace from abc.ABCMeta\n",
      " |  \n",
      " |  parse_argparser(arg_parser: Union[argparse.ArgumentParser, argparse.Namespace]) -> argparse.Namespace from abc.ABCMeta\n",
      " |  \n",
      " |  ----------------------------------------------------------------------\n",
      " |  Data descriptors inherited from pytorch_lightning.trainer.properties.TrainerProperties:\n",
      " |  \n",
      " |  __dict__\n",
      " |      dictionary for instance variables (if defined)\n",
      " |  \n",
      " |  __weakref__\n",
      " |      list of weak references to the object (if defined)\n",
      " |  \n",
      " |  accelerator\n",
      " |  \n",
      " |  amp_backend\n",
      " |  \n",
      " |  callback_metrics\n",
      " |  \n",
      " |  checkpoint_callback\n",
      " |      The first :class:`~pytorch_lightning.callbacks.model_checkpoint.ModelCheckpoint`\n",
      " |      callback in the Trainer.callbacks list, or ``None`` if it doesn't exist.\n",
      " |  \n",
      " |  checkpoint_callbacks\n",
      " |      A list of all instances of :class:`~pytorch_lightning.callbacks.model_checkpoint.ModelCheckpoint`\n",
      " |      found in the Trainer.callbacks list.\n",
      " |  \n",
      " |  data_parallel\n",
      " |  \n",
      " |  data_parallel_device_ids\n",
      " |  \n",
      " |  default_root_dir\n",
      " |      The default location to save artifacts of loggers, checkpoints etc.\n",
      " |      It is used as a fallback if logger or checkpoint callback do not define specific save paths.\n",
      " |  \n",
      " |  disable_validation\n",
      " |      Check if validation is disabled during training.\n",
      " |  \n",
      " |  distributed_backend\n",
      " |  \n",
      " |  distributed_sampler_kwargs\n",
      " |  \n",
      " |  early_stopping_callback\n",
      " |      The first :class:`~pytorch_lightning.callbacks.early_stopping.EarlyStopping`\n",
      " |      callback in the Trainer.callbacks list, or ``None`` if it doesn't exist.\n",
      " |  \n",
      " |  early_stopping_callbacks\n",
      " |      A list of all instances of :class:`~pytorch_lightning.callbacks.early_stopping.EarlyStopping`\n",
      " |      found in the Trainer.callbacks list.\n",
      " |  \n",
      " |  enable_validation\n",
      " |      Check if we should run validation during training.\n",
      " |  \n",
      " |  global_rank\n",
      " |  \n",
      " |  gpus\n",
      " |  \n",
      " |  is_global_zero\n",
      " |  \n",
      " |  lightning_module\n",
      " |  \n",
      " |  lightning_optimizers\n",
      " |  \n",
      " |  local_rank\n",
      " |  \n",
      " |  log_dir\n",
      " |  \n",
      " |  logged_metrics\n",
      " |  \n",
      " |  lr_schedulers\n",
      " |  \n",
      " |  model\n",
      " |      The LightningModule, but possibly wrapped into DataParallel or DistributedDataParallel.\n",
      " |      To access the pure LightningModule, use\n",
      " |      :meth:`~pytorch_lightning.trainer.trainer.Trainer.lightning_module` instead.\n",
      " |  \n",
      " |  node_rank\n",
      " |  \n",
      " |  num_gpus\n",
      " |  \n",
      " |  num_nodes\n",
      " |  \n",
      " |  num_processes\n",
      " |  \n",
      " |  optimizer_frequencies\n",
      " |  \n",
      " |  optimizers\n",
      " |  \n",
      " |  precision\n",
      " |  \n",
      " |  precision_plugin\n",
      " |  \n",
      " |  progress_bar_callback\n",
      " |  \n",
      " |  progress_bar_dict\n",
      " |      Read-only for progress bar metrics.\n",
      " |  \n",
      " |  progress_bar_metrics\n",
      " |  \n",
      " |  root_gpu\n",
      " |  \n",
      " |  scaler\n",
      " |  \n",
      " |  slurm_job_id\n",
      " |  \n",
      " |  state\n",
      " |  \n",
      " |  tpu_cores\n",
      " |  \n",
      " |  training_type_plugin\n",
      " |  \n",
      " |  use_amp\n",
      " |  \n",
      " |  weights_save_path\n",
      " |      The default root location to save weights (checkpoints), e.g., when the\n",
      " |      :class:`~pytorch_lightning.callbacks.model_checkpoint.ModelCheckpoint` does not define a file path.\n",
      " |  \n",
      " |  world_size\n",
      " |  \n",
      " |  ----------------------------------------------------------------------\n",
      " |  Data and other attributes inherited from pytorch_lightning.trainer.properties.TrainerProperties:\n",
      " |  \n",
      " |  __annotations__ = {'_default_root_dir': <class 'str'>, '_progress_bar_...\n",
      " |  \n",
      " |  ----------------------------------------------------------------------\n",
      " |  Methods inherited from pytorch_lightning.trainer.callback_hook.TrainerCallbackHookMixin:\n",
      " |  \n",
      " |  on_after_backward(self)\n",
      " |      Called after loss.backward() and before optimizers do anything.\n",
      " |  \n",
      " |  on_batch_end(self)\n",
      " |      Called when the training batch ends.\n",
      " |  \n",
      " |  on_batch_start(self)\n",
      " |      Called when the training batch begins.\n",
      " |  \n",
      " |  on_before_accelerator_backend_setup(self, model)\n",
      " |      Called in the beginning of fit and test\n",
      " |  \n",
      " |  on_before_zero_grad(self, optimizer)\n",
      " |      Called after optimizer.step() and before optimizer.zero_grad().\n",
      " |  \n",
      " |  on_epoch_end(self)\n",
      " |      Called when either of train/val/test epoch ends.\n",
      " |  \n",
      " |  on_epoch_start(self)\n",
      " |      Called when either of train/val/test epoch begins.\n",
      " |  \n",
      " |  on_fit_end(self)\n",
      " |      Called when the trainer initialization begins, model has not yet been set.\n",
      " |  \n",
      " |  on_fit_start(self)\n",
      " |      Called when the trainer initialization begins, model has not yet been set.\n",
      " |  \n",
      " |  on_init_end(self)\n",
      " |      Called when the trainer initialization ends, model has not yet been set.\n",
      " |  \n",
      " |  on_init_start(self)\n",
      " |      Called when the trainer initialization begins, model has not yet been set.\n",
      " |  \n",
      " |  on_keyboard_interrupt(self)\n",
      " |      Called when the training is interrupted by KeyboardInterrupt.\n",
      " |  \n",
      " |  on_load_checkpoint(self, checkpoint)\n",
      " |      Called when loading a model checkpoint.\n",
      " |  \n",
      " |  on_pretrain_routine_end(self, model)\n",
      " |      Called when the train ends.\n",
      " |  \n",
      " |  on_pretrain_routine_start(self, model)\n",
      " |      Called when the train begins.\n",
      " |  \n",
      " |  on_sanity_check_end(self)\n",
      " |      Called when the validation sanity check ends.\n",
      " |  \n",
      " |  on_sanity_check_start(self)\n",
      " |      Called when the validation sanity check starts.\n",
      " |  \n",
      " |  on_save_checkpoint(self, checkpoint: Dict[str, Any]) -> Dict[Type, dict]\n",
      " |      Called when saving a model checkpoint.\n",
      " |  \n",
      " |  on_test_batch_end(self, outputs, batch, batch_idx, dataloader_idx)\n",
      " |      Called when the test batch ends.\n",
      " |  \n",
      " |  on_test_batch_start(self, batch, batch_idx, dataloader_idx)\n",
      " |      Called when the test batch begins.\n",
      " |  \n",
      " |  on_test_end(self)\n",
      " |      Called when the test ends.\n",
      " |  \n",
      " |  on_test_epoch_end(self)\n",
      " |      Called when the epoch ends.\n",
      " |  \n",
      " |  on_test_epoch_start(self)\n",
      " |      Called when the epoch begins.\n",
      " |  \n",
      " |  on_test_start(self)\n",
      " |      Called when the test begins.\n",
      " |  \n",
      " |  on_train_batch_end(self, outputs, batch, batch_idx, dataloader_idx)\n",
      " |      Called when the training batch ends.\n",
      " |  \n",
      " |  on_train_batch_start(self, batch, batch_idx, dataloader_idx)\n",
      " |      Called when the training batch begins.\n",
      " |  \n",
      " |  on_train_end(self)\n",
      " |      Called when the train ends.\n",
      " |  \n",
      " |  on_train_epoch_end(self, outputs)\n",
      " |      Called when the epoch ends.\n",
      " |  \n",
      " |  on_train_epoch_start(self)\n",
      " |      Called when the epoch begins.\n",
      " |  \n",
      " |  on_train_start(self)\n",
      " |      Called when the train begins.\n",
      " |  \n",
      " |  on_validation_batch_end(self, outputs, batch, batch_idx, dataloader_idx)\n",
      " |      Called when the validation batch ends.\n",
      " |  \n",
      " |  on_validation_batch_start(self, batch, batch_idx, dataloader_idx)\n",
      " |      Called when the validation batch begins.\n",
      " |  \n",
      " |  on_validation_end(self)\n",
      " |      Called when the validation loop ends.\n",
      " |  \n",
      " |  on_validation_epoch_end(self)\n",
      " |      Called when the epoch ends.\n",
      " |  \n",
      " |  on_validation_epoch_start(self)\n",
      " |      Called when the epoch begins.\n",
      " |  \n",
      " |  on_validation_start(self)\n",
      " |      Called when the validation loop begins.\n",
      " |  \n",
      " |  setup(self, model, stage: str)\n",
      " |      Called in the beginning of fit and test\n",
      " |  \n",
      " |  teardown(self, stage: str)\n",
      " |      Called at the end of fit and test\n",
      " |  \n",
      " |  ----------------------------------------------------------------------\n",
      " |  Data and other attributes inherited from pytorch_lightning.trainer.callback_hook.TrainerCallbackHookMixin:\n",
      " |  \n",
      " |  callbacks = []\n",
      " |  \n",
      " |  ----------------------------------------------------------------------\n",
      " |  Methods inherited from pytorch_lightning.trainer.model_hooks.TrainerModelHooksMixin:\n",
      " |  \n",
      " |  has_arg(self, f_name, arg_name)\n",
      " |  \n",
      " |  is_function_implemented(self, f_name, model=None)\n",
      " |  \n",
      " |  ----------------------------------------------------------------------\n",
      " |  Methods inherited from pytorch_lightning.trainer.optimizers.TrainerOptimizersMixin:\n",
      " |  \n",
      " |  configure_schedulers(self, schedulers: list, monitor: Union[str, NoneType] = None)\n",
      " |  \n",
      " |  convert_to_lightning_optimizers(self)\n",
      " |  \n",
      " |  init_optimizers(self, model: pytorch_lightning.core.lightning.LightningModule) -> Tuple[List, List, List]\n",
      " |  \n",
      " |  ----------------------------------------------------------------------\n",
      " |  Methods inherited from pytorch_lightning.trainer.logging.TrainerLoggingMixin:\n",
      " |  \n",
      " |  metrics_to_scalars(self, metrics)\n",
      " |  \n",
      " |  process_dict_result(self, output, train=False)\n",
      " |      Reduces output according to the training mode.\n",
      " |      \n",
      " |      Separates loss from logging and progress bar metrics\n",
      " |  \n",
      " |  reduce_distributed_output(self, output, num_gpus)\n",
      " |  \n",
      " |  ----------------------------------------------------------------------\n",
      " |  Methods inherited from pytorch_lightning.trainer.training_tricks.TrainerTrainingTricksMixin:\n",
      " |  \n",
      " |  detect_nan_tensors(self, loss: torch.Tensor) -> None\n",
      " |  \n",
      " |  print_nan_gradients(self) -> None\n",
      " |  \n",
      " |  ----------------------------------------------------------------------\n",
      " |  Methods inherited from pytorch_lightning.trainer.data_loading.TrainerDataLoadingMixin:\n",
      " |  \n",
      " |  auto_add_sampler(self, dataloader: torch.utils.data.dataloader.DataLoader, shuffle: bool) -> torch.utils.data.dataloader.DataLoader\n",
      " |  \n",
      " |  replace_sampler(self, dataloader, sampler)\n",
      " |  \n",
      " |  request_dataloader(self, dataloader_fx: Callable) -> torch.utils.data.dataloader.DataLoader\n",
      " |      Handles downloading data in the GPU or TPU case.\n",
      " |      \n",
      " |      Args:\n",
      " |          dataloader_fx: The bound dataloader getter\n",
      " |      \n",
      " |      Returns:\n",
      " |          The dataloader\n",
      " |  \n",
      " |  reset_predict_dataloader(self, model) -> None\n",
      " |      Resets the predict dataloader and determines the number of batches.\n",
      " |      \n",
      " |      Args:\n",
      " |          model: The current `LightningModule`\n",
      " |  \n",
      " |  reset_test_dataloader(self, model) -> None\n",
      " |      Resets the test dataloader and determines the number of batches.\n",
      " |      \n",
      " |      Args:\n",
      " |          model: The current `LightningModule`\n",
      " |  \n",
      " |  reset_train_dataloader(self, model: pytorch_lightning.core.lightning.LightningModule) -> None\n",
      " |      Resets the train dataloader and initialises required variables\n",
      " |      (number of batches, when to validate, etc.).\n",
      " |      \n",
      " |      Args:\n",
      " |          model: The current `LightningModule`\n",
      " |  \n",
      " |  reset_val_dataloader(self, model: pytorch_lightning.core.lightning.LightningModule) -> None\n",
      " |      Resets the validation dataloader and determines the number of batches.\n",
      " |      \n",
      " |      Args:\n",
      " |          model: The current `LightningModule`\n",
      " |  \n",
      " |  ----------------------------------------------------------------------\n",
      " |  Data descriptors inherited from pytorch_lightning.trainer.deprecated_api.DeprecatedDistDeviceAttributes:\n",
      " |  \n",
      " |  on_cpu\n",
      " |  \n",
      " |  on_gpu\n",
      " |  \n",
      " |  on_tpu\n",
      " |  \n",
      " |  use_ddp\n",
      " |  \n",
      " |  use_ddp2\n",
      " |  \n",
      " |  use_dp\n",
      " |  \n",
      " |  use_horovod\n",
      " |  \n",
      " |  use_single_gpu\n",
      " |  \n",
      " |  use_tpu\n",
      " |  \n",
      " |  ----------------------------------------------------------------------\n",
      " |  Methods inherited from pytorch_lightning.trainer.deprecated_api.DeprecatedTrainerAttributes:\n",
      " |  \n",
      " |  get_model(self) -> pytorch_lightning.core.lightning.LightningModule\n",
      " |  \n",
      " |  ----------------------------------------------------------------------\n",
      " |  Data descriptors inherited from pytorch_lightning.trainer.deprecated_api.DeprecatedTrainerAttributes:\n",
      " |  \n",
      " |  accelerator_backend\n",
      "\n"
     ]
    }
   ],
   "source": [
    "help(trainer)"
   ]
  },
  {
   "cell_type": "raw",
   "metadata": {
    "ExecuteTime": {
     "end_time": "2021-05-31T09:39:15.895882Z",
     "start_time": "2021-05-31T09:38:59.009346Z"
    }
   },
   "source": [
    "\n",
    "\n",
    "results = trainer.test(learn, testloader)\n",
    "base_path = \"results/{}\".format(\"person_lcde\")\n",
    "os.makedirs(base_path, exist_ok=True)\n",
    "with open(\"{}/pt_ode_lstm_{}.csv\".format(base_path, 128), \"a\") as f:\n",
    "    f.write(\"{:06f}\\n\".format(results[0][\"val_acc\"]))"
   ]
  },
  {
   "cell_type": "code",
   "execution_count": 35,
   "metadata": {
    "ExecuteTime": {
     "end_time": "2021-06-01T15:43:05.902269Z",
     "start_time": "2021-06-01T15:43:05.888889Z"
    }
   },
   "outputs": [
    {
     "data": {
      "text/plain": [
       "<All keys matched successfully>"
      ]
     },
     "execution_count": 35,
     "metadata": {},
     "output_type": "execute_result"
    }
   ],
   "source": [
    "best_path = \"./logs/models/demons/cde/epoch=4-step=224.ckpt\"\n",
    "checkpoint = torch.load(best_path)\n",
    "states = {}\n",
    "for k_new, k_old in zip(cde.state_dict().keys(), checkpoint['state_dict'].keys()):\n",
    "    states[k_new] = checkpoint['state_dict'].get(k_old)\n",
    "cde.load_state_dict(state_dict = states)\n",
    "    "
   ]
  },
  {
   "cell_type": "code",
   "execution_count": 10,
   "metadata": {
    "ExecuteTime": {
     "end_time": "2021-06-01T15:37:03.672357Z",
     "start_time": "2021-06-01T15:35:17.412413Z"
    }
   },
   "outputs": [
    {
     "name": "stdout",
     "output_type": "stream",
     "text": [
      "Testing: 100%|██████████| 17/17 [01:46<00:00,  6.25s/it]\n",
      "--------------------------------------------------------------------------------\n",
      "DATALOADER:0 TEST RESULTS\n",
      "{'val_acc': 0.8053885102272034,\n",
      " 'val_f1': 0.7188411951065063,\n",
      " 'val_loss': 0.9428133368492126}\n",
      "--------------------------------------------------------------------------------\n"
     ]
    }
   ],
   "source": [
    "learn = IrregularSequenceLearner(cde, lr=0.01, timestamps=False,  class_weights = 1/class_balance)\n",
    "\n",
    "results = trainer.test(learn, testloader)\n",
    "base_path = \"results/{}\".format(\"person\")\n",
    "os.makedirs(base_path, exist_ok=True)\n",
    "with open(\"{}/pt_ode_lstm_{}.csv\".format(base_path, 128), \"a\") as f:\n",
    "    f.write(\"{:06f}\\n\".format(results[0][\"val_acc\"]))"
   ]
  },
  {
   "cell_type": "markdown",
   "metadata": {},
   "source": [
    "#### Vis"
   ]
  },
  {
   "cell_type": "code",
   "execution_count": 24,
   "metadata": {
    "ExecuteTime": {
     "end_time": "2021-06-01T15:41:29.116164Z",
     "start_time": "2021-06-01T15:41:29.107402Z"
    }
   },
   "outputs": [],
   "source": [
    "import matplotlib.pyplot as plt"
   ]
  },
  {
   "cell_type": "code",
   "execution_count": 25,
   "metadata": {
    "ExecuteTime": {
     "end_time": "2021-06-01T15:41:29.415928Z",
     "start_time": "2021-06-01T15:41:29.412349Z"
    }
   },
   "outputs": [],
   "source": [
    "import numpy as np"
   ]
  },
  {
   "cell_type": "code",
   "execution_count": 26,
   "metadata": {
    "ExecuteTime": {
     "end_time": "2021-06-01T15:41:29.609715Z",
     "start_time": "2021-06-01T15:41:29.604405Z"
    }
   },
   "outputs": [],
   "source": [
    "# matplotlib\n",
    "SMALL_SIZE = 15\n",
    "MEDIUM_SIZE = 20\n",
    "BIGGER_SIZE = 30\n",
    "\n",
    "plt.rc('font', size=SMALL_SIZE)  # controls default text sizes\n",
    "plt.rc('axes', titlesize=SMALL_SIZE)  # fontsize of the axes title\n",
    "plt.rc('axes', labelsize=MEDIUM_SIZE)  # fontsize of the x and y labels\n",
    "plt.rc('xtick', labelsize=SMALL_SIZE)  # fontsize of the tick labels\n",
    "plt.rc('ytick', labelsize=SMALL_SIZE)  # fontsize of the tick labels\n",
    "plt.rc('legend', fontsize=SMALL_SIZE)  # legend fontsize\n",
    "plt.rc('figure', titlesize=BIGGER_SIZE)  # fontsize of the figure title"
   ]
  },
  {
   "cell_type": "code",
   "execution_count": 27,
   "metadata": {
    "ExecuteTime": {
     "end_time": "2021-06-01T15:41:51.222593Z",
     "start_time": "2021-06-01T15:41:30.694082Z"
    }
   },
   "outputs": [],
   "source": [
    "ds = P300Dataset('../data/demons/nery_demons_dataset')\n",
    "ds.get_data_for_experiments()"
   ]
  },
  {
   "cell_type": "code",
   "execution_count": 28,
   "metadata": {
    "ExecuteTime": {
     "end_time": "2021-06-01T15:41:51.227345Z",
     "start_time": "2021-06-01T15:41:51.224404Z"
    }
   },
   "outputs": [
    {
     "name": "stderr",
     "output_type": "stream",
     "text": [
      "/home/alina/conda/anaconda3/envs/neiry/lib/python3.7/site-packages/ipykernel/ipkernel.py:283: DeprecationWarning: `should_run_async` will not call `transform_cell` automatically in the future. Please pass the result to `transformed_cell` argument and any exception that happen during thetransform in `preprocessing_exc_tuple` in IPython 7.17 and above.\n",
      "  and should_run_async(code)\n"
     ]
    }
   ],
   "source": [
    "data = (ds.train_x, ds.train_y)"
   ]
  },
  {
   "cell_type": "code",
   "execution_count": 29,
   "metadata": {
    "ExecuteTime": {
     "end_time": "2021-06-01T15:41:51.232766Z",
     "start_time": "2021-06-01T15:41:51.229386Z"
    },
    "scrolled": true
   },
   "outputs": [],
   "source": [
    "idc_p300 = np.where(data[1]==1)[0]"
   ]
  },
  {
   "cell_type": "code",
   "execution_count": 30,
   "metadata": {
    "ExecuteTime": {
     "end_time": "2021-06-01T15:41:51.239160Z",
     "start_time": "2021-06-01T15:41:51.235135Z"
    }
   },
   "outputs": [],
   "source": [
    "n = 100000\n",
    "x = torch.stack((data[0][idc_p300[301]], data[0][2]))"
   ]
  },
  {
   "cell_type": "code",
   "execution_count": 31,
   "metadata": {
    "ExecuteTime": {
     "end_time": "2021-06-01T15:41:51.245812Z",
     "start_time": "2021-06-01T15:41:51.241423Z"
    }
   },
   "outputs": [
    {
     "data": {
      "text/plain": [
       "torch.Size([2, 40, 8])"
      ]
     },
     "execution_count": 31,
     "metadata": {},
     "output_type": "execute_result"
    }
   ],
   "source": [
    "x.shape"
   ]
  },
  {
   "cell_type": "code",
   "execution_count": 36,
   "metadata": {
    "ExecuteTime": {
     "end_time": "2021-06-01T15:43:19.717516Z",
     "start_time": "2021-06-01T15:43:12.440460Z"
    },
    "scrolled": true
   },
   "outputs": [
    {
     "name": "stdout",
     "output_type": "stream",
     "text": [
      "0\n"
     ]
    },
    {
     "data": {
      "image/png": "[encoded data removed]",
      "text/plain": [
       "<Figure size 864x576 with 1 Axes>"
      ]
     },
     "metadata": {
      "needs_background": "light"
     },
     "output_type": "display_data"
    }
   ],
   "source": [
    "for i in range(1):\n",
    "    print(i)\n",
    "    c = torchcde.natural_cubic_coeffs(x)\n",
    "    X = torchcde.NaturalCubicSpline(c)\n",
    "    XX = X.evaluate(np.arange(0,x.size(1), x.size(1)/n))\n",
    "    z0=X.evaluate(0)\n",
    "    times = torch.arange(0, x.size(1), x.size(1)/n)\n",
    "    z_t = torchcde.cdeint(X=X, z0=z0, func=cde.func, t=times.to(torch.float32))\n",
    "\n",
    "    time = ds.train_t[0,:]\n",
    "    new_time = np.linspace(start=ds.train_t[0,0], stop=ds.train_t[0, -1], num=len(XX[1, :,0]))\n",
    "    plt.figure(figsize = (12,8))\n",
    "    plt.plot(time, x[0, :, 0], alpha=0.7, label = 'наблюдения сигнала')\n",
    "    #plt.plot(new_time, XX[0, :,0], alpha=0.7, label = 'интерполяция сингала')\n",
    "    plt.plot(new_time, -z_t[0, :, 0].detach().numpy(), alpha=0.7, label = 'z(t)')\n",
    "    plt.ylabel('амплитуда сигнала, мкВ')\n",
    "    plt.xlabel('время, мс')\n",
    "    plt.legend()\n",
    "    plt.show()"
   ]
  },
  {
   "cell_type": "code",
   "execution_count": 16,
   "metadata": {
    "ExecuteTime": {
     "end_time": "2021-05-31T13:58:27.855300Z",
     "start_time": "2021-05-31T13:58:27.849569Z"
    }
   },
   "outputs": [
    {
     "name": "stderr",
     "output_type": "stream",
     "text": [
      "/home/alina/conda/anaconda3/envs/neiry/lib/python3.7/site-packages/ipykernel/ipkernel.py:283: DeprecationWarning: `should_run_async` will not call `transform_cell` automatically in the future. Please pass the result to `transformed_cell` argument and any exception that happen during thetransform in `preprocessing_exc_tuple` in IPython 7.17 and above.\n",
      "  and should_run_async(code)\n"
     ]
    }
   ],
   "source": [
    "c = torchcde.natural_cubic_coeffs(x)\n",
    "X = torchcde.NaturalCubicSpline(c)\n",
    "XX = X.evaluate(np.arange(0,x.size(1), x.size(1)/n))"
   ]
  },
  {
   "cell_type": "code",
   "execution_count": 17,
   "metadata": {
    "ExecuteTime": {
     "end_time": "2021-05-31T13:58:29.020525Z",
     "start_time": "2021-05-31T13:58:27.857321Z"
    }
   },
   "outputs": [],
   "source": [
    "z0=X.evaluate(0)\n",
    "times = torch.arange(0, x.size(1), x.size(1)/n)\n",
    "z_t = torchcde.cdeint(X=X, z0=z0, func=cde.func, t=times.to(torch.float32))"
   ]
  },
  {
   "cell_type": "code",
   "execution_count": 18,
   "metadata": {
    "ExecuteTime": {
     "end_time": "2021-05-31T13:58:29.348982Z",
     "start_time": "2021-05-31T13:58:29.022752Z"
    }
   },
   "outputs": [
    {
     "data": {
      "image/png": "[encoded data removed]",
      "text/plain": [
       "<Figure size 864x576 with 1 Axes>"
      ]
     },
     "metadata": {
      "needs_background": "light"
     },
     "output_type": "display_data"
    }
   ],
   "source": [
    "time = ds.train_t[0,:]\n",
    "new_time = np.linspace(start=ds.train_t[0,0], stop=ds.train_t[0, -1], num=len(XX[1, :,0]))\n",
    "plt.figure(figsize = (12,8))\n",
    "plt.plot(time, x[0, :, 0], alpha=0.7, label = 'наблюдения сигнала')\n",
    "plt.plot(new_time, XX[0, :,0], alpha=0.7, label = 'интерполяция сингала')\n",
    "plt.plot(new_time, -z_t[0, :, 0].detach().numpy(), alpha=0.7, label = 'z(t)')\n",
    "plt.ylabel('амплитуда сигнала, мкВ')\n",
    "plt.xlabel('время, мс')\n",
    "plt.legend()\n",
    "plt.show()"
   ]
  },
  {
   "cell_type": "code",
   "execution_count": 19,
   "metadata": {
    "ExecuteTime": {
     "end_time": "2021-05-31T13:58:29.646423Z",
     "start_time": "2021-05-31T13:58:29.350842Z"
    }
   },
   "outputs": [
    {
     "name": "stderr",
     "output_type": "stream",
     "text": [
      "/home/alina/conda/anaconda3/envs/neiry/lib/python3.7/site-packages/ipykernel/ipkernel.py:283: DeprecationWarning: `should_run_async` will not call `transform_cell` automatically in the future. Please pass the result to `transformed_cell` argument and any exception that happen during thetransform in `preprocessing_exc_tuple` in IPython 7.17 and above.\n",
      "  and should_run_async(code)\n"
     ]
    },
    {
     "data": {
      "image/png": "[encoded data removed]",
      "text/plain": [
       "<Figure size 864x576 with 1 Axes>"
      ]
     },
     "metadata": {
      "needs_background": "light"
     },
     "output_type": "display_data"
    }
   ],
   "source": [
    "time = ds.train_t[0,:]\n",
    "new_time = np.linspace(start=ds.train_t[0,0], stop=ds.train_t[0, -1], num=len(XX[1, :,0]))\n",
    "plt.figure(figsize = (12,8))\n",
    "plt.plot(time, x[1, :, 0], alpha=0.7, label = 'наблюдения сигнала')\n",
    "plt.plot(new_time, XX[1, :,0], alpha=0.7, label = 'интерполяция сингала')\n",
    "plt.plot(new_time, -z_t[1, :, 0].detach().numpy(), alpha=0.7, label = 'z(t)')\n",
    "plt.ylabel('амплитуда сигнала, мкВ')\n",
    "plt.xlabel('время, мс')\n",
    "plt.legend()\n",
    "plt.show()"
   ]
  },
  {
   "cell_type": "markdown",
   "metadata": {},
   "source": [
    "### ODELSTM"
   ]
  },
  {
   "cell_type": "code",
   "execution_count": 35,
   "metadata": {
    "ExecuteTime": {
     "end_time": "2021-06-06T17:02:09.052055Z",
     "start_time": "2021-06-06T17:02:09.048152Z"
    }
   },
   "outputs": [
    {
     "name": "stderr",
     "output_type": "stream",
     "text": [
      "/home/alina/conda/anaconda3/envs/neiry/lib/python3.7/site-packages/pytorch_lightning/utilities/distributed.py:68: UserWarning: Checkpoint directory logs/models/demons/odelstm/ exists and is not empty.\n",
      "  warnings.warn(*args, **kwargs)\n"
     ]
    }
   ],
   "source": [
    "checkpoint_callback = ModelCheckpoint(\n",
    "    monitor='val_f1',\n",
    "    mode = 'max',\n",
    "    dirpath='logs/models/demons/odelstm/',\n",
    "    save_top_k = 3,\n",
    ")"
   ]
  },
  {
   "cell_type": "code",
   "execution_count": 36,
   "metadata": {
    "ExecuteTime": {
     "end_time": "2021-06-06T17:02:57.865728Z",
     "start_time": "2021-06-06T17:02:09.380043Z"
    }
   },
   "outputs": [
    {
     "name": "stdout",
     "output_type": "stream",
     "text": [
      "train_x.shape:  torch.Size([39578, 40, 8])\n",
      "train_y.shape:  torch.Size([39578])\n",
      "Total number of train sequences: 39578\n",
      "Total number of test  sequences: 16962\n",
      "torch.Size([39578, 40, 1]) 40\n",
      "torch.Size([16962, 40, 1]) 40\n",
      "[ 0  1  2  3  4  5  7  9 11 13 14 15 16 17 18 19 20 21 22 23 24 25 26 29\n",
      " 30 33 34 35 36 37 38 39]\n",
      "torch.Size([39578, 32, 1]) 32\n",
      "torch.Size([16962, 32, 1]) 32\n",
      "torch.Size([39578, 32, 1]) torch.Size([39578, 32, 8])\n"
     ]
    }
   ],
   "source": [
    "trainloader, testloader, in_features, num_classes, return_sequences, class_balance = load_dataset(\n",
    "    'p300', timestamps=True, coeffs=False, batch_size=512,  data_dir = '../data/demons/nery_demons_dataset')"
   ]
  },
  {
   "cell_type": "code",
   "execution_count": 37,
   "metadata": {
    "ExecuteTime": {
     "end_time": "2021-06-06T17:02:57.888540Z",
     "start_time": "2021-06-06T17:02:57.868411Z"
    }
   },
   "outputs": [
    {
     "name": "stderr",
     "output_type": "stream",
     "text": [
      "/home/alina/conda/anaconda3/envs/neiry/lib/python3.7/site-packages/ipykernel/ipkernel.py:283: DeprecationWarning: `should_run_async` will not call `transform_cell` automatically in the future. Please pass the result to `transformed_cell` argument and any exception that happen during thetransform in `preprocessing_exc_tuple` in IPython 7.17 and above.\n",
      "  and should_run_async(code)\n"
     ]
    }
   ],
   "source": [
    "olstm = OdeLstm(\n",
    "    8,#original num of features\n",
    "    8,\n",
    "    num_classes,\n",
    "\n",
    "    return_sequences=False,\n",
    "    #memory = True,\n",
    "    #gated=True\n",
    "    #solver_type='fixed_rk4',\n",
    ")\n",
    "learn = IrregularSequenceLearner(olstm, lr=0.05, timestamps=True, class_weights = 1/class_balance)\n"
   ]
  },
  {
   "cell_type": "code",
   "execution_count": 38,
   "metadata": {
    "ExecuteTime": {
     "end_time": "2021-06-06T17:04:22.301525Z",
     "start_time": "2021-06-06T17:02:57.893947Z"
    },
    "scrolled": true
   },
   "outputs": [
    {
     "name": "stderr",
     "output_type": "stream",
     "text": [
      "GPU available: False, used: False\n",
      "TPU available: False, using: 0 TPU cores\n",
      "\n",
      "  | Name     | Type     | Params\n",
      "--------------------------------------\n",
      "0 | model    | OdeLstm  | 738   \n",
      "1 | accuracy | Accuracy | 0     \n",
      "2 | f1       | F1       | 0     \n",
      "--------------------------------------\n",
      "738       Trainable params\n",
      "0         Non-trainable params\n",
      "738       Total params\n",
      "0.003     Total estimated model params size (MB)\n"
     ]
    },
    {
     "name": "stdout",
     "output_type": "stream",
     "text": [
      "Epoch 0:   1%|          | 1/112 [01:14<2:17:03, 74.08s/it, loss=0.594, v_num=119, val_loss=0.720, val_f1=0.704, val_acc=0.795]\n"
     ]
    },
    {
     "name": "stderr",
     "output_type": "stream",
     "text": [
      "/home/alina/conda/anaconda3/envs/neiry/lib/python3.7/site-packages/pytorch_lightning/utilities/distributed.py:68: UserWarning: Detected KeyboardInterrupt, attempting graceful shutdown...\n",
      "  warnings.warn(*args, **kwargs)\n"
     ]
    },
    {
     "data": {
      "text/plain": [
       "1"
      ]
     },
     "execution_count": 38,
     "metadata": {},
     "output_type": "execute_result"
    }
   ],
   "source": [
    "\n",
    "\n",
    "trainer = pl.Trainer(\n",
    "    max_epochs=10,\n",
    "    progress_bar_refresh_rate=1,\n",
    "    gradient_clip_val=1,\n",
    "    callbacks=[checkpoint_callback]\n",
    "    \n",
    ")\n",
    "trainer.fit(learn, trainloader, val_dataloaders = testloader)\n"
   ]
  },
  {
   "cell_type": "code",
   "execution_count": 39,
   "metadata": {
    "ExecuteTime": {
     "end_time": "2021-06-06T17:04:22.317232Z",
     "start_time": "2021-06-06T17:04:22.306260Z"
    }
   },
   "outputs": [
    {
     "data": {
      "text/plain": [
       "{'val_loss': tensor(0.7196),\n",
       " 'val_f1': tensor(0.7041),\n",
       " 'val_acc': tensor(0.7949),\n",
       " 'epoch': tensor(0.),\n",
       " 'train_acc': tensor(0.8066),\n",
       " 'train_f1': tensor(0.7203),\n",
       " 'train_loss': tensor(0.5941)}"
      ]
     },
     "execution_count": 39,
     "metadata": {},
     "output_type": "execute_result"
    }
   ],
   "source": [
    "trainer.logged_metrics"
   ]
  },
  {
   "cell_type": "code",
   "execution_count": 42,
   "metadata": {
    "ExecuteTime": {
     "end_time": "2021-06-01T15:44:36.690099Z",
     "start_time": "2021-06-01T15:44:36.527621Z"
    }
   },
   "outputs": [],
   "source": [
    "hidden_state = [\n",
    "            torch.zeros((2, olstm.hidden_size)),\n",
    "            torch.zeros((2, olstm.hidden_size)),\n",
    "        ]\n",
    "outputs = []\n",
    "last_output = torch.zeros((2, olstm.out_feature))\n",
    "for t in range(x.size(1)):\n",
    "    inputs = x[:, t]\n",
    "    ts = times[:, t].squeeze()\n",
    "    hidden_state = olstm.rnn_cell.forward(inputs, hidden_state, ts)\n",
    "    outputs.append(hidden_state[0])"
   ]
  },
  {
   "cell_type": "code",
   "execution_count": 43,
   "metadata": {
    "ExecuteTime": {
     "end_time": "2021-06-01T15:44:38.355082Z",
     "start_time": "2021-06-01T15:44:38.346558Z"
    }
   },
   "outputs": [],
   "source": [
    "out = torch.stack(outputs).detach().numpy()"
   ]
  },
  {
   "cell_type": "code",
   "execution_count": 50,
   "metadata": {
    "ExecuteTime": {
     "end_time": "2021-06-01T15:45:15.500162Z",
     "start_time": "2021-06-01T15:45:15.314802Z"
    }
   },
   "outputs": [
    {
     "name": "stderr",
     "output_type": "stream",
     "text": [
      "/home/alina/conda/anaconda3/envs/neiry/lib/python3.7/site-packages/ipykernel/ipkernel.py:283: DeprecationWarning: `should_run_async` will not call `transform_cell` automatically in the future. Please pass the result to `transformed_cell` argument and any exception that happen during thetransform in `preprocessing_exc_tuple` in IPython 7.17 and above.\n",
      "  and should_run_async(code)\n"
     ]
    },
    {
     "data": {
      "image/png": "[encoded data removed]",
      "text/plain": [
       "<Figure size 864x576 with 1 Axes>"
      ]
     },
     "metadata": {
      "needs_background": "light"
     },
     "output_type": "display_data"
    }
   ],
   "source": [
    "plt.figure(figsize = (12,8))\n",
    "plt.plot(time, x[0, :, 0], alpha=0.7, label = 'наблюдения сигнала')\n",
    "plt.plot(time, out[:, 0, 6], alpha=0.7, label = 'h(t)[1]')\n",
    "plt.plot(time, out[:, 0, -1], alpha=0.7, label = 'h(t)[7]')\n",
    "\n",
    "plt.ylabel('амплитуда сигнала, мкВ')\n",
    "plt.xlabel('время, мс')\n",
    "plt.legend()\n",
    "plt.show()"
   ]
  },
  {
   "cell_type": "code",
   "execution_count": 23,
   "metadata": {
    "ExecuteTime": {
     "end_time": "2021-06-01T15:40:10.517917Z",
     "start_time": "2021-06-01T15:39:17.736091Z"
    }
   },
   "outputs": [
    {
     "name": "stdout",
     "output_type": "stream",
     "text": [
      "Testing: 100%|██████████| 34/34 [00:52<00:00,  1.55s/it]\n",
      "--------------------------------------------------------------------------------\n",
      "DATALOADER:0 TEST RESULTS\n",
      "{'val_acc': 0.7930079102516174,\n",
      " 'val_f1': 0.7214646339416504,\n",
      " 'val_loss': 0.6962085962295532}\n",
      "--------------------------------------------------------------------------------\n"
     ]
    }
   ],
   "source": [
    "\n",
    "\n",
    "results = trainer.test(learn, testloader)\n",
    "base_path = \"results/{}\".format(\"person_lcde\")\n",
    "os.makedirs(base_path, exist_ok=True)\n",
    "with open(\"{}/pt_ode_lstm_{}.csv\".format(base_path, 128), \"a\") as f:\n",
    "    f.write(\"{:06f}\\n\".format(results[0][\"val_acc\"]))"
   ]
  },
  {
   "cell_type": "markdown",
   "metadata": {},
   "source": [
    "### LMULSTM"
   ]
  },
  {
   "cell_type": "code",
   "execution_count": 6,
   "metadata": {
    "ExecuteTime": {
     "end_time": "2021-06-06T17:12:36.874241Z",
     "start_time": "2021-06-06T17:12:36.867123Z"
    }
   },
   "outputs": [
    {
     "name": "stderr",
     "output_type": "stream",
     "text": [
      "/home/alina/conda/anaconda3/envs/neiry/lib/python3.7/site-packages/pytorch_lightning/utilities/distributed.py:68: UserWarning: Checkpoint directory logs/models/demons/lmulstm/ exists and is not empty.\n",
      "  warnings.warn(*args, **kwargs)\n"
     ]
    }
   ],
   "source": [
    "checkpoint_callback = ModelCheckpoint(\n",
    "    monitor='val_f1',\n",
    "    mode = 'max',\n",
    "    dirpath='logs/models/demons/lmulstm/',\n",
    "    save_top_k = 3,\n",
    ")"
   ]
  },
  {
   "cell_type": "code",
   "execution_count": 7,
   "metadata": {
    "ExecuteTime": {
     "end_time": "2021-06-06T17:13:18.306773Z",
     "start_time": "2021-06-06T17:12:37.116708Z"
    }
   },
   "outputs": [
    {
     "name": "stdout",
     "output_type": "stream",
     "text": [
      "train_x.shape:  torch.Size([39578, 40, 8])\n",
      "train_y.shape:  torch.Size([39578])\n",
      "Total number of train sequences: 39578\n",
      "Total number of test  sequences: 16962\n",
      "torch.Size([39578, 40, 1]) 40\n",
      "torch.Size([16962, 40, 1]) 40\n",
      "[ 1  3  5  6  7  8  9 10 11 14 15 16 17 18 19 20 21 22 23 24 25 26 27 29\n",
      " 30 31 34 35 36 37 38 39]\n",
      "torch.Size([39578, 32, 1]) 32\n",
      "torch.Size([16962, 32, 1]) 32\n",
      "torch.Size([39578, 32, 1]) torch.Size([39578, 32, 8])\n"
     ]
    }
   ],
   "source": [
    "trainloader, testloader, in_features, num_classes, return_sequences, class_balance = load_dataset(\n",
    "    'p300', timestamps=False, coeffs=False, batch_size=1024,  data_dir = '../data/demons/nery_demons_dataset')"
   ]
  },
  {
   "cell_type": "code",
   "execution_count": 8,
   "metadata": {
    "ExecuteTime": {
     "end_time": "2021-06-06T17:13:18.326176Z",
     "start_time": "2021-06-06T17:13:18.309228Z"
    }
   },
   "outputs": [
    {
     "name": "stderr",
     "output_type": "stream",
     "text": [
      "/home/alina/conda/anaconda3/envs/neiry/lib/python3.7/site-packages/ipykernel/ipkernel.py:283: DeprecationWarning: `should_run_async` will not call `transform_cell` automatically in the future. Please pass the result to `transformed_cell` argument and any exception that happen during thetransform in `preprocessing_exc_tuple` in IPython 7.17 and above.\n",
      "  and should_run_async(code)\n"
     ]
    }
   ],
   "source": [
    "lmu = LmuLstm(\n",
    "    8,#original num of features\n",
    "    2,\n",
    "    2,\n",
    "    num_classes,\n",
    "    theta = 0.5,\n",
    "    return_sequences=False,\n",
    "    #memory = True,\n",
    "    #gated=True\n",
    "    #solver_type='fixed_rk4',\n",
    ")\n",
    "learn = IrregularSequenceLearner(lmu, lr=0.05, timestamps=False, class_weights = 1/class_balance)\n"
   ]
  },
  {
   "cell_type": "code",
   "execution_count": 9,
   "metadata": {
    "ExecuteTime": {
     "end_time": "2021-06-06T17:13:18.334964Z",
     "start_time": "2021-06-06T17:13:18.331629Z"
    }
   },
   "outputs": [],
   "source": [
    "tb_logger = pl_loggers.TensorBoardLogger('logs_pl/')"
   ]
  },
  {
   "cell_type": "code",
   "execution_count": 10,
   "metadata": {
    "ExecuteTime": {
     "end_time": "2021-06-06T17:14:04.557455Z",
     "start_time": "2021-06-06T17:13:18.337734Z"
    },
    "scrolled": true
   },
   "outputs": [
    {
     "name": "stderr",
     "output_type": "stream",
     "text": [
      "GPU available: False, used: False\n",
      "TPU available: False, using: 0 TPU cores\n",
      "\n",
      "  | Name     | Type     | Params\n",
      "--------------------------------------\n",
      "0 | model    | LmuLstm  | 66    \n",
      "1 | accuracy | Accuracy | 0     \n",
      "2 | f1       | F1       | 0     \n",
      "--------------------------------------\n",
      "66        Trainable params\n",
      "0         Non-trainable params\n",
      "66        Total params\n",
      "0.000     Total estimated model params size (MB)\n"
     ]
    },
    {
     "name": "stdout",
     "output_type": "stream",
     "text": [
      "Epoch 0:   0%|          | 0/56 [00:00<?, ?it/s]                       "
     ]
    },
    {
     "name": "stderr",
     "output_type": "stream",
     "text": [
      "../mt_code/models/lmu_torch.py:81: UserWarning: To copy construct from a tensor, it is recommended to use sourceTensor.clone().detach() or sourceTensor.clone().detach().requires_grad_(True), rather than torch.tensor(sourceTensor).\n",
      "  return (AT.to(dtype=torch.float32), torch.tensor(B, dtype=torch.float32))\n"
     ]
    },
    {
     "name": "stdout",
     "output_type": "stream",
     "text": [
      "Epoch 0:  70%|██████▉   | 39/56 [00:02<00:00, 17.46it/s, loss=0.503, v_num=0, val_loss=0.710, val_f1=0.621, val_acc=0.587, train_acc=0.812, train_f1=0.727, train_loss=0.485]\n",
      "Validating: 0it [00:00, ?it/s]\u001b[A\n",
      "Validating:   0%|          | 0/17 [00:00<?, ?it/s]\u001b[A\n",
      "Epoch 0:  75%|███████▌  | 42/56 [00:02<00:00, 17.05it/s, loss=0.503, v_num=0, val_loss=0.710, val_f1=0.621, val_acc=0.587, train_acc=0.812, train_f1=0.727, train_loss=0.485]\n",
      "Epoch 0:  82%|████████▏ | 46/56 [00:02<00:00, 17.80it/s, loss=0.503, v_num=0, val_loss=0.710, val_f1=0.621, val_acc=0.587, train_acc=0.812, train_f1=0.727, train_loss=0.485]\n",
      "Epoch 0:  89%|████████▉ | 50/56 [00:02<00:00, 18.41it/s, loss=0.503, v_num=0, val_loss=0.710, val_f1=0.621, val_acc=0.587, train_acc=0.812, train_f1=0.727, train_loss=0.485]\n",
      "Epoch 0:  96%|█████████▋| 54/56 [00:02<00:00, 19.04it/s, loss=0.503, v_num=0, val_loss=0.710, val_f1=0.621, val_acc=0.587, train_acc=0.812, train_f1=0.727, train_loss=0.485]\n",
      "Epoch 0: 100%|██████████| 56/56 [00:02<00:00, 18.97it/s, loss=0.503, v_num=0, val_loss=0.895, val_f1=0.719, val_acc=0.805, train_acc=0.797, train_f1=0.707, train_loss=0.504]\n",
      "Epoch 1:  71%|███████▏  | 40/56 [00:03<00:01, 12.81it/s, loss=0.502, v_num=0, val_loss=0.895, val_f1=0.719, val_acc=0.805, train_acc=0.792, train_f1=0.700, train_loss=0.512]\n",
      "Validating: 0it [00:00, ?it/s]\u001b[A\n",
      "Validating:   0%|          | 0/17 [00:00<?, ?it/s]\u001b[A\n",
      "Validating:   6%|▌         | 1/17 [00:00<00:05,  2.71it/s]\u001b[A\n",
      "Validating:  18%|█▊        | 3/17 [00:00<00:03,  3.63it/s]\u001b[A\n",
      "Epoch 1:  79%|███████▊  | 44/56 [00:03<00:01, 11.77it/s, loss=0.502, v_num=0, val_loss=0.895, val_f1=0.719, val_acc=0.805, train_acc=0.792, train_f1=0.700, train_loss=0.512]\n",
      "Validating:  35%|███▌      | 6/17 [00:00<00:01,  5.57it/s]\u001b[A\n",
      "Epoch 1:  86%|████████▌ | 48/56 [00:04<00:00, 11.96it/s, loss=0.502, v_num=0, val_loss=0.895, val_f1=0.719, val_acc=0.805, train_acc=0.792, train_f1=0.700, train_loss=0.512]\n",
      "Epoch 1:  93%|█████████▎| 52/56 [00:04<00:00, 12.39it/s, loss=0.502, v_num=0, val_loss=0.895, val_f1=0.719, val_acc=0.805, train_acc=0.792, train_f1=0.700, train_loss=0.512]\n",
      "Validating:  76%|███████▋  | 13/17 [00:01<00:00, 10.39it/s]\u001b[A\n",
      "Epoch 1: 100%|██████████| 56/56 [00:04<00:00, 12.46it/s, loss=0.502, v_num=0, val_loss=0.908, val_f1=0.719, val_acc=0.805, train_acc=0.793, train_f1=0.701, train_loss=0.510]\n",
      "Epoch 2:  71%|███████▏  | 40/56 [00:03<00:01, 10.35it/s, loss=0.502, v_num=0, val_loss=0.908, val_f1=0.719, val_acc=0.805, train_acc=0.802, train_f1=0.714, train_loss=0.498]\n",
      "Validating: 0it [00:00, ?it/s]\u001b[A\n",
      "Validating:   0%|          | 0/17 [00:00<?, ?it/s]\u001b[A\n",
      "Validating:   6%|▌         | 1/17 [00:00<00:04,  3.66it/s]\u001b[A\n",
      "Epoch 2:  79%|███████▊  | 44/56 [00:04<00:01, 10.21it/s, loss=0.502, v_num=0, val_loss=0.908, val_f1=0.719, val_acc=0.805, train_acc=0.802, train_f1=0.714, train_loss=0.498]\n",
      "Epoch 2:  86%|████████▌ | 48/56 [00:04<00:00, 10.69it/s, loss=0.502, v_num=0, val_loss=0.908, val_f1=0.719, val_acc=0.805, train_acc=0.802, train_f1=0.714, train_loss=0.498]\n",
      "Validating:  53%|█████▎    | 9/17 [00:00<00:01,  7.90it/s]\u001b[A\n",
      "Epoch 2:  93%|█████████▎| 52/56 [00:04<00:00, 10.95it/s, loss=0.502, v_num=0, val_loss=0.908, val_f1=0.719, val_acc=0.805, train_acc=0.802, train_f1=0.714, train_loss=0.498]\n",
      "Validating:  76%|███████▋  | 13/17 [00:00<00:00, 10.78it/s]\u001b[A\n",
      "Epoch 2: 100%|██████████| 56/56 [00:05<00:00, 11.12it/s, loss=0.502, v_num=0, val_loss=0.915, val_f1=0.719, val_acc=0.805, train_acc=0.823, train_f1=0.743, train_loss=0.469]\n",
      "Epoch 3:  71%|███████▏  | 40/56 [00:03<00:01, 11.76it/s, loss=0.504, v_num=0, val_loss=0.915, val_f1=0.719, val_acc=0.805, train_acc=0.802, train_f1=0.714, train_loss=0.498]\n",
      "Validating: 0it [00:00, ?it/s]\u001b[A\n",
      "Validating:   0%|          | 0/17 [00:00<?, ?it/s]\u001b[A\n",
      "Epoch 3:  79%|███████▊  | 44/56 [00:03<00:01, 11.91it/s, loss=0.504, v_num=0, val_loss=0.915, val_f1=0.719, val_acc=0.805, train_acc=0.802, train_f1=0.714, train_loss=0.498]\n",
      "Validating:  29%|██▉       | 5/17 [00:00<00:01,  7.01it/s]\u001b[A\n",
      "Epoch 3:  86%|████████▌ | 48/56 [00:03<00:00, 12.51it/s, loss=0.504, v_num=0, val_loss=0.915, val_f1=0.719, val_acc=0.805, train_acc=0.802, train_f1=0.714, train_loss=0.498]\n",
      "Epoch 3:  93%|█████████▎| 52/56 [00:03<00:00, 13.13it/s, loss=0.504, v_num=0, val_loss=0.915, val_f1=0.719, val_acc=0.805, train_acc=0.802, train_f1=0.714, train_loss=0.498]\n",
      "Epoch 3: 100%|██████████| 56/56 [00:04<00:00, 13.59it/s, loss=0.504, v_num=0, val_loss=0.921, val_f1=0.719, val_acc=0.805, train_acc=0.791, train_f1=0.699, train_loss=0.512]\n",
      "Epoch 4:  71%|███████▏  | 40/56 [00:03<00:01, 11.69it/s, loss=0.499, v_num=0, val_loss=0.921, val_f1=0.719, val_acc=0.805, train_acc=0.786, train_f1=0.692, train_loss=0.519]\n",
      "Validating: 0it [00:00, ?it/s]\u001b[A\n",
      "Validating:   0%|          | 0/17 [00:00<?, ?it/s]\u001b[A\n",
      "Validating:   6%|▌         | 1/17 [00:00<00:06,  2.48it/s]\u001b[A\n",
      "Epoch 4:  79%|███████▊  | 44/56 [00:04<00:01, 10.89it/s, loss=0.499, v_num=0, val_loss=0.921, val_f1=0.719, val_acc=0.805, train_acc=0.786, train_f1=0.692, train_loss=0.519]\n",
      "Validating:  29%|██▉       | 5/17 [00:00<00:02,  4.33it/s]\u001b[A\n",
      "Epoch 4:  86%|████████▌ | 48/56 [00:04<00:00, 11.25it/s, loss=0.499, v_num=0, val_loss=0.921, val_f1=0.719, val_acc=0.805, train_acc=0.786, train_f1=0.692, train_loss=0.519]\n",
      "Validating:  53%|█████▎    | 9/17 [00:00<00:01,  6.80it/s]\u001b[A\n",
      "Epoch 4:  93%|█████████▎| 52/56 [00:04<00:00, 11.53it/s, loss=0.499, v_num=0, val_loss=0.921, val_f1=0.719, val_acc=0.805, train_acc=0.786, train_f1=0.692, train_loss=0.519]\n",
      "Validating:  76%|███████▋  | 13/17 [00:01<00:00,  9.95it/s]\u001b[A\n",
      "Epoch 4: 100%|██████████| 56/56 [00:04<00:00, 11.62it/s, loss=0.499, v_num=0, val_loss=0.909, val_f1=0.719, val_acc=0.805, train_acc=0.815, train_f1=0.732, train_loss=0.480]\n",
      "Epoch 5:  71%|███████▏  | 40/56 [00:04<00:01,  9.36it/s, loss=0.503, v_num=0, val_loss=0.909, val_f1=0.719, val_acc=0.805, train_acc=0.802, train_f1=0.714, train_loss=0.498]\n",
      "Validating: 0it [00:00, ?it/s]\u001b[A\n",
      "Validating:   0%|          | 0/17 [00:00<?, ?it/s]\u001b[A\n",
      "Validating:   6%|▌         | 1/17 [00:00<00:05,  2.71it/s]\u001b[A\n",
      "Validating:  12%|█▏        | 2/17 [00:00<00:04,  3.34it/s]\u001b[A\n",
      "Epoch 5:  79%|███████▊  | 44/56 [00:04<00:01,  8.91it/s, loss=0.503, v_num=0, val_loss=0.909, val_f1=0.719, val_acc=0.805, train_acc=0.802, train_f1=0.714, train_loss=0.498]\n",
      "Validating:  29%|██▉       | 5/17 [00:00<00:02,  4.81it/s]\u001b[A\n",
      "Validating:  35%|███▌      | 6/17 [00:00<00:02,  5.38it/s]\u001b[A\n",
      "Epoch 5:  86%|████████▌ | 48/56 [00:05<00:00,  8.92it/s, loss=0.503, v_num=0, val_loss=0.909, val_f1=0.719, val_acc=0.805, train_acc=0.802, train_f1=0.714, train_loss=0.498]\n",
      "Validating:  53%|█████▎    | 9/17 [00:01<00:01,  7.73it/s]\u001b[A\n",
      "Epoch 5:  93%|█████████▎| 52/56 [00:05<00:00,  9.29it/s, loss=0.503, v_num=0, val_loss=0.909, val_f1=0.719, val_acc=0.805, train_acc=0.802, train_f1=0.714, train_loss=0.498]\n",
      "Validating:  76%|███████▋  | 13/17 [00:01<00:00, 10.75it/s]\u001b[A\n",
      "Epoch 5: 100%|██████████| 56/56 [00:05<00:00,  9.45it/s, loss=0.503, v_num=0, val_loss=0.909, val_f1=0.719, val_acc=0.805, train_acc=0.802, train_f1=0.714, train_loss=0.498]\n",
      "Epoch 5: 100%|██████████| 56/56 [00:06<00:00,  9.23it/s, loss=0.503, v_num=0, val_loss=0.923, val_f1=0.719, val_acc=0.805, train_acc=0.811, train_f1=0.726, train_loss=0.485]\n",
      "Epoch 6:  71%|███████▏  | 40/56 [00:04<00:01,  8.83it/s, loss=0.5, v_num=0, val_loss=0.923, val_f1=0.719, val_acc=0.805, train_acc=0.827, train_f1=0.749, train_loss=0.464]  \n",
      "Validating: 0it [00:00, ?it/s]\u001b[A\n",
      "Validating:   0%|          | 0/17 [00:00<?, ?it/s]\u001b[A\n",
      "Validating:   6%|▌         | 1/17 [00:00<00:04,  3.60it/s]\u001b[A\n",
      "Epoch 6:  79%|███████▊  | 44/56 [00:04<00:01,  8.83it/s, loss=0.5, v_num=0, val_loss=0.923, val_f1=0.719, val_acc=0.805, train_acc=0.827, train_f1=0.749, train_loss=0.464]\n",
      "Validating:  35%|███▌      | 6/17 [00:00<00:01,  6.21it/s]\u001b[A\n",
      "Epoch 6:  86%|████████▌ | 48/56 [00:05<00:00,  9.26it/s, loss=0.5, v_num=0, val_loss=0.923, val_f1=0.719, val_acc=0.805, train_acc=0.827, train_f1=0.749, train_loss=0.464]\n",
      "Epoch 6:  93%|█████████▎| 52/56 [00:05<00:00,  9.62it/s, loss=0.5, v_num=0, val_loss=0.923, val_f1=0.719, val_acc=0.805, train_acc=0.827, train_f1=0.749, train_loss=0.464]\n",
      "Epoch 6: 100%|██████████| 56/56 [00:05<00:00, 10.12it/s, loss=0.5, v_num=0, val_loss=0.923, val_f1=0.719, val_acc=0.805, train_acc=0.827, train_f1=0.749, train_loss=0.464]\n",
      "Epoch 6: 100%|██████████| 56/56 [00:05<00:00,  9.97it/s, loss=0.5, v_num=0, val_loss=0.923, val_f1=0.719, val_acc=0.805, train_acc=0.814, train_f1=0.730, train_loss=0.481]\n",
      "Epoch 7:  71%|███████▏  | 40/56 [00:02<00:00, 18.99it/s, loss=0.507, v_num=0, val_loss=0.923, val_f1=0.719, val_acc=0.805, train_acc=0.821, train_f1=0.741, train_loss=0.470]\n",
      "Validating: 0it [00:00, ?it/s]\u001b[A\n",
      "Validating:   0%|          | 0/17 [00:00<?, ?it/s]\u001b[A\n",
      "Epoch 7:  79%|███████▊  | 44/56 [00:02<00:00, 18.38it/s, loss=0.507, v_num=0, val_loss=0.923, val_f1=0.719, val_acc=0.805, train_acc=0.821, train_f1=0.741, train_loss=0.470]\n",
      "Epoch 7:  86%|████████▌ | 48/56 [00:02<00:00, 19.05it/s, loss=0.507, v_num=0, val_loss=0.923, val_f1=0.719, val_acc=0.805, train_acc=0.821, train_f1=0.741, train_loss=0.470]\n",
      "Epoch 7:  93%|█████████▎| 52/56 [00:02<00:00, 19.78it/s, loss=0.507, v_num=0, val_loss=0.923, val_f1=0.719, val_acc=0.805, train_acc=0.821, train_f1=0.741, train_loss=0.470]\n",
      "Epoch 7: 100%|██████████| 56/56 [00:02<00:00, 20.42it/s, loss=0.507, v_num=0, val_loss=0.923, val_f1=0.719, val_acc=0.805, train_acc=0.821, train_f1=0.741, train_loss=0.470]\n",
      "Epoch 7: 100%|██████████| 56/56 [00:02<00:00, 19.82it/s, loss=0.507, v_num=0, val_loss=0.950, val_f1=0.719, val_acc=0.805, train_acc=0.805, train_f1=0.718, train_loss=0.494]\n",
      "Epoch 8:  71%|███████▏  | 40/56 [00:02<00:01, 15.94it/s, loss=0.504, v_num=0, val_loss=0.950, val_f1=0.719, val_acc=0.805, train_acc=0.782, train_f1=0.687, train_loss=0.526]\n",
      "Validating: 0it [00:00, ?it/s]\u001b[A\n",
      "Validating:   0%|          | 0/17 [00:00<?, ?it/s]\u001b[A\n",
      "Validating:   6%|▌         | 1/17 [00:00<00:04,  3.65it/s]\u001b[A\n",
      "Validating:  18%|█▊        | 3/17 [00:00<00:03,  4.66it/s]\u001b[A\n",
      "Epoch 8:  79%|███████▊  | 44/56 [00:03<00:00, 14.34it/s, loss=0.504, v_num=0, val_loss=0.950, val_f1=0.719, val_acc=0.805, train_acc=0.782, train_f1=0.687, train_loss=0.526]\n",
      "Validating:  35%|███▌      | 6/17 [00:00<00:01,  6.86it/s]\u001b[A\n",
      "Epoch 8:  86%|████████▌ | 48/56 [00:03<00:00, 14.46it/s, loss=0.504, v_num=0, val_loss=0.950, val_f1=0.719, val_acc=0.805, train_acc=0.782, train_f1=0.687, train_loss=0.526]\n",
      "Epoch 8:  93%|█████████▎| 52/56 [00:03<00:00, 14.80it/s, loss=0.504, v_num=0, val_loss=0.950, val_f1=0.719, val_acc=0.805, train_acc=0.782, train_f1=0.687, train_loss=0.526]\n",
      "Epoch 8: 100%|██████████| 56/56 [00:03<00:00, 15.35it/s, loss=0.504, v_num=0, val_loss=0.950, val_f1=0.719, val_acc=0.805, train_acc=0.782, train_f1=0.687, train_loss=0.526]\n",
      "Epoch 8: 100%|██████████| 56/56 [00:03<00:00, 15.06it/s, loss=0.504, v_num=0, val_loss=0.916, val_f1=0.719, val_acc=0.805, train_acc=0.800, train_f1=0.712, train_loss=0.500]\n",
      "Epoch 9:  71%|███████▏  | 40/56 [00:02<00:01, 15.27it/s, loss=0.499, v_num=0, val_loss=0.916, val_f1=0.719, val_acc=0.805, train_acc=0.792, train_f1=0.700, train_loss=0.511]\n",
      "Validating: 0it [00:00, ?it/s]\u001b[A\n",
      "Validating:   0%|          | 0/17 [00:00<?, ?it/s]\u001b[A\n",
      "Validating:   6%|▌         | 1/17 [00:00<00:05,  2.94it/s]\u001b[A\n",
      "Epoch 9:  79%|███████▊  | 44/56 [00:03<00:00, 14.13it/s, loss=0.499, v_num=0, val_loss=0.916, val_f1=0.719, val_acc=0.805, train_acc=0.792, train_f1=0.700, train_loss=0.511]\n",
      "Validating:  35%|███▌      | 6/17 [00:00<00:02,  5.27it/s]\u001b[A\n",
      "Epoch 9:  86%|████████▌ | 48/56 [00:03<00:00, 14.32it/s, loss=0.499, v_num=0, val_loss=0.916, val_f1=0.719, val_acc=0.805, train_acc=0.792, train_f1=0.700, train_loss=0.511]\n",
      "Epoch 9:  93%|█████████▎| 52/56 [00:03<00:00, 14.35it/s, loss=0.499, v_num=0, val_loss=0.916, val_f1=0.719, val_acc=0.805, train_acc=0.792, train_f1=0.700, train_loss=0.511]\n",
      "Epoch 9: 100%|██████████| 56/56 [00:03<00:00, 14.91it/s, loss=0.499, v_num=0, val_loss=0.916, val_f1=0.719, val_acc=0.805, train_acc=0.792, train_f1=0.700, train_loss=0.511]\n",
      "Epoch 9: 100%|██████████| 56/56 [00:03<00:00, 14.62it/s, loss=0.499, v_num=0, val_loss=0.926, val_f1=0.719, val_acc=0.805, train_acc=0.808, train_f1=0.722, train_loss=0.490]\n",
      "Epoch 9: 100%|██████████| 56/56 [00:03<00:00, 14.59it/s, loss=0.499, v_num=0, val_loss=0.926, val_f1=0.719, val_acc=0.805, train_acc=0.808, train_f1=0.722, train_loss=0.490]\n"
     ]
    },
    {
     "data": {
      "text/plain": [
       "1"
      ]
     },
     "execution_count": 10,
     "metadata": {},
     "output_type": "execute_result"
    }
   ],
   "source": [
    "\n",
    "\n",
    "trainer = pl.Trainer(\n",
    "    max_epochs=10,\n",
    "    progress_bar_refresh_rate=1,\n",
    "    gradient_clip_val=1,\n",
    "    callbacks=[checkpoint_callback],\n",
    "    logger = tb_logger\n",
    ")\n",
    "trainer.fit(learn, trainloader, val_dataloaders = testloader)\n"
   ]
  },
  {
   "cell_type": "code",
   "execution_count": 15,
   "metadata": {
    "ExecuteTime": {
     "end_time": "2021-06-01T15:38:01.708095Z",
     "start_time": "2021-06-01T15:38:01.258176Z"
    }
   },
   "outputs": [
    {
     "name": "stdout",
     "output_type": "stream",
     "text": [
      "Testing: 100%|██████████| 17/17 [00:00<00:00, 39.30it/s]\n",
      "--------------------------------------------------------------------------------\n",
      "DATALOADER:0 TEST RESULTS\n",
      "{'val_acc': 0.8053885102272034,\n",
      " 'val_f1': 0.7186177968978882,\n",
      " 'val_loss': 0.9415196776390076}\n",
      "--------------------------------------------------------------------------------\n"
     ]
    }
   ],
   "source": [
    "\n",
    "\n",
    "results = trainer.test(learn, testloader)\n",
    "base_path = \"results/{}\".format(\"person_lcde\")\n",
    "os.makedirs(base_path, exist_ok=True)\n",
    "with open(\"{}/pt_ode_lstm_{}.csv\".format(base_path, 128), \"a\") as f:\n",
    "    f.write(\"{:06f}\\n\".format(results[0][\"val_acc\"]))"
   ]
  },
  {
   "cell_type": "code",
   "execution_count": null,
   "metadata": {
    "ExecuteTime": {
     "end_time": "2021-05-31T13:58:32.003205Z",
     "start_time": "2021-05-31T13:57:44.027Z"
    }
   },
   "outputs": [],
   "source": [
    "batch_size = x.size(0)\n",
    "seq_len = x.size(1)\n",
    "\n",
    "outputs = []\n",
    "last_output = torch.zeros((batch_size, lmu.out_feature))\n",
    "memory=None\n",
    "hidden=None\n",
    "for t in range(seq_len):\n",
    "    inputs = x[:, t]\n",
    "    # ts = timespans[:, t].squeeze()\n",
    "    hidden, memory = lmu.rnn_cell.forward(inputs, hidden, memory)\n",
    "\n",
    "    current_output = lmu.fc(hidden)\n",
    "    outputs.append(hidden)\n",
    "    last_output = current_output\n",
    "\n"
   ]
  },
  {
   "cell_type": "code",
   "execution_count": null,
   "metadata": {
    "ExecuteTime": {
     "end_time": "2021-05-31T13:58:32.003888Z",
     "start_time": "2021-05-31T13:57:44.030Z"
    }
   },
   "outputs": [],
   "source": [
    "out = torch.stack(outputs).detach().numpy()"
   ]
  },
  {
   "cell_type": "code",
   "execution_count": null,
   "metadata": {
    "ExecuteTime": {
     "end_time": "2021-05-31T13:58:32.004714Z",
     "start_time": "2021-05-31T13:57:44.034Z"
    }
   },
   "outputs": [],
   "source": [
    "plt.figure(figsize = (12,8))\n",
    "#plt.plot(time, x[0, :, 0], alpha=0.7, label = 'наблюдения сигнала')\n",
    "plt.plot(time, out[:, 0, :], alpha=0.7, label = 'h(t)[1]')\n",
    "#plt.plot(time, out[:, 0, :], alpha=0.7, label = 'h(t)[7]')\n",
    "\n",
    "plt.ylabel('амплитуда сигнала, мкВ')\n",
    "plt.xlabel('время, мс')\n",
    "plt.legend()\n",
    "plt.show()"
   ]
  },
  {
   "cell_type": "code",
   "execution_count": null,
   "metadata": {},
   "outputs": [],
   "source": []
  },
  {
   "cell_type": "markdown",
   "metadata": {},
   "source": [
    "## Activity dataset"
   ]
  },
  {
   "cell_type": "markdown",
   "metadata": {},
   "source": [
    "### CDE"
   ]
  },
  {
   "cell_type": "code",
   "execution_count": 16,
   "metadata": {
    "ExecuteTime": {
     "end_time": "2021-06-01T15:38:15.915331Z",
     "start_time": "2021-06-01T15:38:15.905208Z"
    }
   },
   "outputs": [
    {
     "name": "stderr",
     "output_type": "stream",
     "text": [
      "/home/alina/conda/anaconda3/envs/neiry/lib/python3.7/site-packages/pytorch_lightning/utilities/distributed.py:68: UserWarning: Checkpoint directory logs/models/activity/cde/ exists and is not empty.\n",
      "  warnings.warn(*args, **kwargs)\n"
     ]
    }
   ],
   "source": [
    "checkpoint_callback = ModelCheckpoint(\n",
    "    monitor='val_f1',\n",
    "    mode = 'max',\n",
    "    dirpath='logs/models/activity/cde/',\n",
    "    save_top_k = 3,\n",
    ")"
   ]
  },
  {
   "cell_type": "code",
   "execution_count": 10,
   "metadata": {
    "ExecuteTime": {
     "end_time": "2021-06-07T21:48:40.010727Z",
     "start_time": "2021-06-07T21:48:37.808645Z"
    }
   },
   "outputs": [
    {
     "name": "stdout",
     "output_type": "stream",
     "text": [
      "classes: tensor([[2, 2, 2,  ..., 2, 2, 2],\n",
      "        [0, 0, 0,  ..., 0, 0, 0],\n",
      "        [0, 0, 0,  ..., 0, 0, 0],\n",
      "        ...,\n",
      "        [0, 0, 0,  ..., 2, 2, 2],\n",
      "        [1, 1, 1,  ..., 1, 1, 1],\n",
      "        [2, 2, 2,  ..., 2, 2, 2]])\n",
      "torch.Size([7769, 32, 1]) 32\n",
      "torch.Size([1942, 32, 1]) 32\n"
     ]
    },
    {
     "ename": "NameError",
     "evalue": "name 'np' is not defined",
     "output_type": "error",
     "traceback": [
      "\u001b[0;31m---------------------------------------------------------------------------\u001b[0m",
      "\u001b[0;31mNameError\u001b[0m                                 Traceback (most recent call last)",
      "\u001b[0;32m<ipython-input-10-e362df2c9d1e>\u001b[0m in \u001b[0;36m<module>\u001b[0;34m\u001b[0m\n\u001b[1;32m      1\u001b[0m trainloader, testloader, in_features, num_classes, return_sequences, class_balance = load_dataset(\n\u001b[0;32m----> 2\u001b[0;31m     timestamps=False, coeffs=True, batch_size=512, data_dir='../data/person')\n\u001b[0m",
      "\u001b[0;32m<ipython-input-9-0c874eb9b27e>\u001b[0m in \u001b[0;36mload_dataset\u001b[0;34m(ds, timestamps, coeffs, irregular, batch_size, data_dir)\u001b[0m\n\u001b[1;32m     40\u001b[0m \u001b[0;34m\u001b[0m\u001b[0m\n\u001b[1;32m     41\u001b[0m         \u001b[0;32mfor\u001b[0m \u001b[0mts\u001b[0m \u001b[0;32min\u001b[0m \u001b[0mrange\u001b[0m\u001b[0;34m(\u001b[0m\u001b[0mlen\u001b[0m\u001b[0;34m(\u001b[0m\u001b[0mtrain_ts\u001b[0m\u001b[0;34m)\u001b[0m\u001b[0;34m)\u001b[0m\u001b[0;34m:\u001b[0m\u001b[0;34m\u001b[0m\u001b[0;34m\u001b[0m\u001b[0m\n\u001b[0;32m---> 42\u001b[0;31m             \u001b[0mirr_idc_train\u001b[0m \u001b[0;34m=\u001b[0m \u001b[0mnp\u001b[0m\u001b[0;34m.\u001b[0m\u001b[0mrandom\u001b[0m\u001b[0;34m.\u001b[0m\u001b[0mchoice\u001b[0m\u001b[0;34m(\u001b[0m\u001b[0mnp\u001b[0m\u001b[0;34m.\u001b[0m\u001b[0marange\u001b[0m\u001b[0;34m(\u001b[0m\u001b[0;36m0\u001b[0m\u001b[0;34m,\u001b[0m \u001b[0mtrain_ts\u001b[0m\u001b[0;34m.\u001b[0m\u001b[0msize\u001b[0m\u001b[0;34m(\u001b[0m\u001b[0;36m1\u001b[0m\u001b[0;34m)\u001b[0m\u001b[0;34m)\u001b[0m\u001b[0;34m,\u001b[0m \u001b[0msize\u001b[0m \u001b[0;34m=\u001b[0m \u001b[0mint\u001b[0m\u001b[0;34m(\u001b[0m\u001b[0;36m0.8\u001b[0m\u001b[0;34m*\u001b[0m\u001b[0mtrain_ts\u001b[0m\u001b[0;34m.\u001b[0m\u001b[0msize\u001b[0m\u001b[0;34m(\u001b[0m\u001b[0;36m1\u001b[0m\u001b[0;34m)\u001b[0m\u001b[0;34m)\u001b[0m\u001b[0;34m,\u001b[0m \u001b[0mreplace\u001b[0m \u001b[0;34m=\u001b[0m \u001b[0;32mFalse\u001b[0m\u001b[0;34m)\u001b[0m\u001b[0;34m\u001b[0m\u001b[0;34m\u001b[0m\u001b[0m\n\u001b[0m\u001b[1;32m     43\u001b[0m             \u001b[0mirr_idc_train\u001b[0m\u001b[0;34m.\u001b[0m\u001b[0msort\u001b[0m\u001b[0;34m(\u001b[0m\u001b[0;34m)\u001b[0m\u001b[0;34m\u001b[0m\u001b[0;34m\u001b[0m\u001b[0m\n\u001b[1;32m     44\u001b[0m             \u001b[0mprint\u001b[0m\u001b[0;34m(\u001b[0m\u001b[0mirr_idc_train\u001b[0m\u001b[0;34m)\u001b[0m\u001b[0;34m\u001b[0m\u001b[0;34m\u001b[0m\u001b[0m\n",
      "\u001b[0;31mNameError\u001b[0m: name 'np' is not defined"
     ]
    }
   ],
   "source": [
    "trainloader, testloader, in_features, num_classes, return_sequences, class_balance = load_dataset(\n",
    "    timestamps=False, coeffs=True, batch_size=512, data_dir='../data/person')"
   ]
  },
  {
   "cell_type": "code",
   "execution_count": 18,
   "metadata": {
    "ExecuteTime": {
     "end_time": "2021-06-01T15:38:19.922175Z",
     "start_time": "2021-06-01T15:38:19.918612Z"
    }
   },
   "outputs": [],
   "source": [
    "cde = NeuralCde(\n",
    "    7,#original num of features\n",
    "    8,\n",
    "    num_classes,\n",
    "\n",
    "    return_sequences=True,\n",
    "    #memory = True,\n",
    "    #gated=True\n",
    "    #solver_type='fixed_rk4',\n",
    ")\n"
   ]
  },
  {
   "cell_type": "code",
   "execution_count": null,
   "metadata": {
    "ExecuteTime": {
     "end_time": "2021-05-31T13:58:32.007799Z",
     "start_time": "2021-05-31T13:57:44.049Z"
    }
   },
   "outputs": [],
   "source": [
    "learn = IrregularSequenceLearner(cde, lr=0.1, timestamps=False, class_weights = 1/class_balance)\n"
   ]
  },
  {
   "cell_type": "code",
   "execution_count": null,
   "metadata": {
    "ExecuteTime": {
     "end_time": "2021-05-31T13:58:32.008470Z",
     "start_time": "2021-05-31T13:57:44.052Z"
    },
    "scrolled": true
   },
   "outputs": [],
   "source": [
    "\n",
    "\n",
    "trainer = pl.Trainer(\n",
    "    max_epochs=10,\n",
    "    progress_bar_refresh_rate=1,\n",
    "    gradient_clip_val=1,\n",
    "    callbacks=[checkpoint_callback]\n",
    "    \n",
    ")\n",
    "trainer.fit(learn, trainloader, val_dataloaders = testloader)\n"
   ]
  },
  {
   "cell_type": "code",
   "execution_count": null,
   "metadata": {
    "ExecuteTime": {
     "end_time": "2021-05-31T13:58:32.009219Z",
     "start_time": "2021-05-31T13:57:44.056Z"
    }
   },
   "outputs": [],
   "source": [
    "\n",
    "\n",
    "results = trainer.test(learn, testloader)\n",
    "base_path = \"results/{}\".format(\"person_lcde\")\n",
    "os.makedirs(base_path, exist_ok=True)\n",
    "with open(\"{}/pt_ode_lstm_{}.csv\".format(base_path, 128), \"a\") as f:\n",
    "    f.write(\"{:06f}\\n\".format(results[0][\"val_acc\"]))"
   ]
  },
  {
   "cell_type": "code",
   "execution_count": null,
   "metadata": {
    "ExecuteTime": {
     "end_time": "2021-05-31T13:58:32.010840Z",
     "start_time": "2021-05-31T13:57:44.060Z"
    }
   },
   "outputs": [],
   "source": [
    "best_path = checkpoint_callback.best_model_path\n",
    "checkpoint = torch.load()\n",
    "states = {}\n",
    "for k_new, k_old in zip(cde.state_dict().keys(), checkpoint['state_dict'].keys()):\n",
    "    states[k_new] = checkpoint['state_dict'].get(k_old)\n",
    "cde.load_state_dict(state_dict = states)\n",
    "    "
   ]
  },
  {
   "cell_type": "code",
   "execution_count": null,
   "metadata": {
    "ExecuteTime": {
     "end_time": "2021-05-31T13:58:32.011684Z",
     "start_time": "2021-05-31T13:57:44.062Z"
    }
   },
   "outputs": [],
   "source": [
    "learn = IrregularSequenceLearner(cde, lr=0.01, timestamps=False,  class_weights = 1/class_balance)\n",
    "\n",
    "results = trainer.test(learn, testloader)\n",
    "base_path = \"results/{}\".format(\"person\")\n",
    "os.makedirs(base_path, exist_ok=True)\n",
    "with open(\"{}/pt_ode_lstm_{}.csv\".format(base_path, 128), \"a\") as f:\n",
    "    f.write(\"{:06f}\\n\".format(results[0][\"val_acc\"]))"
   ]
  },
  {
   "cell_type": "code",
   "execution_count": null,
   "metadata": {},
   "outputs": [],
   "source": []
  },
  {
   "cell_type": "markdown",
   "metadata": {},
   "source": [
    "### ODELSTM "
   ]
  },
  {
   "cell_type": "code",
   "execution_count": null,
   "metadata": {
    "ExecuteTime": {
     "end_time": "2021-05-31T13:58:32.012394Z",
     "start_time": "2021-05-31T13:57:44.068Z"
    }
   },
   "outputs": [],
   "source": [
    "def run_exp(model_cls, logpath = 'logs/tmp'):\n",
    "    \n",
    "    checkpoint_callback = ModelCheckpoint(\n",
    "        monitor='val_f1',\n",
    "        mode = 'max',\n",
    "        dirpath=logpath,\n",
    "        save_top_k = 3,\n",
    "    )\n",
    "    \n",
    "    trainloader, testloader, in_features, num_classes, return_sequences, class_balance = load_dataset()\n",
    "    \n",
    "    model = model_cls(\n",
    "        in_features,\n",
    "        128,\n",
    "        num_classes,\n",
    "        return_sequences=return_sequences,\n",
    "        solver_type='fixed_rk4',\n",
    "    )\n",
    "    learn = IrregularSequenceLearner(model, lr=0.01, class_weights = 1/class_balance)\n",
    "\n",
    "    trainer = pl.Trainer(\n",
    "        max_epochs=10,\n",
    "        progress_bar_refresh_rate=1,\n",
    "        gradient_clip_val=1,\n",
    "        callbacks=[checkpoint_callback]\n",
    "\n",
    "    )\n",
    "    trainer.fit(learn, trainloader, val_dataloaders = testloader)\n",
    "\n",
    "    \n",
    "    best_path = checkpoint_callback.best_model_path\n",
    "    checkpoint = torch.load(best_path)\n",
    "    states = {}\n",
    "    for k_new, k_old in zip(ode_lstm.state_dict().keys(), checkpoint['state_dict'].keys()):\n",
    "        states[k_new] = checkpoint['state_dict'].get(k_old)\n",
    "    ode_lstm.load_state_dict(state_dict = states)\n",
    "\n",
    "\n",
    "    learn = IrregularSequenceLearner(ode_lstm, lr=0.01, class_weights = 1/class_balance)\n",
    "\n",
    "    results = trainer.test(learn, testloader)\n",
    "    base_path = \"results/{}\".format(\"person\")\n",
    "    os.makedirs(base_path, exist_ok=True)\n",
    "    with open(\"{}/pt_ode_lstm_{}.csv\".format(base_path, 128), \"a\") as f:\n",
    "        f.write(\"{:06f}\\n\".format(results[0][\"val_acc\"]))"
   ]
  },
  {
   "cell_type": "code",
   "execution_count": null,
   "metadata": {
    "ExecuteTime": {
     "end_time": "2021-05-31T13:58:32.012987Z",
     "start_time": "2021-05-31T13:57:44.071Z"
    }
   },
   "outputs": [],
   "source": [
    "checkpoint_callback = ModelCheckpoint(\n",
    "    monitor='val_f1',\n",
    "    mode = 'max',\n",
    "    dirpath='logs/models/activity/odelstm/',\n",
    "    save_top_k = 3,\n",
    ")"
   ]
  },
  {
   "cell_type": "code",
   "execution_count": null,
   "metadata": {
    "ExecuteTime": {
     "end_time": "2021-05-31T13:58:32.013654Z",
     "start_time": "2021-05-31T13:57:44.074Z"
    }
   },
   "outputs": [],
   "source": [
    "\n",
    "trainloader, testloader, in_features, num_classes, return_sequences, class_balance = load_dataset()\n"
   ]
  },
  {
   "cell_type": "code",
   "execution_count": null,
   "metadata": {
    "ExecuteTime": {
     "end_time": "2021-05-31T13:58:32.014260Z",
     "start_time": "2021-05-31T13:57:44.089Z"
    }
   },
   "outputs": [],
   "source": [
    "\n",
    "ode_lstm = OdeLstm(\n",
    "    in_features,\n",
    "    128,\n",
    "    num_classes,\n",
    "    return_sequences=return_sequences,\n",
    "    solver_type='fixed_rk4',\n",
    ")\n",
    "learn = IrregularSequenceLearner(ode_lstm, lr=0.01, class_weights = 1/class_balance)\n"
   ]
  },
  {
   "cell_type": "code",
   "execution_count": null,
   "metadata": {
    "ExecuteTime": {
     "end_time": "2021-05-31T13:58:32.014875Z",
     "start_time": "2021-05-31T13:57:44.103Z"
    }
   },
   "outputs": [],
   "source": [
    "trainer = pl.Trainer(\n",
    "    max_epochs=10,\n",
    "    progress_bar_refresh_rate=1,\n",
    "    gradient_clip_val=1,\n",
    "    callbacks=[checkpoint_callback]\n",
    "    \n",
    ")\n",
    "trainer.fit(learn, trainloader, val_dataloaders = testloader)\n"
   ]
  },
  {
   "cell_type": "code",
   "execution_count": null,
   "metadata": {
    "ExecuteTime": {
     "end_time": "2021-05-31T13:58:32.015556Z",
     "start_time": "2021-05-31T13:57:44.107Z"
    },
    "scrolled": true
   },
   "outputs": [],
   "source": [
    "\n",
    "results = trainer.test(learn, testloader)\n",
    "base_path = \"results/{}\".format(\"person\")\n",
    "os.makedirs(base_path, exist_ok=True)\n",
    "with open(\"{}/pt_ode_lstm_{}.csv\".format(base_path, 128), \"a\") as f:\n",
    "    f.write(\"{:06f}\\n\".format(results[0][\"val_acc\"]))"
   ]
  },
  {
   "cell_type": "code",
   "execution_count": null,
   "metadata": {
    "ExecuteTime": {
     "end_time": "2021-05-31T13:58:32.016195Z",
     "start_time": "2021-05-31T13:57:44.122Z"
    }
   },
   "outputs": [],
   "source": [
    "best_path = checkpoint_callback.best_model_path\n",
    "checkpoint = torch.load(best_path)\n",
    "states = {}\n",
    "for k_new, k_old in zip(ode_lstm.state_dict().keys(), checkpoint['state_dict'].keys()):\n",
    "    states[k_new] = checkpoint['state_dict'].get(k_old)\n",
    "ode_lstm.load_state_dict(state_dict = states)\n",
    "    "
   ]
  },
  {
   "cell_type": "code",
   "execution_count": null,
   "metadata": {
    "ExecuteTime": {
     "end_time": "2021-05-31T13:58:32.016806Z",
     "start_time": "2021-05-31T13:57:44.127Z"
    }
   },
   "outputs": [],
   "source": [
    "learn = IrregularSequenceLearner(ode_lstm, lr=0.01, class_weights = 1/class_balance)\n",
    "\n",
    "results = trainer.test(learn, testloader)\n",
    "base_path = \"results/{}\".format(\"person\")\n",
    "os.makedirs(base_path, exist_ok=True)\n",
    "with open(\"{}/pt_ode_lstm_{}.csv\".format(base_path, 128), \"a\") as f:\n",
    "    f.write(\"{:06f}\\n\".format(results[0][\"val_acc\"]))"
   ]
  },
  {
   "cell_type": "markdown",
   "metadata": {},
   "source": [
    "### LMULSTM"
   ]
  },
  {
   "cell_type": "code",
   "execution_count": null,
   "metadata": {
    "ExecuteTime": {
     "end_time": "2021-05-31T13:58:32.017487Z",
     "start_time": "2021-05-31T13:57:44.136Z"
    }
   },
   "outputs": [],
   "source": [
    "checkpoint_callback = ModelCheckpoint(\n",
    "    monitor='val_f1',\n",
    "    mode = 'max',\n",
    "    dirpath='logs/models/activity/lmulstm/',\n",
    "    save_top_k = 3,\n",
    ")"
   ]
  },
  {
   "cell_type": "code",
   "execution_count": null,
   "metadata": {
    "ExecuteTime": {
     "end_time": "2021-05-31T13:58:32.018265Z",
     "start_time": "2021-05-31T13:57:44.150Z"
    }
   },
   "outputs": [],
   "source": [
    "trainloader, testloader, in_features, num_classes, return_sequences, class_balance = load_dataset(\n",
    "    timestamps=False)"
   ]
  },
  {
   "cell_type": "code",
   "execution_count": null,
   "metadata": {
    "ExecuteTime": {
     "end_time": "2021-05-31T13:58:32.018952Z",
     "start_time": "2021-05-31T13:57:44.162Z"
    }
   },
   "outputs": [],
   "source": [
    "\n",
    "lmu_lstm = LmuLstm(\n",
    "    in_features,\n",
    "    128,\n",
    "    128,\n",
    "    num_classes,\n",
    "    5,\n",
    "    return_sequences=return_sequences,\n",
    "    memory = True,\n",
    "    #gated=True\n",
    "    #solver_type='fixed_rk4',\n",
    ")\n",
    "learn = IrregularSequenceLearner(lmu_lstm, lr=0.01, timestamps=False, class_weights = 1/class_balance)\n"
   ]
  },
  {
   "cell_type": "code",
   "execution_count": null,
   "metadata": {
    "ExecuteTime": {
     "end_time": "2021-05-31T13:58:32.019667Z",
     "start_time": "2021-05-31T13:57:44.168Z"
    }
   },
   "outputs": [],
   "source": [
    "def printgradnorm(self, grad_input, grad_output):\n",
    "\n",
    "    print('grad_input size:', grad_input[0].size())\n",
    "    print('grad_output size:', grad_output[0].size())\n",
    "    print('grad_input norm:', grad_input[0].norm())\n",
    "\n",
    "    \n"
   ]
  },
  {
   "cell_type": "code",
   "execution_count": null,
   "metadata": {
    "ExecuteTime": {
     "end_time": "2021-05-31T13:58:32.020340Z",
     "start_time": "2021-05-31T13:57:44.182Z"
    }
   },
   "outputs": [],
   "source": [
    "lmu_lstm.rnn_cell.memory_encoder.register_backward_hook(printgradnorm)"
   ]
  },
  {
   "cell_type": "code",
   "execution_count": null,
   "metadata": {
    "ExecuteTime": {
     "end_time": "2021-05-31T13:58:32.021076Z",
     "start_time": "2021-05-31T13:57:44.200Z"
    },
    "scrolled": true
   },
   "outputs": [],
   "source": [
    "trainer = pl.Trainer(\n",
    "    max_epochs=10,\n",
    "    progress_bar_refresh_rate=1,\n",
    "    gradient_clip_val=0.01,\n",
    "    callbacks=[checkpoint_callback]\n",
    "    \n",
    ")\n",
    "trainer.fit(learn, trainloader, val_dataloaders = testloader)\n",
    "\n"
   ]
  },
  {
   "cell_type": "code",
   "execution_count": null,
   "metadata": {
    "ExecuteTime": {
     "end_time": "2021-05-31T13:58:32.021800Z",
     "start_time": "2021-05-31T13:57:44.209Z"
    },
    "scrolled": true
   },
   "outputs": [],
   "source": [
    "\n",
    "results = trainer.test(learn, testloader)\n",
    "base_path = \"results/{}\".format(\"person_lmu\")\n",
    "os.makedirs(base_path, exist_ok=True)\n",
    "with open(\"{}/pt_ode_lstm_{}.csv\".format(base_path, 128), \"a\") as f:\n",
    "    f.write(\"{:06f}\\n\".format(results[0][\"val_acc\"]))"
   ]
  },
  {
   "cell_type": "code",
   "execution_count": null,
   "metadata": {
    "ExecuteTime": {
     "end_time": "2021-05-31T13:58:32.022451Z",
     "start_time": "2021-05-31T13:57:44.213Z"
    }
   },
   "outputs": [],
   "source": [
    "best_path = checkpoint_callback.best_model_path\n",
    "checkpoint = torch.load(best_path)\n",
    "states = {}\n",
    "for k_new, k_old in zip(lmu_lstm.state_dict().keys(), checkpoint['state_dict'].keys()):\n",
    "    states[k_new] = checkpoint['state_dict'].get(k_old)\n",
    "lmu_lstm.load_state_dict(state_dict = states)\n",
    "    "
   ]
  },
  {
   "cell_type": "code",
   "execution_count": null,
   "metadata": {
    "ExecuteTime": {
     "end_time": "2021-05-31T13:58:32.023461Z",
     "start_time": "2021-05-31T13:57:44.217Z"
    }
   },
   "outputs": [],
   "source": [
    "learn = IrregularSequenceLearner(lmu_lstm, lr=0.01, timestamps=False, class_weights = 1/class_balance)\n",
    "\n",
    "results = trainer.test(learn, testloader)\n",
    "base_path = \"results/{}\".format(\"person\")\n",
    "os.makedirs(base_path, exist_ok=True)\n",
    "with open(\"{}/pt_ode_lstm_{}.csv\".format(base_path, 128), \"a\") as f:\n",
    "    f.write(\"{:06f}\\n\".format(results[0][\"val_acc\"]))"
   ]
  },
  {
   "cell_type": "markdown",
   "metadata": {},
   "source": [
    "## Toy data"
   ]
  },
  {
   "cell_type": "code",
   "execution_count": null,
   "metadata": {
    "ExecuteTime": {
     "end_time": "2021-05-31T13:58:32.025850Z",
     "start_time": "2021-05-31T13:57:44.222Z"
    }
   },
   "outputs": [],
   "source": [
    "train_X, train_y = get_data()\n",
    "######################\n",
    "# input_channels=3 because we have both the horizontal and vertical position of a point in the spiral, \n",
    "# and time.\n",
    "# hidden_channels=8 is the number of hidden channels for the evolving z_t, which we get to choose.\n",
    "# output_channels=1 because we're doing binary classification.\n",
    "######################\n",
    "model =  LmuLstm(\n",
    "    in_features = 2, hidden_size = 8, order = 8, \n",
    "    out_feature = 1, theta = 0.005, memory = False\n",
    ")#ODELSTM(in_features=2, hidden_size=8, out_feature=1, return_sequences=False)\n",
    "optimizer = torch.optim.Adam(model.parameters(), lr=0.01)\n",
    "\n",
    "######################\n",
    "# Now we turn our dataset into a continuous path. We do this here via natural cubic spline interpolation.\n",
    "# The resulting `train_coeffs` are some tensors describing the path.\n",
    "# For most problems, it's advisable to save these coeffs and treat them as the dataset, \n",
    "# as this interpolation can take a long time.\n",
    "######################\n",
    "#train_coeffs = controldiffeq.natural_cubic_spline_coeffs(train_t, train_X)\n",
    "scheduler = torch.optim.lr_scheduler.StepLR(optimizer, step_size = 10, gamma=0.75)\n",
    "train_dataset = torch.utils.data.TensorDataset(train_X, train_y)\n",
    "train_dataloader = torch.utils.data.DataLoader(\n",
    "    train_dataset, batch_size=32)\n",
    "for epoch in range(30):\n",
    "    for batch in train_dataloader:\n",
    "        batch_x, batch_y = batch\n",
    "        pred_y = model(batch_x[:, :, 1:])#, batch_x[:, :, 0]).squeeze(-1)\n",
    "        loss = torch.nn.functional.binary_cross_entropy_with_logits(\n",
    "            pred_y, batch_y)\n",
    "        loss.backward()\n",
    "        optimizer.step()\n",
    "        optimizer.zero_grad()\n",
    "    \n",
    "    scheduler.step()\n",
    "    print('Epoch: {}   Training loss: {}    lr: {}'.format(epoch, loss.item(), optimizer.param_groups[0]['lr']))\n",
    "\n",
    "\n",
    "test_X, test_y = get_data()\n",
    "pred_y = model(test_X[:, :, 1:]).squeeze(-1)\n",
    "binary_prediction = (torch.sigmoid(pred_y) > 0.5).to(test_y.dtype)\n",
    "prediction_matches = (binary_prediction == test_y).to(test_y.dtype)\n",
    "proportion_correct = prediction_matches.sum() / test_y.size(0)\n",
    "print('Test Accuracy: {}'.format(proportion_correct))\n"
   ]
  },
  {
   "cell_type": "code",
   "execution_count": null,
   "metadata": {
    "ExecuteTime": {
     "end_time": "2021-05-31T13:58:32.027036Z",
     "start_time": "2021-05-31T13:57:44.226Z"
    }
   },
   "outputs": [],
   "source": [
    "train_X, train_y = get_data()\n",
    "######################\n",
    "# input_channels=3 because we have both the horizontal and vertical position of a point in the spiral, \n",
    "# and time.\n",
    "# hidden_channels=8 is the number of hidden channels for the evolving z_t, which we get to choose.\n",
    "# output_channels=1 because we're doing binary classification.\n",
    "######################\n",
    "model = OdeLstm(in_features=2, hidden_size=8, out_feature=1, return_sequences=False)\n",
    "optimizer = torch.optim.Adam(model.parameters(), lr=0.01)\n",
    "\n",
    "######################\n",
    "# Now we turn our dataset into a continuous path. We do this here via natural cubic spline interpolation.\n",
    "# The resulting `train_coeffs` are some tensors describing the path.\n",
    "# For most problems, it's advisable to save these coeffs and treat them as the dataset, \n",
    "# as this interpolation can take a long time.\n",
    "######################\n",
    "#train_coeffs = controldiffeq.natural_cubic_spline_coeffs(train_t, train_X)\n",
    "scheduler = torch.optim.lr_scheduler.StepLR(optimizer, step_size = 10, gamma=0.75)\n",
    "train_dataset = torch.utils.data.TensorDataset(train_X, train_y)\n",
    "train_dataloader = torch.utils.data.DataLoader(\n",
    "    train_dataset, batch_size=32)\n",
    "for epoch in range(30):\n",
    "    for batch in train_dataloader:\n",
    "        batch_x, batch_y = batch\n",
    "        pred_y = model(batch_x[:, :, 1:], batch_x[:, :, 0]).squeeze(-1)\n",
    "        loss = torch.nn.functional.binary_cross_entropy_with_logits(\n",
    "            pred_y, batch_y)\n",
    "        loss.backward()\n",
    "        optimizer.step()\n",
    "        optimizer.zero_grad()\n",
    "    \n",
    "    scheduler.step()\n",
    "    print('Epoch: {}   Training loss: {}    lr: {}'.format(epoch, loss.item(), optimizer.param_groups[0]['lr']))\n",
    "\n"
   ]
  },
  {
   "cell_type": "code",
   "execution_count": null,
   "metadata": {
    "ExecuteTime": {
     "end_time": "2021-05-31T13:58:32.028450Z",
     "start_time": "2021-05-31T13:57:44.230Z"
    }
   },
   "outputs": [],
   "source": [
    "\n",
    "test_X, test_y = get_data()\n",
    "pred_y = model(test_X[:, :, 1:], test_X[:, :, 0]).squeeze(-1)\n",
    "binary_prediction = (torch.sigmoid(pred_y) > 0.5).to(test_y.dtype)\n",
    "prediction_matches = (binary_prediction == test_y).to(test_y.dtype)\n",
    "proportion_correct = prediction_matches.sum() / test_y.size(0)\n",
    "print('Test Accuracy: {}'.format(proportion_correct))\n"
   ]
  },
  {
   "cell_type": "code",
   "execution_count": null,
   "metadata": {
    "ExecuteTime": {
     "end_time": "2021-05-31T13:58:32.029795Z",
     "start_time": "2021-05-31T13:57:44.234Z"
    }
   },
   "outputs": [],
   "source": [
    "num_epochs=30\n",
    "train_X, train_y = get_data()\n",
    "\n",
    "######################\n",
    "# input_channels=3 because we have both the horizontal and vertical position of a point in the spiral, and time.\n",
    "# hidden_channels=8 is the number of hidden channels for the evolving z_t, which we get to choose.\n",
    "# output_channels=1 because we're doing binary classification.\n",
    "######################\n",
    "model =NeuralCde(input_channels=3, hidden_channels=8, output_channels=1)\n",
    "optimizer = torch.optim.Adam(model.parameters())\n",
    "\n",
    "######################\n",
    "# Now we turn our dataset into a continuous path. We do this here via natural cubic spline interpolation.\n",
    "# The resulting `train_coeffs` is a tensor describing the path.\n",
    "# For most problems, it's probably easiest to save this tensor and treat it as the dataset.\n",
    "######################\n",
    "train_coeffs = torchcde.natural_cubic_coeffs(train_X)\n",
    "\n",
    "train_dataset = torch.utils.data.TensorDataset(train_coeffs, train_y)\n",
    "train_dataloader = torch.utils.data.DataLoader(train_dataset, batch_size=32)\n",
    "for epoch in range(num_epochs):\n",
    "    for batch in train_dataloader:\n",
    "        batch_coeffs, batch_y = batch\n",
    "        pred_y = model(batch_coeffs).squeeze(-1)\n",
    "        loss = torch.nn.functional.binary_cross_entropy_with_logits(pred_y, batch_y)\n",
    "        loss.backward()\n",
    "        optimizer.step()\n",
    "        optimizer.zero_grad()\n",
    "    print('Epoch: {}   Training loss: {}'.format(epoch, loss.item()))\n",
    "\n",
    "test_X, test_y = get_data()\n",
    "test_coeffs = torchcde.natural_cubic_coeffs(test_X)\n",
    "pred_y = model(test_coeffs).squeeze(-1)\n",
    "binary_prediction = (torch.sigmoid(pred_y) > 0.5).to(test_y.dtype)\n",
    "prediction_matches = (binary_prediction == test_y).to(test_y.dtype)\n",
    "proportion_correct = prediction_matches.sum() / test_y.size(0)\n",
    "print('Test Accuracy: {}'.format(proportion_correct))\n"
   ]
  },
  {
   "cell_type": "code",
   "execution_count": null,
   "metadata": {},
   "outputs": [],
   "source": []
  }
 ],
 "metadata": {
  "hide_input": false,
  "kernelspec": {
   "display_name": "neiry",
   "language": "python",
   "name": "neiry"
  },
  "language_info": {
   "codemirror_mode": {
    "name": "ipython",
    "version": 3
   },
   "file_extension": ".py",
   "mimetype": "text/x-python",
   "name": "python",
   "nbconvert_exporter": "python",
   "pygments_lexer": "ipython3",
   "version": "3.7.7"
  },
  "toc": {
   "base_numbering": 1,
   "nav_menu": {},
   "number_sections": true,
   "sideBar": true,
   "skip_h1_title": false,
   "title_cell": "Table of Contents",
   "title_sidebar": "Contents",
   "toc_cell": false,
   "toc_position": {
    "height": "calc(100% - 180px)",
    "left": "10px",
    "top": "150px",
    "width": "384px"
   },
   "toc_section_display": true,
   "toc_window_display": true
  }
 },
 "nbformat": 4,
 "nbformat_minor": 4
}
